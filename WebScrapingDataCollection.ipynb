{
  "nbformat": 4,
  "nbformat_minor": 0,
  "metadata": {
    "colab": {
      "provenance": [],
      "authorship_tag": "ABX9TyMz0xsXmcUGyC90vHJNLhA3",
      "include_colab_link": true
    },
    "kernelspec": {
      "name": "python3",
      "display_name": "Python 3"
    },
    "language_info": {
      "name": "python"
    }
  },
  "cells": [
    {
      "cell_type": "markdown",
      "metadata": {
        "id": "view-in-github",
        "colab_type": "text"
      },
      "source": [
        "<a href=\"https://colab.research.google.com/github/ThrishaJawahar/Falcon-9-Launch-Prediction/blob/main/WebScrapingDataCollection.ipynb\" target=\"_parent\"><img src=\"https://colab.research.google.com/assets/colab-badge.svg\" alt=\"Open In Colab\"/></a>"
      ]
    },
    {
      "cell_type": "markdown",
      "source": [
        "Objectives\n",
        "\n",
        "\n",
        "1.   Extract a Falcon 9 launch records HTML table from Wikipedia\n",
        "2.   Parse the table and convert it into a Pandas data frame"
      ],
      "metadata": {
        "id": "zW_SmeyW6jmB"
      }
    },
    {
      "cell_type": "code",
      "execution_count": 1,
      "metadata": {
        "colab": {
          "base_uri": "https://localhost:8080/"
        },
        "id": "t76H208y6jMS",
        "outputId": "e941059b-4606-413b-abc5-c6fc71af1d9d"
      },
      "outputs": [
        {
          "output_type": "stream",
          "name": "stdout",
          "text": [
            "Requirement already satisfied: beautifulsoup4 in /usr/local/lib/python3.10/dist-packages (4.12.3)\n",
            "Requirement already satisfied: soupsieve>1.2 in /usr/local/lib/python3.10/dist-packages (from beautifulsoup4) (2.6)\n",
            "Requirement already satisfied: requests in /usr/local/lib/python3.10/dist-packages (2.32.3)\n",
            "Requirement already satisfied: charset-normalizer<4,>=2 in /usr/local/lib/python3.10/dist-packages (from requests) (3.4.0)\n",
            "Requirement already satisfied: idna<4,>=2.5 in /usr/local/lib/python3.10/dist-packages (from requests) (3.10)\n",
            "Requirement already satisfied: urllib3<3,>=1.21.1 in /usr/local/lib/python3.10/dist-packages (from requests) (2.2.3)\n",
            "Requirement already satisfied: certifi>=2017.4.17 in /usr/local/lib/python3.10/dist-packages (from requests) (2024.12.14)\n"
          ]
        }
      ],
      "source": [
        "!pip3 install beautifulsoup4\n",
        "!pip3 install requests"
      ]
    },
    {
      "cell_type": "code",
      "source": [
        "import sys\n",
        "\n",
        "import requests\n",
        "from bs4 import BeautifulSoup\n",
        "import re\n",
        "import unicodedata\n",
        "import pandas as pd"
      ],
      "metadata": {
        "id": "HwuYr09o6yjU"
      },
      "execution_count": 2,
      "outputs": []
    },
    {
      "cell_type": "code",
      "source": [
        "import unicodedata\n",
        "\n",
        "def landing_status(table_cells):\n",
        "  landing = ''.join([status.strip() for status in table_cells.strings]).strip()\n",
        "  return landing if landing else 'None'\n",
        "\n",
        "def date_time(table_cells):\n",
        "  return [data_time.strip() for data_time in list(table_cells.strings)][0:2]\n",
        "\n",
        "def booster_version(table_cells):\n",
        "  out = ''.join([booster_version.strip() for i, booster_version in enumerate(table_cells.strings) if i % 2 == 0][0:-1])\n",
        "  return out.strip()\n",
        "\n",
        "def get_mass(table_cells):\n",
        "  mass = unicodedata.normalize(\"NFKD\", table_cells.text).strip()\n",
        "  if mass:\n",
        "\n",
        "        mass_index = mass.find(\"kg\")\n",
        "        if mass_index != -1:\n",
        "            new_mass = mass[0:mass_index + 2]\n",
        "        else:\n",
        "            new_mass = '0'\n",
        "  else:\n",
        "      new_mass = '0'\n",
        "  return new_mass\n",
        "\n",
        "def extract_column_from_header(row):\n",
        "\n",
        "    if row.br:\n",
        "        row.br.extract()\n",
        "    if row.a:\n",
        "        row.a.extract()\n",
        "    if row.sup:\n",
        "        row.sup.extract()\n",
        "\n",
        "    column_name = ' '.join(row.contents).strip()\n",
        "\n",
        "\n",
        "    if not column_name.isdigit() and column_name.strip():\n",
        "        return column_name\n",
        "    else:\n",
        "        return None\n",
        "\n"
      ],
      "metadata": {
        "id": "qDLNi4Vv63UF"
      },
      "execution_count": 7,
      "outputs": []
    },
    {
      "cell_type": "code",
      "source": [
        "static_url = \"https://en.wikipedia.org/w/index.php?title=List_of_Falcon_9_and_Falcon_Heavy_launches&oldid=1027686922\""
      ],
      "metadata": {
        "id": "j14zWhUc7qtw"
      },
      "execution_count": 8,
      "outputs": []
    },
    {
      "cell_type": "markdown",
      "source": [
        "TASK 1: Request the Falcon9 Launch Wiki page from its URL"
      ],
      "metadata": {
        "id": "N4LgGODQ7wvl"
      }
    },
    {
      "cell_type": "code",
      "source": [
        "\n",
        "response = requests.get(static_url)\n",
        "response_status = response.status_code\n",
        "print(response_status)\n"
      ],
      "metadata": {
        "colab": {
          "base_uri": "https://localhost:8080/"
        },
        "id": "Qg_mrb6x7upx",
        "outputId": "8421bbc2-424c-4f9b-cc80-eb4583904245"
      },
      "execution_count": 10,
      "outputs": [
        {
          "output_type": "stream",
          "name": "stdout",
          "text": [
            "200\n"
          ]
        }
      ]
    },
    {
      "cell_type": "code",
      "source": [
        "soup = BeautifulSoup(response.content, 'html.parser')\n",
        "page_title = soup.title.string\n",
        "print(\"Page Title:\", page_title)\n"
      ],
      "metadata": {
        "colab": {
          "base_uri": "https://localhost:8080/"
        },
        "id": "NVMOPKNu8A3w",
        "outputId": "5299ce17-9945-41d5-8ec6-e4de7eaa5aa9"
      },
      "execution_count": 12,
      "outputs": [
        {
          "output_type": "stream",
          "name": "stdout",
          "text": [
            "Page Title: List of Falcon 9 and Falcon Heavy launches - Wikipedia\n"
          ]
        }
      ]
    },
    {
      "cell_type": "markdown",
      "source": [
        "TASK 2: Extract all column/variable names from the HTML table header"
      ],
      "metadata": {
        "id": "05tJqxat8LCI"
      }
    },
    {
      "cell_type": "code",
      "source": [
        "\n",
        "tables = soup.find_all('table')\n",
        "\n",
        "\n",
        "table = tables[0]\n",
        "header_cells = table.find_all('th')\n",
        "if not header_cells:\n",
        "    header_cells = table.find_all('td')\n",
        "\n",
        "html_tables = [cell.get_text(strip=True) for cell in header_cells]\n",
        "print(\"Column Names:\", html_tables)\n",
        "\n"
      ],
      "metadata": {
        "colab": {
          "base_uri": "https://localhost:8080/"
        },
        "id": "j9shZS778IT-",
        "outputId": "d08fe67d-3fea-420a-f543-fe4946d11159"
      },
      "execution_count": 19,
      "outputs": [
        {
          "output_type": "stream",
          "name": "stdout",
          "text": [
            "Column Names: [\"Rocket configurations51015202530'11'12'13'14'15'16'17'18'19'20'21Falcon 9 v1.0Falcon 9 v1.1Falcon 9 Full ThrustFalcon 9 FT (reused)Falcon 9 Block 5Falcon 9 B5 (reused)Falcon Heavy\", \"Launch sites51015202530'10'11'12'13'14'15'16'17'18'19'20'21CCSFS,SLC-40KSC,LC-39AVAFB,SLC-4E\"]\n"
          ]
        }
      ]
    },
    {
      "cell_type": "code",
      "source": [
        "\n",
        "if len(html_tables) > 2:\n",
        "    first_launch_table = html_tables[2]\n",
        "    print(first_launch_table)\n",
        "else:\n",
        "    print(\"html_tables does not have an element at index 2. Length of html_tables:\", len(html_tables))\n",
        "    print(\"html_tables content:\", html_tables)"
      ],
      "metadata": {
        "colab": {
          "base_uri": "https://localhost:8080/"
        },
        "id": "10yBT4z68b3q",
        "outputId": "c40e1901-4692-43b6-d6c9-0351c438d423"
      },
      "execution_count": 15,
      "outputs": [
        {
          "output_type": "stream",
          "name": "stdout",
          "text": [
            "html_tables does not have an element at index 2. Length of html_tables: 2\n",
            "html_tables content: [\"Rocket configurations51015202530'10'11'12'13'14'15'16'17'18'19'20'21Falcon 9 v1.0Falcon 9 v1.1Falcon 9 Full ThrustFalcon 9 FT (reused)Falcon 9 Block 5Falcon 9 B5 (reused)Falcon Heavy\", \"Launch sites51015202530'10'11'12'13'14'15'16'17'18'19'20'21CCSFS,SLC-40KSC,LC-39AVAFB,SLC-4E\"]\n"
          ]
        }
      ]
    },
    {
      "cell_type": "markdown",
      "source": [
        "Task 3: Create a data frame by parsing the launch HTML tables"
      ],
      "metadata": {
        "id": "n8HffzHR84BB"
      }
    },
    {
      "cell_type": "code",
      "source": [
        "def extract_column_from_header(row):\n",
        "\n",
        "    if row.br:\n",
        "        row.br.extract()\n",
        "    if row.a:\n",
        "        row.a.extract()\n",
        "    if row.sup:\n",
        "        row.sup.extract()\n",
        "\n",
        "\n",
        "    text_elements = [text for text in row.stripped_strings]\n",
        "\n",
        "\n",
        "    column_name = ' '.join(text_elements).strip()\n",
        "\n",
        "    if not column_name.isdigit() and column_name.strip():\n",
        "        return column_name\n",
        "    else:\n",
        "        return None"
      ],
      "metadata": {
        "id": "KcUXOlNv9vbQ"
      },
      "execution_count": 20,
      "outputs": []
    },
    {
      "cell_type": "code",
      "source": [
        "\n",
        "column_names = ['Flight No.', 'Launch site', 'Payload', 'Payload mass', 'Orbit', 'Customer', 'Launch outcome', 'Version Booster', 'Booster landing', 'Date', 'Time', 'Date and time ( )']\n",
        "launch_dict = dict.fromkeys(column_names)\n",
        "del launch_dict['Date and time ( )']\n",
        "launch_dict['Flight No.'] = []\n",
        "launch_dict['Launch site'] = []\n",
        "launch_dict['Payload'] = []\n",
        "launch_dict['Payload mass'] = []\n",
        "launch_dict['Orbit'] = []\n",
        "launch_dict['Customer'] = []\n",
        "launch_dict['Launch outcome'] = []\n",
        "launch_dict['Version Booster'] = []\n",
        "launch_dict['Booster landing'] = []\n",
        "launch_dict['Date'] = []\n",
        "launch_dict['Time'] = []"
      ],
      "metadata": {
        "id": "4oAnbc0T9AQI"
      },
      "execution_count": 22,
      "outputs": []
    },
    {
      "cell_type": "code",
      "source": [
        "\n",
        "launch_dict = {\n",
        "    \"Flight No.\": [],\n",
        "    \"Date\": [],\n",
        "    \"Time\": [],\n",
        "    \"Version Booster\": [],\n",
        "    \"Launch Site\": [],\n",
        "    \"Payload\": [],\n",
        "    \"Payload mass\": [],\n",
        "    \"Orbit\": [],\n",
        "    \"Customer\": [],\n",
        "    \"Launch outcome\": [],\n",
        "    \"Booster landing\": []\n",
        "}\n",
        "\n",
        "extracted_row = 0\n",
        "\n",
        "\n",
        "for table_number, table in enumerate(soup.find_all('table', \"wikitable plainrowheaders collapsible\")):\n",
        "\n",
        "    for rows in table.find_all(\"tr\"):\n",
        "\n",
        "        if rows.th:\n",
        "            if rows.th.string:\n",
        "                flight_number = rows.th.string.strip()\n",
        "                flag = flight_number.isdigit()\n",
        "        else:\n",
        "            flag = False\n",
        "\n",
        "\n",
        "        row = rows.find_all('td')\n",
        "\n",
        "\n",
        "        if flag:\n",
        "            extracted_row += 1\n",
        "\n",
        "\n",
        "            launch_dict[\"Flight No.\"].append(flight_number)\n",
        "\n",
        "\n",
        "            datatimelist = date_time(row[0]) if row[0] else [\"\", \"\"]\n",
        "            date = datatimelist[0].strip(',') if datatimelist[0] else \"N/A\"\n",
        "            time = datatimelist[1] if datatimelist[1] else \"N/A\"\n",
        "            launch_dict[\"Date\"].append(date)\n",
        "            launch_dict[\"Time\"].append(time)\n",
        "\n",
        "\n",
        "            bv = booster_version(row[1]) if row[1] else None\n",
        "            bv = bv or (row[1].a.string if row[1] and row[1].a else \"N/A\")\n",
        "            launch_dict[\"Version Booster\"].append(bv)\n",
        "\n",
        "\n",
        "            launch_site = row[2].a.string if row[2] and row[2].a else \"N/A\"\n",
        "            launch_dict[\"Launch Site\"].append(launch_site)\n",
        "\n",
        "\n",
        "            payload = row[3].a.string if row[3] and row[3].a else \"N/A\"\n",
        "            launch_dict[\"Payload\"].append(payload)\n",
        "\n",
        "\n",
        "            payload_mass = get_mass(row[4]) if row[4] else \"N/A\"\n",
        "            launch_dict[\"Payload mass\"].append(payload_mass)\n",
        "\n",
        "\n",
        "            orbit = row[5].a.string if row[5] and row[5].a else \"N/A\"\n",
        "            launch_dict[\"Orbit\"].append(orbit)\n",
        "\n",
        "\n",
        "            customer = row[6].a.string if row[6] and row[6].a else \"N/A\"\n",
        "            launch_dict[\"Customer\"].append(customer)\n",
        "\n",
        "\n",
        "            launch_outcome = list(row[7].strings)[0] if row[7] else \"N/A\"\n",
        "            launch_dict[\"Launch outcome\"].append(launch_outcome)\n",
        "\n",
        "\n",
        "            booster_landing = landing_status(row[8]) if row[8] else \"N/A\"\n",
        "            launch_dict[\"Booster landing\"].append(booster_landing)\n",
        "\n",
        "print(f\"Total rows extracted: {extracted_row}\")\n"
      ],
      "metadata": {
        "colab": {
          "base_uri": "https://localhost:8080/"
        },
        "id": "hSBwynZh_K4D",
        "outputId": "c5c02de0-0ce7-4562-a70c-eb23edc8a864"
      },
      "execution_count": 24,
      "outputs": [
        {
          "output_type": "stream",
          "name": "stdout",
          "text": [
            "Total rows extracted: 121\n"
          ]
        }
      ]
    },
    {
      "cell_type": "code",
      "source": [
        "df= pd.DataFrame({ key:pd.Series(value) for key, value in launch_dict.items() })"
      ],
      "metadata": {
        "id": "cbvvvA2Q_iHp"
      },
      "execution_count": 25,
      "outputs": []
    },
    {
      "cell_type": "code",
      "source": [
        "df.to_csv('spacex_web_scraped.csv', index=False)"
      ],
      "metadata": {
        "id": "gNpQ4aUY_jWg"
      },
      "execution_count": 26,
      "outputs": []
    }
  ]
}