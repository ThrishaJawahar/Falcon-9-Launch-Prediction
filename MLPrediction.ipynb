{
  "nbformat": 4,
  "nbformat_minor": 0,
  "metadata": {
    "colab": {
      "provenance": [],
      "authorship_tag": "ABX9TyOpe5nQQ1CKnwjN11M9wKQv",
      "include_colab_link": true
    },
    "kernelspec": {
      "name": "python3",
      "display_name": "Python 3"
    },
    "language_info": {
      "name": "python"
    }
  },
  "cells": [
    {
      "cell_type": "markdown",
      "metadata": {
        "id": "view-in-github",
        "colab_type": "text"
      },
      "source": [
        "<a href=\"https://colab.research.google.com/github/ThrishaJawahar/Falcon-9-Launch-Prediction/blob/main/MLPrediction.ipynb\" target=\"_parent\"><img src=\"https://colab.research.google.com/assets/colab-badge.svg\" alt=\"Open In Colab\"/></a>"
      ]
    },
    {
      "cell_type": "markdown",
      "source": [
        "Objectives\n",
        "\n",
        "1. Perform exploratory Data Analysis and determine Training Labels\n",
        "2. create a column for the class\n",
        "3. Standardize the data\n",
        "4. Split into training data and test data\n",
        "5. Find best Hyperparameter for SVM, Classification Trees and Logistic Regression\n",
        "6. Find the method performs best using test data"
      ],
      "metadata": {
        "id": "cQioLwJufuAQ"
      }
    },
    {
      "cell_type": "markdown",
      "source": [
        "TASK 1\n",
        "\n",
        "Create a NumPy array from the column Class in data, by applying the method to_numpy() then assign it to the variable Y,make sure the output is a Pandas series (only one bracket df['name of column'])."
      ],
      "metadata": {
        "id": "SubwG--_c7p7"
      }
    },
    {
      "cell_type": "code",
      "execution_count": 3,
      "metadata": {
        "colab": {
          "base_uri": "https://localhost:8080/"
        },
        "id": "1cmtPhJVc7JF",
        "outputId": "07270501-38a2-4a56-d01d-00307fb8c31e"
      },
      "outputs": [
        {
          "output_type": "stream",
          "name": "stdout",
          "text": [
            "NumPy array Y:\n",
            "[0 0 0 0 0 0 1 1 0 0 0 0 1 0 0 0 1 0 0 1 1 1 1 1 0 1 1 0 1 1 0 1 1 1 0 1 1\n",
            " 1 1 1 1 1 1 1 1 0 0 0 1 1 0 0 1 1 1 1 1 1 1 0 0 1 1 1 1 1 1 0 1 1 1 1 0 1\n",
            " 0 1 0 1 1 1 1 1 1 1 1 1 1 1 1 1]\n"
          ]
        }
      ],
      "source": [
        "import pandas as pd\n",
        "\n",
        "URL1 = \"https://cf-courses-data.s3.us.cloud-object-storage.appdomain.cloud/IBM-DS0321EN-SkillsNetwork/datasets/dataset_part_2.csv\"\n",
        "URL2 = \"https://cf-courses-data.s3.us.cloud-object-storage.appdomain.cloud/IBM-DS0321EN-SkillsNetwork/datasets/dataset_part_3.csv\"\n",
        "\n",
        "\n",
        "df1 = pd.read_csv(URL1)\n",
        "df2 = pd.read_csv(URL2)\n",
        "\n",
        "\n",
        "Y = df1['Class'].to_numpy()\n",
        "\n",
        "\n",
        "print(\"NumPy array Y:\")\n",
        "print(Y)\n"
      ]
    },
    {
      "cell_type": "markdown",
      "source": [
        "TASK 2\n",
        "\n",
        "Standardize the data in X then reassign it to the variable X using the transform provided below."
      ],
      "metadata": {
        "id": "OOrflZwWdEif"
      }
    },
    {
      "cell_type": "code",
      "source": [
        "from sklearn.preprocessing import StandardScaler\n",
        "\n",
        "X = df1[['FlightNumber', 'PayloadMass', 'Orbit', 'LaunchSite', 'Flights', 'GridFins', 'Reused', 'Legs', 'LandingPad', 'Block', 'ReusedCount', 'Serial']]\n",
        "\n",
        "X = pd.get_dummies(X, columns=['Orbit', 'LaunchSite', 'LandingPad', 'Serial'])\n",
        "\n",
        "scaler = StandardScaler()\n",
        "X = scaler.fit_transform(X)\n",
        "\n",
        "X = pd.DataFrame(X, columns=scaler.feature_names_in_)\n",
        "print(\"Standardized X:\")\n",
        "print(X.head())"
      ],
      "metadata": {
        "colab": {
          "base_uri": "https://localhost:8080/"
        },
        "id": "lGD-IGRKdIV2",
        "outputId": "382a9641-a7d7-41ab-ab56-1773d19a6a2a"
      },
      "execution_count": 4,
      "outputs": [
        {
          "output_type": "stream",
          "name": "stdout",
          "text": [
            "Standardized X:\n",
            "   FlightNumber   PayloadMass   Flights  ...  Serial_B1059  Serial_B1060  Serial_B1062\n",
            "0     -1.712912 -1.948145e-16 -0.653913  ...     -0.215666     -0.185695        -0.106\n",
            "1     -1.674419 -1.195232e+00 -0.653913  ...     -0.215666     -0.185695        -0.106\n",
            "2     -1.635927 -1.162673e+00 -0.653913  ...     -0.215666     -0.185695        -0.106\n",
            "3     -1.597434 -1.200587e+00 -0.653913  ...     -0.215666     -0.185695        -0.106\n",
            "4     -1.558942 -6.286706e-01 -0.653913  ...     -0.215666     -0.185695        -0.106\n",
            "\n",
            "[5 rows x 80 columns]\n"
          ]
        }
      ]
    },
    {
      "cell_type": "markdown",
      "source": [
        "TASK 3\n",
        "\n",
        "Use the function train_test_split to split the data X and Y into training and test data. Set the parameter test_size to 0.2 and random_state to 2. The training data and test data should be assigned to the following labels.\n",
        "\n",
        "X_train, X_test, Y_train, Y_test"
      ],
      "metadata": {
        "id": "sEz7YUK1dSAr"
      }
    },
    {
      "cell_type": "code",
      "source": [
        "from sklearn.model_selection import train_test_split\n",
        "\n",
        "X_train, X_test, Y_train, Y_test = train_test_split(X, Y, test_size=0.2, random_state=2)\n",
        "\n",
        "print(\"X_train shape:\", X_train.shape)\n",
        "print(\"X_test shape:\", X_test.shape)\n",
        "print(\"Y_train shape:\", Y_train.shape)\n",
        "print(\"Y_test shape:\", Y_test.shape)"
      ],
      "metadata": {
        "colab": {
          "base_uri": "https://localhost:8080/"
        },
        "id": "4cp-q278dVce",
        "outputId": "04d1b46e-1d15-42b5-f478-48dd0e2966a7"
      },
      "execution_count": 5,
      "outputs": [
        {
          "output_type": "stream",
          "name": "stdout",
          "text": [
            "X_train shape: (72, 80)\n",
            "X_test shape: (18, 80)\n",
            "Y_train shape: (72,)\n",
            "Y_test shape: (18,)\n"
          ]
        }
      ]
    },
    {
      "cell_type": "markdown",
      "source": [
        "TASK 4\n",
        "\n",
        "Create a logistic regression object then create a GridSearchCV object logreg_cv with cv = 10. Fit the object to find the best parameters from the dictionary parameters.\n",
        "\n"
      ],
      "metadata": {
        "id": "f2NSH5hcdckF"
      }
    },
    {
      "cell_type": "code",
      "source": [
        "from sklearn.linear_model import LogisticRegression\n",
        "from sklearn.model_selection import GridSearchCV\n",
        "\n",
        "logreg = LogisticRegression(max_iter=1000)\n",
        "\n",
        "parameters = {\n",
        "    'C': [0.01, 0.1, 1, 10, 100],\n",
        "    'penalty': ['l2'],\n",
        "    'solver': ['lbfgs']\n",
        "}\n",
        "\n",
        "\n",
        "logreg_cv = GridSearchCV(logreg, param_grid=parameters, cv=10, scoring='accuracy')\n",
        "\n",
        "logreg_cv.fit(X_train, Y_train)\n",
        "\n",
        "print(\"Best parameters found:\", logreg_cv.best_params_)\n",
        "print(\"Best cross-validation accuracy:\", logreg_cv.best_score_)"
      ],
      "metadata": {
        "colab": {
          "base_uri": "https://localhost:8080/"
        },
        "id": "WeaL-UbWdfiC",
        "outputId": "24a0669b-6c35-4725-9a75-b618f8fe7db3"
      },
      "execution_count": 6,
      "outputs": [
        {
          "output_type": "stream",
          "name": "stdout",
          "text": [
            "Best parameters found: {'C': 1, 'penalty': 'l2', 'solver': 'lbfgs'}\n",
            "Best cross-validation accuracy: 0.8214285714285714\n"
          ]
        }
      ]
    },
    {
      "cell_type": "markdown",
      "source": [
        "TASK 5\n",
        "\n",
        "Calculate the accuracy on the test data using the method score:"
      ],
      "metadata": {
        "id": "DOV0sca5dqqy"
      }
    },
    {
      "cell_type": "code",
      "source": [
        "test_accuracy = logreg_cv.score(X_test, Y_test)\n",
        "\n",
        "print(f\"Accuracy on test data: {test_accuracy:.4f}\")\n"
      ],
      "metadata": {
        "colab": {
          "base_uri": "https://localhost:8080/"
        },
        "id": "159Ret1Ddtm8",
        "outputId": "397f9483-434a-4569-d37a-e9a4e0d33ae5"
      },
      "execution_count": 7,
      "outputs": [
        {
          "output_type": "stream",
          "name": "stdout",
          "text": [
            "Accuracy on test data: 0.8333\n"
          ]
        }
      ]
    },
    {
      "cell_type": "markdown",
      "source": [
        "TASK 6\n",
        "\n",
        "Create a support vector machine object then create a GridSearchCV object svm_cv with cv = 10. Fit the object to find the best parameters from the dictionary parameters."
      ],
      "metadata": {
        "id": "JBwWfKhQdwfS"
      }
    },
    {
      "cell_type": "code",
      "source": [
        "from sklearn.svm import SVC\n",
        "from sklearn.model_selection import GridSearchCV\n",
        "\n",
        "parameters = {'C': [0.1, 1, 10, 100], 'kernel': ['linear', 'poly', 'rbf', 'sigmoid']}\n",
        "\n",
        "svm = SVC()\n",
        "\n",
        "svm_cv = GridSearchCV(estimator=svm, param_grid=parameters, cv=10, scoring='accuracy')\n",
        "\n",
        "svm_cv.fit(X_train, Y_train)\n",
        "\n",
        "print(f\"Best Parameters: {svm_cv.best_params_}\")\n",
        "print(f\"Best Score: {svm_cv.best_score_:.4f}\")"
      ],
      "metadata": {
        "colab": {
          "base_uri": "https://localhost:8080/"
        },
        "id": "vx2A78ZZdzur",
        "outputId": "f95167e7-f949-4621-fc2a-75fb7f4b2fe2"
      },
      "execution_count": 8,
      "outputs": [
        {
          "output_type": "stream",
          "name": "stdout",
          "text": [
            "Best Parameters: {'C': 1, 'kernel': 'sigmoid'}\n",
            "Best Score: 0.8482\n"
          ]
        }
      ]
    },
    {
      "cell_type": "markdown",
      "source": [
        "TASK 7\n",
        "\n",
        "Calculate the accuracy on the test data using the method score:"
      ],
      "metadata": {
        "id": "GTvoqyRad85_"
      }
    },
    {
      "cell_type": "code",
      "source": [
        "test_accuracy = svm_cv.score(X_test, Y_test)\n",
        "\n",
        "print(f\"Accuracy on test data: {test_accuracy:.4f}\")\n",
        "\n"
      ],
      "metadata": {
        "colab": {
          "base_uri": "https://localhost:8080/"
        },
        "id": "IV2KGrWMd_vZ",
        "outputId": "7a9315e1-2380-4666-9a63-c9d952a6b014"
      },
      "execution_count": 9,
      "outputs": [
        {
          "output_type": "stream",
          "name": "stdout",
          "text": [
            "Accuracy on test data: 0.8333\n"
          ]
        }
      ]
    },
    {
      "cell_type": "markdown",
      "source": [
        "TASK 8\n",
        "\n",
        "Create a decision tree classifier object then create a GridSearchCV object tree_cv with cv = 10. Fit the object to find the best parameters from the dictionary parameters.\n",
        "\n"
      ],
      "metadata": {
        "id": "iQ3czSMYeEKs"
      }
    },
    {
      "cell_type": "code",
      "source": [
        "from sklearn.tree import DecisionTreeClassifier\n",
        "from sklearn.model_selection import GridSearchCV\n",
        "\n",
        "tree = DecisionTreeClassifier()\n",
        "\n",
        "parameters = {\n",
        "    'criterion': ['gini', 'entropy'],\n",
        "    'max_depth': [2, 4, 6, 8, 10],\n",
        "    'min_samples_split': [2, 5, 10],\n",
        "    'min_samples_leaf': [1, 2, 4]\n",
        "}\n",
        "\n",
        "tree_cv = GridSearchCV(tree, parameters, cv=10, scoring='accuracy')\n",
        "tree_cv.fit(X_train, Y_train)\n",
        "print(\"Best parameters found:\", tree_cv.best_params_)\n",
        "print(\"Best accuracy score from GridSearchCV:\", tree_cv.best_score_)\n"
      ],
      "metadata": {
        "colab": {
          "base_uri": "https://localhost:8080/"
        },
        "id": "rs5ADWLQeG84",
        "outputId": "912ee462-279c-4fe1-9c3b-6c2ab0a702d9"
      },
      "execution_count": 10,
      "outputs": [
        {
          "output_type": "stream",
          "name": "stdout",
          "text": [
            "Best parameters found: {'criterion': 'entropy', 'max_depth': 8, 'min_samples_leaf': 4, 'min_samples_split': 5}\n",
            "Best accuracy score from GridSearchCV: 0.8714285714285713\n"
          ]
        }
      ]
    },
    {
      "cell_type": "markdown",
      "source": [
        "TASK 9\n",
        "\n",
        "Calculate the accuracy of tree_cv on the test data using the method score:\n"
      ],
      "metadata": {
        "id": "3ShQRoVreWkm"
      }
    },
    {
      "cell_type": "code",
      "source": [
        "accuracy = tree_cv.score(X_test, Y_test)\n",
        "print(\"Accuracy of the Decision Tree on test data:\", accuracy)"
      ],
      "metadata": {
        "colab": {
          "base_uri": "https://localhost:8080/"
        },
        "id": "8r1tdg-teZnx",
        "outputId": "afcde8c0-fc98-4298-d07e-91ebf56ccd0e"
      },
      "execution_count": 11,
      "outputs": [
        {
          "output_type": "stream",
          "name": "stdout",
          "text": [
            "Accuracy of the Decision Tree on test data: 0.7777777777777778\n"
          ]
        }
      ]
    },
    {
      "cell_type": "markdown",
      "source": [
        "TASK 10\n",
        "\n",
        "Create a k nearest neighbors object then create a GridSearchCV object knn_cv with cv = 10. Fit the object to find the best parameters from the dictionary parameters.\n",
        "\n"
      ],
      "metadata": {
        "id": "2SDFyDOTec8n"
      }
    },
    {
      "cell_type": "code",
      "source": [
        "from sklearn.neighbors import KNeighborsClassifier\n",
        "\n",
        "# Define the parameter grid for KNN\n",
        "knn_parameters = {'n_neighbors': [1, 2, 3, 4, 5, 6, 7, 8, 9, 10],\n",
        "              'algorithm': ['auto', 'ball_tree', 'kd_tree', 'brute'],\n",
        "              'p': [1,2]}\n",
        "\n",
        "\n",
        "# Create the KNN classifier object\n",
        "knn = KNeighborsClassifier()\n",
        "\n",
        "# Create the GridSearchCV object\n",
        "from sklearn.model_selection import GridSearchCV\n",
        "knn_cv = GridSearchCV(knn, knn_parameters, cv=10)\n",
        "\n",
        "# Fit the GridSearchCV object\n",
        "knn_cv.fit(X_train, Y_train)\n",
        "\n",
        "# Display the best parameters\n",
        "print(\"Best parameters for KNN:\", knn_cv.best_params_)\n"
      ],
      "metadata": {
        "colab": {
          "base_uri": "https://localhost:8080/"
        },
        "id": "WoPrxAGOef1X",
        "outputId": "9b3ebacb-0ae4-4af5-ecc1-61b1083b981c"
      },
      "execution_count": 12,
      "outputs": [
        {
          "output_type": "stream",
          "name": "stdout",
          "text": [
            "Best parameters for KNN: {'algorithm': 'auto', 'n_neighbors': 6, 'p': 1}\n"
          ]
        }
      ]
    },
    {
      "cell_type": "markdown",
      "source": [
        "TASK 11\n",
        "\n",
        "Calculate the accuracy of knn_cv on the test data using the method score:\n",
        "\n"
      ],
      "metadata": {
        "id": "MDAoyovffPMO"
      }
    },
    {
      "cell_type": "code",
      "source": [
        "knn_accuracy = knn_cv.score(X_test, Y_test)\n",
        "print(f\"Accuracy of KNN on the test data: {knn_accuracy * 100:.2f}%\")"
      ],
      "metadata": {
        "colab": {
          "base_uri": "https://localhost:8080/"
        },
        "id": "Pn2jjipQfUKP",
        "outputId": "238bbb2e-f5f8-4ff9-a564-fca9b19981be"
      },
      "execution_count": 13,
      "outputs": [
        {
          "output_type": "stream",
          "name": "stdout",
          "text": [
            "Accuracy of KNN on the test data: 83.33%\n"
          ]
        }
      ]
    },
    {
      "cell_type": "markdown",
      "source": [
        "TASK 12\n",
        "\n",
        "Find the method performs best:"
      ],
      "metadata": {
        "id": "Cyva3UHsfXur"
      }
    },
    {
      "cell_type": "code",
      "source": [
        "logreg_accuracy = logreg_cv.score(X_test, Y_test)\n",
        "svm_accuracy = svm_cv.score(X_test, Y_test)\n",
        "tree_accuracy = tree_cv.score(X_test, Y_test)\n",
        "knn_accuracy = knn_cv.score(X_test, Y_test)\n",
        "model_accuracies = {\n",
        "    \"Logistic Regression\": logreg_accuracy,\n",
        "    \"Support Vector Machine\": svm_accuracy,\n",
        "    \"Decision Tree\": tree_accuracy,\n",
        "    \"K-Nearest Neighbors\": knn_accuracy\n",
        "}\n",
        "best_model = max(model_accuracies, key=model_accuracies.get)\n",
        "best_accuracy = model_accuracies[best_model]\n",
        "print(f\"The best performing model is: {best_model} with an accuracy of {best_accuracy * 100:.2f}%\")\n"
      ],
      "metadata": {
        "colab": {
          "base_uri": "https://localhost:8080/"
        },
        "id": "DisjZUJKfZAj",
        "outputId": "039f267d-f7c9-4a47-ad02-125a5cadb95e"
      },
      "execution_count": 14,
      "outputs": [
        {
          "output_type": "stream",
          "name": "stdout",
          "text": [
            "The best performing model is: Logistic Regression with an accuracy of 83.33%\n"
          ]
        }
      ]
    },
    {
      "cell_type": "code",
      "source": [
        "num_records_test = X_test.shape[0]\n",
        "print(f\"There are {num_records_test} records in the test sample.\")"
      ],
      "metadata": {
        "colab": {
          "base_uri": "https://localhost:8080/"
        },
        "id": "GJQiDFa3fjyB",
        "outputId": "69b227ae-9a27-42d7-d711-8687b0ea885e"
      },
      "execution_count": 15,
      "outputs": [
        {
          "output_type": "stream",
          "name": "stdout",
          "text": [
            "There are 18 records in the test sample.\n"
          ]
        }
      ]
    },
    {
      "cell_type": "markdown",
      "source": [],
      "metadata": {
        "id": "BTvlNZhffAUd"
      }
    }
  ]
}