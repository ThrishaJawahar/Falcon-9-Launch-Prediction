{
  "nbformat": 4,
  "nbformat_minor": 0,
  "metadata": {
    "colab": {
      "provenance": [],
      "authorship_tag": "ABX9TyN/5JBQX6y5UlZsUaQxHtnS",
      "include_colab_link": true
    },
    "kernelspec": {
      "name": "python3",
      "display_name": "Python 3"
    },
    "language_info": {
      "name": "python"
    }
  },
  "cells": [
    {
      "cell_type": "markdown",
      "metadata": {
        "id": "view-in-github",
        "colab_type": "text"
      },
      "source": [
        "<a href=\"https://colab.research.google.com/github/ThrishaJawahar/Falcon-9-Launch-Prediction/blob/main/Falcon9LaunchPrediction.ipynb\" target=\"_parent\"><img src=\"https://colab.research.google.com/assets/colab-badge.svg\" alt=\"Open In Colab\"/></a>"
      ]
    },
    {
      "cell_type": "code",
      "execution_count": null,
      "metadata": {
        "id": "iGTq4vPedsPG"
      },
      "outputs": [],
      "source": [
        "#Task 1: Request the Falcon 9 Launch Wiki page from its URL\n",
        "import requests\n",
        "\n",
        "url = \"https://en.wikipedia.org/w/index.php?title=List_of_Falcon_9_and_Falcon_Heavy_launches&oldid=1027686922\"\n",
        "response = requests.get(url)\n"
      ]
    },
    {
      "cell_type": "code",
      "source": [
        "#Task 2: Create a BeautifulSoup object from the HTML response and print the page title\n",
        "from bs4 import BeautifulSoup\n",
        "\n",
        "soup = BeautifulSoup(response.text, 'html.parser')\n",
        "print(soup.title)\n"
      ],
      "metadata": {
        "colab": {
          "base_uri": "https://localhost:8080/"
        },
        "id": "x8_8-wnod01D",
        "outputId": "16fbb48e-b08a-44b2-dad8-c57c12b57bda"
      },
      "execution_count": null,
      "outputs": [
        {
          "output_type": "stream",
          "name": "stdout",
          "text": [
            "<title>List of Falcon 9 and Falcon Heavy launches - Wikipedia</title>\n"
          ]
        }
      ]
    },
    {
      "cell_type": "code",
      "source": [
        "#Task 3: Extract all column/variable names from the HTML table header\n",
        "# Find all tables on the page\n",
        "tables = soup.find_all('table', {'class': 'wikitable'})\n",
        "\n",
        "# Assuming we're interested in the first table\n",
        "table = tables[0]\n",
        "\n",
        "# Extract column headers\n",
        "headers = table.find_all('th')\n",
        "column_names = [header.get_text(strip=True) for header in headers]\n",
        "print(column_names)\n"
      ],
      "metadata": {
        "colab": {
          "base_uri": "https://localhost:8080/"
        },
        "id": "Z4_uVdZ9eApu",
        "outputId": "b41e1105-da9c-48ab-a1b8-160c11f45397"
      },
      "execution_count": null,
      "outputs": [
        {
          "output_type": "stream",
          "name": "stdout",
          "text": [
            "['Flight No.', 'Date andtime (UTC)', 'Version,Booster[b]', 'Launch site', 'Payload[c]', 'Payload mass', 'Orbit', 'Customer', 'Launchoutcome', 'Boosterlanding', '1', '2', '3', '4', '5', '6', '7']\n"
          ]
        }
      ]
    },
    {
      "cell_type": "code",
      "source": [
        "# Print the column names to inspect them\n",
        "print(data.columns)\n",
        "# Clean column names by stripping extra spaces\n",
        "data.columns = data.columns.str.strip()\n",
        "\n",
        "# Check the columns again after cleaning\n",
        "print(data.columns)\n"
      ],
      "metadata": {
        "colab": {
          "base_uri": "https://localhost:8080/"
        },
        "id": "6GkWhfahe3Wh",
        "outputId": "d1e63897-c24b-4f7e-bef4-5a360edea73a"
      },
      "execution_count": null,
      "outputs": [
        {
          "output_type": "stream",
          "name": "stdout",
          "text": [
            "Index(['Flight No.', 'Date and time (UTC)', 'Version, Booster [b]',\n",
            "       'Launch site', 'Payload[c]', 'Payload mass', 'Orbit', 'Customer',\n",
            "       'Launch outcome', 'Booster landing'],\n",
            "      dtype='object')\n",
            "Index(['Flight No.', 'Date and time (UTC)', 'Version, Booster [b]',\n",
            "       'Launch site', 'Payload[c]', 'Payload mass', 'Orbit', 'Customer',\n",
            "       'Launch outcome', 'Booster landing'],\n",
            "      dtype='object')\n"
          ]
        }
      ]
    },
    {
      "cell_type": "code",
      "source": [
        "#Task 4: Filter the Falcon 9 launch records from a dataset\n",
        "import pandas as pd\n",
        "\n",
        "# Read data from the wikipedia table using pandas\n",
        "data = pd.read_html(str(table))[0] # Assuming 'table' is the table you extracted in Task 3\n",
        "print(data.columns)\n",
        "# Now you can filter the data\n",
        "data_falcon9 = data[data['Version, Booster [b]'] == 'Falcon 9']\n",
        "print(data_falcon9)"
      ],
      "metadata": {
        "colab": {
          "base_uri": "https://localhost:8080/"
        },
        "id": "C7hAQ7yveHdE",
        "outputId": "b8a389f5-fd6d-4068-a303-39fa5655da6c"
      },
      "execution_count": null,
      "outputs": [
        {
          "output_type": "stream",
          "name": "stdout",
          "text": [
            "Index(['Flight No.', 'Date and time (UTC)', 'Version, Booster [b]',\n",
            "       'Launch site', 'Payload[c]', 'Payload mass', 'Orbit', 'Customer',\n",
            "       'Launch outcome', 'Booster landing'],\n",
            "      dtype='object')\n",
            "Empty DataFrame\n",
            "Columns: [Flight No., Date and time (UTC), Version, Booster [b], Launch site, Payload[c], Payload mass, Orbit, Customer, Launch outcome, Booster landing]\n",
            "Index: []\n"
          ]
        },
        {
          "output_type": "stream",
          "name": "stderr",
          "text": [
            "<ipython-input-12-1272527d5b4e>:5: FutureWarning: Passing literal html to 'read_html' is deprecated and will be removed in a future version. To read from a literal string, wrap it in a 'StringIO' object.\n",
            "  data = pd.read_html(str(table))[0] # Assuming 'table' is the table you extracted in Task 3\n"
          ]
        }
      ]
    },
    {
      "cell_type": "code",
      "source": [
        "#Task 5: Handle missing values for the PayloadMass column and replace NaN values with the mean\n",
        "# Convert 'Payload mass' column to numeric, handling errors\n",
        "data['Payload mass'] = pd.to_numeric(data['Payload mass'], errors='coerce')\n",
        "# Calculate the mean of the 'Payload mass' column, ignoring NaN values\n",
        "mean_payload_mass = data['Payload mass'].mean()\n",
        "# Replace NaN values in the 'Payload mass' column with the calculated mean\n",
        "data['Payload mass'] = data['Payload mass'].fillna(mean_payload_mass)\n",
        "print(data)"
      ],
      "metadata": {
        "colab": {
          "base_uri": "https://localhost:8080/"
        },
        "id": "p4ncDrRxfjzR",
        "outputId": "90f173dc-5c50-4093-91f7-05ab06b59dfc"
      },
      "execution_count": null,
      "outputs": [
        {
          "output_type": "stream",
          "name": "stdout",
          "text": [
            "    Flight No.                                Date and time (UTC)  \\\n",
            "0            1                                 4 June 2010, 18:45   \n",
            "1            1  First flight of Falcon 9 v1.0.[11] Used a boil...   \n",
            "2            2                         8 December 2010, 15:43[13]   \n",
            "3            2  Maiden flight of Dragon capsule, consisting of...   \n",
            "4            3                             22 May 2012, 07:44[17]   \n",
            "5            3  Dragon spacecraft demonstrated a series of tes...   \n",
            "6            4                          8 October 2012, 00:35[21]   \n",
            "7            4                          8 October 2012, 00:35[21]   \n",
            "8            4  CRS-1 was successful, but the secondary payloa...   \n",
            "9            5                                1 March 2013, 15:10   \n",
            "10           5  Last launch of the original Falcon 9 v1.0 laun...   \n",
            "11           6                       29 September 2013, 16:00[30]   \n",
            "12           6  First commercial mission with a private custom...   \n",
            "13           7                         3 December 2013, 22:41[34]   \n",
            "14           7  First Geostationary transfer orbit (GTO) launc...   \n",
            "\n",
            "                                 Version, Booster [b]  \\\n",
            "0                               F9 v1.0[7] B0003.1[8]   \n",
            "1   First flight of Falcon 9 v1.0.[11] Used a boil...   \n",
            "2                               F9 v1.0[7] B0004.1[8]   \n",
            "3   Maiden flight of Dragon capsule, consisting of...   \n",
            "4                               F9 v1.0[7] B0005.1[8]   \n",
            "5   Dragon spacecraft demonstrated a series of tes...   \n",
            "6                               F9 v1.0[7] B0006.1[8]   \n",
            "7                               F9 v1.0[7] B0006.1[8]   \n",
            "8   CRS-1 was successful, but the secondary payloa...   \n",
            "9                               F9 v1.0[7] B0007.1[8]   \n",
            "10  Last launch of the original Falcon 9 v1.0 laun...   \n",
            "11                                F9 v1.1[7] B1003[8]   \n",
            "12  First commercial mission with a private custom...   \n",
            "13                                      F9 v1.1 B1004   \n",
            "14  First Geostationary transfer orbit (GTO) launc...   \n",
            "\n",
            "                                          Launch site  \\\n",
            "0                                       CCAFS, SLC-40   \n",
            "1   First flight of Falcon 9 v1.0.[11] Used a boil...   \n",
            "2                                       CCAFS, SLC-40   \n",
            "3   Maiden flight of Dragon capsule, consisting of...   \n",
            "4                                       CCAFS, SLC-40   \n",
            "5   Dragon spacecraft demonstrated a series of tes...   \n",
            "6                                       CCAFS, SLC-40   \n",
            "7                                       CCAFS, SLC-40   \n",
            "8   CRS-1 was successful, but the secondary payloa...   \n",
            "9                                       CCAFS, SLC-40   \n",
            "10  Last launch of the original Falcon 9 v1.0 laun...   \n",
            "11                                       VAFB, SLC-4E   \n",
            "12  First commercial mission with a private custom...   \n",
            "13                                      CCAFS, SLC-40   \n",
            "14  First Geostationary transfer orbit (GTO) launc...   \n",
            "\n",
            "                                           Payload[c]  Payload mass  \\\n",
            "0                Dragon Spacecraft Qualification Unit           NaN   \n",
            "1   First flight of Falcon 9 v1.0.[11] Used a boil...           NaN   \n",
            "2                 Dragon demo flight C1 (Dragon C101)           NaN   \n",
            "3   Maiden flight of Dragon capsule, consisting of...           NaN   \n",
            "4            Dragon demo flight C2+[18] (Dragon C102)           NaN   \n",
            "5   Dragon spacecraft demonstrated a series of tes...           NaN   \n",
            "6                      SpaceX CRS-1[22] (Dragon C103)           NaN   \n",
            "7                                     Orbcomm-OG2[23]           NaN   \n",
            "8   CRS-1 was successful, but the secondary payloa...           NaN   \n",
            "9                      SpaceX CRS-2[22] (Dragon C104)           NaN   \n",
            "10  Last launch of the original Falcon 9 v1.0 laun...           NaN   \n",
            "11                                   CASSIOPE[22][31]           NaN   \n",
            "12  First commercial mission with a private custom...           NaN   \n",
            "13                                  SES-8[22][35][36]           NaN   \n",
            "14  First Geostationary transfer orbit (GTO) launc...           NaN   \n",
            "\n",
            "                                                Orbit  \\\n",
            "0                                                 LEO   \n",
            "1   First flight of Falcon 9 v1.0.[11] Used a boil...   \n",
            "2                                           LEO (ISS)   \n",
            "3   Maiden flight of Dragon capsule, consisting of...   \n",
            "4                                           LEO (ISS)   \n",
            "5   Dragon spacecraft demonstrated a series of tes...   \n",
            "6                                           LEO (ISS)   \n",
            "7                                                 LEO   \n",
            "8   CRS-1 was successful, but the secondary payloa...   \n",
            "9                                           LEO (ISS)   \n",
            "10  Last launch of the original Falcon 9 v1.0 laun...   \n",
            "11                                    Polar orbit LEO   \n",
            "12  First commercial mission with a private custom...   \n",
            "13                                                GTO   \n",
            "14  First Geostationary transfer orbit (GTO) launc...   \n",
            "\n",
            "                                             Customer  \\\n",
            "0                                              SpaceX   \n",
            "1   First flight of Falcon 9 v1.0.[11] Used a boil...   \n",
            "2                                     NASA (COTS) NRO   \n",
            "3   Maiden flight of Dragon capsule, consisting of...   \n",
            "4                                         NASA (COTS)   \n",
            "5   Dragon spacecraft demonstrated a series of tes...   \n",
            "6                                          NASA (CRS)   \n",
            "7                                             Orbcomm   \n",
            "8   CRS-1 was successful, but the secondary payloa...   \n",
            "9                                          NASA (CRS)   \n",
            "10  Last launch of the original Falcon 9 v1.0 laun...   \n",
            "11                                                MDA   \n",
            "12  First commercial mission with a private custom...   \n",
            "13                                                SES   \n",
            "14  First Geostationary transfer orbit (GTO) launc...   \n",
            "\n",
            "                                       Launch outcome  \\\n",
            "0                                             Success   \n",
            "1   First flight of Falcon 9 v1.0.[11] Used a boil...   \n",
            "2                                          Success[9]   \n",
            "3   Maiden flight of Dragon capsule, consisting of...   \n",
            "4                                         Success[20]   \n",
            "5   Dragon spacecraft demonstrated a series of tes...   \n",
            "6                                             Success   \n",
            "7                                 Partial failure[25]   \n",
            "8   CRS-1 was successful, but the secondary payloa...   \n",
            "9                                             Success   \n",
            "10  Last launch of the original Falcon 9 v1.0 laun...   \n",
            "11                                        Success[30]   \n",
            "12  First commercial mission with a private custom...   \n",
            "13                                        Success[37]   \n",
            "14  First Geostationary transfer orbit (GTO) launc...   \n",
            "\n",
            "                                      Booster landing  \n",
            "0                          Failure[9][10] (parachute)  \n",
            "1   First flight of Falcon 9 v1.0.[11] Used a boil...  \n",
            "2                          Failure[9][14] (parachute)  \n",
            "3   Maiden flight of Dragon capsule, consisting of...  \n",
            "4                                          No attempt  \n",
            "5   Dragon spacecraft demonstrated a series of tes...  \n",
            "6                                          No attempt  \n",
            "7                                          No attempt  \n",
            "8   CRS-1 was successful, but the secondary payloa...  \n",
            "9                                          No attempt  \n",
            "10  Last launch of the original Falcon 9 v1.0 laun...  \n",
            "11                            Uncontrolled (ocean)[d]  \n",
            "12  First commercial mission with a private custom...  \n",
            "13                                    No attempt [38]  \n",
            "14  First Geostationary transfer orbit (GTO) launc...  \n"
          ]
        }
      ]
    },
    {
      "cell_type": "code",
      "source": [
        "#Task 6: Handle missing values for the \"Booster landing\" column\n",
        "# Identify the most frequent value in the 'Booster landing' column\n",
        "most_frequent_booster_landing = data['Booster landing'].mode()[0]\n",
        "\n",
        "# Replace NaN values in 'Booster landing' with the most frequent value\n",
        "data['Booster landing'] = data['Booster landing'].fillna(most_frequent_booster_landing)\n",
        "\n",
        "# Print the updated DataFrame\n",
        "print(data)\n"
      ],
      "metadata": {
        "colab": {
          "base_uri": "https://localhost:8080/"
        },
        "id": "BNU4A3hogMMs",
        "outputId": "554b4afd-eb54-413e-8770-72078fd5f54a"
      },
      "execution_count": null,
      "outputs": [
        {
          "output_type": "stream",
          "name": "stdout",
          "text": [
            "    Flight No.                                Date and time (UTC)  \\\n",
            "0            1                                 4 June 2010, 18:45   \n",
            "1            1  First flight of Falcon 9 v1.0.[11] Used a boil...   \n",
            "2            2                         8 December 2010, 15:43[13]   \n",
            "3            2  Maiden flight of Dragon capsule, consisting of...   \n",
            "4            3                             22 May 2012, 07:44[17]   \n",
            "5            3  Dragon spacecraft demonstrated a series of tes...   \n",
            "6            4                          8 October 2012, 00:35[21]   \n",
            "7            4                          8 October 2012, 00:35[21]   \n",
            "8            4  CRS-1 was successful, but the secondary payloa...   \n",
            "9            5                                1 March 2013, 15:10   \n",
            "10           5  Last launch of the original Falcon 9 v1.0 laun...   \n",
            "11           6                       29 September 2013, 16:00[30]   \n",
            "12           6  First commercial mission with a private custom...   \n",
            "13           7                         3 December 2013, 22:41[34]   \n",
            "14           7  First Geostationary transfer orbit (GTO) launc...   \n",
            "\n",
            "                                 Version, Booster [b]  \\\n",
            "0                               F9 v1.0[7] B0003.1[8]   \n",
            "1   First flight of Falcon 9 v1.0.[11] Used a boil...   \n",
            "2                               F9 v1.0[7] B0004.1[8]   \n",
            "3   Maiden flight of Dragon capsule, consisting of...   \n",
            "4                               F9 v1.0[7] B0005.1[8]   \n",
            "5   Dragon spacecraft demonstrated a series of tes...   \n",
            "6                               F9 v1.0[7] B0006.1[8]   \n",
            "7                               F9 v1.0[7] B0006.1[8]   \n",
            "8   CRS-1 was successful, but the secondary payloa...   \n",
            "9                               F9 v1.0[7] B0007.1[8]   \n",
            "10  Last launch of the original Falcon 9 v1.0 laun...   \n",
            "11                                F9 v1.1[7] B1003[8]   \n",
            "12  First commercial mission with a private custom...   \n",
            "13                                      F9 v1.1 B1004   \n",
            "14  First Geostationary transfer orbit (GTO) launc...   \n",
            "\n",
            "                                          Launch site  \\\n",
            "0                                       CCAFS, SLC-40   \n",
            "1   First flight of Falcon 9 v1.0.[11] Used a boil...   \n",
            "2                                       CCAFS, SLC-40   \n",
            "3   Maiden flight of Dragon capsule, consisting of...   \n",
            "4                                       CCAFS, SLC-40   \n",
            "5   Dragon spacecraft demonstrated a series of tes...   \n",
            "6                                       CCAFS, SLC-40   \n",
            "7                                       CCAFS, SLC-40   \n",
            "8   CRS-1 was successful, but the secondary payloa...   \n",
            "9                                       CCAFS, SLC-40   \n",
            "10  Last launch of the original Falcon 9 v1.0 laun...   \n",
            "11                                       VAFB, SLC-4E   \n",
            "12  First commercial mission with a private custom...   \n",
            "13                                      CCAFS, SLC-40   \n",
            "14  First Geostationary transfer orbit (GTO) launc...   \n",
            "\n",
            "                                           Payload[c]  Payload mass  \\\n",
            "0                Dragon Spacecraft Qualification Unit           NaN   \n",
            "1   First flight of Falcon 9 v1.0.[11] Used a boil...           NaN   \n",
            "2                 Dragon demo flight C1 (Dragon C101)           NaN   \n",
            "3   Maiden flight of Dragon capsule, consisting of...           NaN   \n",
            "4            Dragon demo flight C2+[18] (Dragon C102)           NaN   \n",
            "5   Dragon spacecraft demonstrated a series of tes...           NaN   \n",
            "6                      SpaceX CRS-1[22] (Dragon C103)           NaN   \n",
            "7                                     Orbcomm-OG2[23]           NaN   \n",
            "8   CRS-1 was successful, but the secondary payloa...           NaN   \n",
            "9                      SpaceX CRS-2[22] (Dragon C104)           NaN   \n",
            "10  Last launch of the original Falcon 9 v1.0 laun...           NaN   \n",
            "11                                   CASSIOPE[22][31]           NaN   \n",
            "12  First commercial mission with a private custom...           NaN   \n",
            "13                                  SES-8[22][35][36]           NaN   \n",
            "14  First Geostationary transfer orbit (GTO) launc...           NaN   \n",
            "\n",
            "                                                Orbit  \\\n",
            "0                                                 LEO   \n",
            "1   First flight of Falcon 9 v1.0.[11] Used a boil...   \n",
            "2                                           LEO (ISS)   \n",
            "3   Maiden flight of Dragon capsule, consisting of...   \n",
            "4                                           LEO (ISS)   \n",
            "5   Dragon spacecraft demonstrated a series of tes...   \n",
            "6                                           LEO (ISS)   \n",
            "7                                                 LEO   \n",
            "8   CRS-1 was successful, but the secondary payloa...   \n",
            "9                                           LEO (ISS)   \n",
            "10  Last launch of the original Falcon 9 v1.0 laun...   \n",
            "11                                    Polar orbit LEO   \n",
            "12  First commercial mission with a private custom...   \n",
            "13                                                GTO   \n",
            "14  First Geostationary transfer orbit (GTO) launc...   \n",
            "\n",
            "                                             Customer  \\\n",
            "0                                              SpaceX   \n",
            "1   First flight of Falcon 9 v1.0.[11] Used a boil...   \n",
            "2                                     NASA (COTS) NRO   \n",
            "3   Maiden flight of Dragon capsule, consisting of...   \n",
            "4                                         NASA (COTS)   \n",
            "5   Dragon spacecraft demonstrated a series of tes...   \n",
            "6                                          NASA (CRS)   \n",
            "7                                             Orbcomm   \n",
            "8   CRS-1 was successful, but the secondary payloa...   \n",
            "9                                          NASA (CRS)   \n",
            "10  Last launch of the original Falcon 9 v1.0 laun...   \n",
            "11                                                MDA   \n",
            "12  First commercial mission with a private custom...   \n",
            "13                                                SES   \n",
            "14  First Geostationary transfer orbit (GTO) launc...   \n",
            "\n",
            "                                       Launch outcome  \\\n",
            "0                                             Success   \n",
            "1   First flight of Falcon 9 v1.0.[11] Used a boil...   \n",
            "2                                          Success[9]   \n",
            "3   Maiden flight of Dragon capsule, consisting of...   \n",
            "4                                         Success[20]   \n",
            "5   Dragon spacecraft demonstrated a series of tes...   \n",
            "6                                             Success   \n",
            "7                                 Partial failure[25]   \n",
            "8   CRS-1 was successful, but the secondary payloa...   \n",
            "9                                             Success   \n",
            "10  Last launch of the original Falcon 9 v1.0 laun...   \n",
            "11                                        Success[30]   \n",
            "12  First commercial mission with a private custom...   \n",
            "13                                        Success[37]   \n",
            "14  First Geostationary transfer orbit (GTO) launc...   \n",
            "\n",
            "                                      Booster landing  \n",
            "0                          Failure[9][10] (parachute)  \n",
            "1   First flight of Falcon 9 v1.0.[11] Used a boil...  \n",
            "2                          Failure[9][14] (parachute)  \n",
            "3   Maiden flight of Dragon capsule, consisting of...  \n",
            "4                                          No attempt  \n",
            "5   Dragon spacecraft demonstrated a series of tes...  \n",
            "6                                          No attempt  \n",
            "7                                          No attempt  \n",
            "8   CRS-1 was successful, but the secondary payloa...  \n",
            "9                                          No attempt  \n",
            "10  Last launch of the original Falcon 9 v1.0 laun...  \n",
            "11                            Uncontrolled (ocean)[d]  \n",
            "12  First commercial mission with a private custom...  \n",
            "13                                    No attempt [38]  \n",
            "14  First Geostationary transfer orbit (GTO) launc...  \n"
          ]
        }
      ]
    },
    {
      "cell_type": "code",
      "source": [
        "#Task 7: Filter Falcon 9 launches\n",
        "# Filter rows where 'Version, Booster [b]' is 'Falcon 9'\n",
        "# Check the unique values in the 'Version, Booster [b]' column\n",
        "unique_boosters = data['Version, Booster [b]'].unique()\n",
        "\n",
        "# Print the unique values\n",
        "print(unique_boosters)\n",
        "\n",
        "# Filter rows that contain 'Falcon 9' anywhere in the 'Version, Booster [b]' column\n",
        "data_falcon9 = data[data['Version, Booster [b]'].str.contains('Falcon 9', na=False)]\n",
        "\n",
        "# Print the filtered data\n",
        "print(data_falcon9)\n",
        "\n"
      ],
      "metadata": {
        "colab": {
          "base_uri": "https://localhost:8080/"
        },
        "id": "U-2JNYsggmmx",
        "outputId": "af99cbd6-9afa-4fe5-9eb1-80a7da28cae9"
      },
      "execution_count": null,
      "outputs": [
        {
          "output_type": "stream",
          "name": "stdout",
          "text": [
            "['F9 v1.0[7] B0003.1[8]'\n",
            " 'First flight of Falcon 9 v1.0.[11] Used a boilerplate version of Dragon capsule which was not designed to separate from the second stage.(more details below) Attempted to recover the first stage by parachuting it into the ocean, but it burned up on reentry, before the parachutes even deployed.[12]'\n",
            " 'F9 v1.0[7] B0004.1[8]'\n",
            " 'Maiden flight of Dragon capsule, consisting of over 3 hours of testing thruster maneuvering and reentry.[15] Attempted to recover the first stage by parachuting it into the ocean, but it disintegrated upon reentry, before the parachutes were deployed.[12] (more details below) It also included two CubeSats,[16] and a wheel of Brouère cheese.'\n",
            " 'F9 v1.0[7] B0005.1[8]'\n",
            " 'Dragon spacecraft demonstrated a series of tests before it was allowed to approach the International Space Station. Two days later, it became the first commercial spacecraft to board the ISS.[17] (more details below)'\n",
            " 'F9 v1.0[7] B0006.1[8]'\n",
            " \"CRS-1 was successful, but the secondary payload was inserted into an abnormally low orbit and subsequently lost. This was due to one of the nine Merlin engines shutting down during the launch, and NASA declining a second reignition, as per ISS visiting vehicle safety rules, the primary payload owner is contractually allowed to decline a second reignition. NASA stated that this was because SpaceX could not guarantee a high enough likelihood of the second stage completing the second burn successfully which was required to avoid any risk of secondary payload's collision with the ISS.[26][27][28]\"\n",
            " 'F9 v1.0[7] B0007.1[8]'\n",
            " 'Last launch of the original Falcon 9 v1.0 launch vehicle, first use of the unpressurized trunk section of Dragon.[29]'\n",
            " 'F9 v1.1[7] B1003[8]'\n",
            " 'First commercial mission with a private customer, first launch from Vandenberg, and demonstration flight of Falcon 9 v1.1 with an improved 13-tonne to LEO capacity.[29] After separation from the second stage carrying Canadian commercial and scientific satellites, the first stage booster performed a controlled reentry,[32] and an ocean touchdown test for the first time. This provided good test data, even though the booster started rolling as it neared the ocean, leading to the shutdown of the central engine as the roll depleted it of fuel, resulting in a hard impact with the ocean.[30] This was the first known attempt of a rocket engine being lit to perform a supersonic retro propulsion, and allowed SpaceX to enter a public-private partnership with NASA and its Mars entry, descent, and landing technologies research projects.[33] (more details below)'\n",
            " 'F9 v1.1 B1004'\n",
            " 'First Geostationary transfer orbit (GTO) launch for Falcon 9,[35] and first successful reignition of the second stage.[39] SES-8 was inserted into a Super-Synchronous Transfer Orbit of 79,341\\xa0km (49,300\\xa0mi) in apogee with an inclination of 20.55° to the equator.']\n",
            "    Flight No.                                Date and time (UTC)  \\\n",
            "1            1  First flight of Falcon 9 v1.0.[11] Used a boil...   \n",
            "10           5  Last launch of the original Falcon 9 v1.0 laun...   \n",
            "12           6  First commercial mission with a private custom...   \n",
            "14           7  First Geostationary transfer orbit (GTO) launc...   \n",
            "\n",
            "                                 Version, Booster [b]  \\\n",
            "1   First flight of Falcon 9 v1.0.[11] Used a boil...   \n",
            "10  Last launch of the original Falcon 9 v1.0 laun...   \n",
            "12  First commercial mission with a private custom...   \n",
            "14  First Geostationary transfer orbit (GTO) launc...   \n",
            "\n",
            "                                          Launch site  \\\n",
            "1   First flight of Falcon 9 v1.0.[11] Used a boil...   \n",
            "10  Last launch of the original Falcon 9 v1.0 laun...   \n",
            "12  First commercial mission with a private custom...   \n",
            "14  First Geostationary transfer orbit (GTO) launc...   \n",
            "\n",
            "                                           Payload[c]  Payload mass  \\\n",
            "1   First flight of Falcon 9 v1.0.[11] Used a boil...           NaN   \n",
            "10  Last launch of the original Falcon 9 v1.0 laun...           NaN   \n",
            "12  First commercial mission with a private custom...           NaN   \n",
            "14  First Geostationary transfer orbit (GTO) launc...           NaN   \n",
            "\n",
            "                                                Orbit  \\\n",
            "1   First flight of Falcon 9 v1.0.[11] Used a boil...   \n",
            "10  Last launch of the original Falcon 9 v1.0 laun...   \n",
            "12  First commercial mission with a private custom...   \n",
            "14  First Geostationary transfer orbit (GTO) launc...   \n",
            "\n",
            "                                             Customer  \\\n",
            "1   First flight of Falcon 9 v1.0.[11] Used a boil...   \n",
            "10  Last launch of the original Falcon 9 v1.0 laun...   \n",
            "12  First commercial mission with a private custom...   \n",
            "14  First Geostationary transfer orbit (GTO) launc...   \n",
            "\n",
            "                                       Launch outcome  \\\n",
            "1   First flight of Falcon 9 v1.0.[11] Used a boil...   \n",
            "10  Last launch of the original Falcon 9 v1.0 laun...   \n",
            "12  First commercial mission with a private custom...   \n",
            "14  First Geostationary transfer orbit (GTO) launc...   \n",
            "\n",
            "                                      Booster landing  \n",
            "1   First flight of Falcon 9 v1.0.[11] Used a boil...  \n",
            "10  Last launch of the original Falcon 9 v1.0 laun...  \n",
            "12  First commercial mission with a private custom...  \n",
            "14  First Geostationary transfer orbit (GTO) launc...  \n"
          ]
        }
      ]
    },
    {
      "cell_type": "code",
      "source": [
        "# Assuming `data` is the DataFrame\n",
        "# Let's check the first few rows to understand the structure better\n",
        "print(data.head())\n",
        "\n",
        "# You can manually clean or select the relevant columns, for example:\n",
        "data_cleaned = data[['Flight No.', 'Version, Booster [b]', 'Launch site', 'Launch outcome']]\n",
        "\n",
        "# Now, if you want to further clean, use text parsing or regular expressions to extract specific information from the column\n",
        "import re\n",
        "\n",
        "# Example: Extract numbers or specific keywords from 'Version, Booster [b]' column\n",
        "data_cleaned['Version'] = data_cleaned['Version, Booster [b]'].apply(lambda x: re.findall(r'Falcon \\d+', x))\n",
        "\n",
        "# Display the cleaned data\n",
        "print(data_cleaned)\n"
      ],
      "metadata": {
        "colab": {
          "base_uri": "https://localhost:8080/"
        },
        "id": "b3uexg78hYvj",
        "outputId": "83f1ec14-4381-4c45-be59-88dc60a7fe56"
      },
      "execution_count": null,
      "outputs": [
        {
          "output_type": "stream",
          "name": "stdout",
          "text": [
            "   Flight No.                                Date and time (UTC)  \\\n",
            "0           1                                 4 June 2010, 18:45   \n",
            "1           1  First flight of Falcon 9 v1.0.[11] Used a boil...   \n",
            "2           2                         8 December 2010, 15:43[13]   \n",
            "3           2  Maiden flight of Dragon capsule, consisting of...   \n",
            "4           3                             22 May 2012, 07:44[17]   \n",
            "\n",
            "                                Version, Booster [b]  \\\n",
            "0                              F9 v1.0[7] B0003.1[8]   \n",
            "1  First flight of Falcon 9 v1.0.[11] Used a boil...   \n",
            "2                              F9 v1.0[7] B0004.1[8]   \n",
            "3  Maiden flight of Dragon capsule, consisting of...   \n",
            "4                              F9 v1.0[7] B0005.1[8]   \n",
            "\n",
            "                                         Launch site  \\\n",
            "0                                      CCAFS, SLC-40   \n",
            "1  First flight of Falcon 9 v1.0.[11] Used a boil...   \n",
            "2                                      CCAFS, SLC-40   \n",
            "3  Maiden flight of Dragon capsule, consisting of...   \n",
            "4                                      CCAFS, SLC-40   \n",
            "\n",
            "                                          Payload[c]  Payload mass  \\\n",
            "0               Dragon Spacecraft Qualification Unit           NaN   \n",
            "1  First flight of Falcon 9 v1.0.[11] Used a boil...           NaN   \n",
            "2                Dragon demo flight C1 (Dragon C101)           NaN   \n",
            "3  Maiden flight of Dragon capsule, consisting of...           NaN   \n",
            "4           Dragon demo flight C2+[18] (Dragon C102)           NaN   \n",
            "\n",
            "                                               Orbit  \\\n",
            "0                                                LEO   \n",
            "1  First flight of Falcon 9 v1.0.[11] Used a boil...   \n",
            "2                                          LEO (ISS)   \n",
            "3  Maiden flight of Dragon capsule, consisting of...   \n",
            "4                                          LEO (ISS)   \n",
            "\n",
            "                                            Customer  \\\n",
            "0                                             SpaceX   \n",
            "1  First flight of Falcon 9 v1.0.[11] Used a boil...   \n",
            "2                                    NASA (COTS) NRO   \n",
            "3  Maiden flight of Dragon capsule, consisting of...   \n",
            "4                                        NASA (COTS)   \n",
            "\n",
            "                                      Launch outcome  \\\n",
            "0                                            Success   \n",
            "1  First flight of Falcon 9 v1.0.[11] Used a boil...   \n",
            "2                                         Success[9]   \n",
            "3  Maiden flight of Dragon capsule, consisting of...   \n",
            "4                                        Success[20]   \n",
            "\n",
            "                                     Booster landing  \n",
            "0                         Failure[9][10] (parachute)  \n",
            "1  First flight of Falcon 9 v1.0.[11] Used a boil...  \n",
            "2                         Failure[9][14] (parachute)  \n",
            "3  Maiden flight of Dragon capsule, consisting of...  \n",
            "4                                         No attempt  \n",
            "    Flight No.                               Version, Booster [b]  \\\n",
            "0            1                              F9 v1.0[7] B0003.1[8]   \n",
            "1            1  First flight of Falcon 9 v1.0.[11] Used a boil...   \n",
            "2            2                              F9 v1.0[7] B0004.1[8]   \n",
            "3            2  Maiden flight of Dragon capsule, consisting of...   \n",
            "4            3                              F9 v1.0[7] B0005.1[8]   \n",
            "5            3  Dragon spacecraft demonstrated a series of tes...   \n",
            "6            4                              F9 v1.0[7] B0006.1[8]   \n",
            "7            4                              F9 v1.0[7] B0006.1[8]   \n",
            "8            4  CRS-1 was successful, but the secondary payloa...   \n",
            "9            5                              F9 v1.0[7] B0007.1[8]   \n",
            "10           5  Last launch of the original Falcon 9 v1.0 laun...   \n",
            "11           6                                F9 v1.1[7] B1003[8]   \n",
            "12           6  First commercial mission with a private custom...   \n",
            "13           7                                      F9 v1.1 B1004   \n",
            "14           7  First Geostationary transfer orbit (GTO) launc...   \n",
            "\n",
            "                                          Launch site  \\\n",
            "0                                       CCAFS, SLC-40   \n",
            "1   First flight of Falcon 9 v1.0.[11] Used a boil...   \n",
            "2                                       CCAFS, SLC-40   \n",
            "3   Maiden flight of Dragon capsule, consisting of...   \n",
            "4                                       CCAFS, SLC-40   \n",
            "5   Dragon spacecraft demonstrated a series of tes...   \n",
            "6                                       CCAFS, SLC-40   \n",
            "7                                       CCAFS, SLC-40   \n",
            "8   CRS-1 was successful, but the secondary payloa...   \n",
            "9                                       CCAFS, SLC-40   \n",
            "10  Last launch of the original Falcon 9 v1.0 laun...   \n",
            "11                                       VAFB, SLC-4E   \n",
            "12  First commercial mission with a private custom...   \n",
            "13                                      CCAFS, SLC-40   \n",
            "14  First Geostationary transfer orbit (GTO) launc...   \n",
            "\n",
            "                                       Launch outcome     Version  \n",
            "0                                             Success          []  \n",
            "1   First flight of Falcon 9 v1.0.[11] Used a boil...  [Falcon 9]  \n",
            "2                                          Success[9]          []  \n",
            "3   Maiden flight of Dragon capsule, consisting of...          []  \n",
            "4                                         Success[20]          []  \n",
            "5   Dragon spacecraft demonstrated a series of tes...          []  \n",
            "6                                             Success          []  \n",
            "7                                 Partial failure[25]          []  \n",
            "8   CRS-1 was successful, but the secondary payloa...          []  \n",
            "9                                             Success          []  \n",
            "10  Last launch of the original Falcon 9 v1.0 laun...  [Falcon 9]  \n",
            "11                                        Success[30]          []  \n",
            "12  First commercial mission with a private custom...  [Falcon 9]  \n",
            "13                                        Success[37]          []  \n",
            "14  First Geostationary transfer orbit (GTO) launc...  [Falcon 9]  \n"
          ]
        },
        {
          "output_type": "stream",
          "name": "stderr",
          "text": [
            "<ipython-input-22-5276621c75fd>:12: SettingWithCopyWarning: \n",
            "A value is trying to be set on a copy of a slice from a DataFrame.\n",
            "Try using .loc[row_indexer,col_indexer] = value instead\n",
            "\n",
            "See the caveats in the documentation: https://pandas.pydata.org/pandas-docs/stable/user_guide/indexing.html#returning-a-view-versus-a-copy\n",
            "  data_cleaned['Version'] = data_cleaned['Version, Booster [b]'].apply(lambda x: re.findall(r'Falcon \\d+', x))\n"
          ]
        }
      ]
    },
    {
      "cell_type": "code",
      "source": [
        "#Task 8: Data Transformation\n",
        "import pandas as pd\n",
        "import numpy as np\n",
        "\n",
        "# Sample DataFrame\n",
        "data = {\n",
        "    'Flight No.': ['F9 v1.0 B0003.1', 'F9 v1.0 B0004.1', 'F9 v1.0 B0005.1', 'F9 v1.0 B0006.1', 'F9 v1.1 B1003'],\n",
        "    'Version': ['First flight of Falcon 9 v1.0.', 'Maiden flight of Dragon capsule', 'Dragon spacecraft test',\n",
        "                'CRS-1 mission with secondary payload loss', 'First commercial mission with private customer'],\n",
        "    'Payload': ['Dragon capsule', 'Dragon capsule with CubeSats', 'Dragon spacecraft with ISS test',\n",
        "                'Secondary payload loss due to engine shutdown', 'Canadian satellites'],\n",
        "    'Launch Site': ['Cape Canaveral', 'Cape Canaveral', 'Cape Canaveral', 'Cape Canaveral', 'Vandenberg'],\n",
        "    'Launch Outcome': ['Failed, burned up during reentry', 'Failed, disintegrated on reentry', 'Successful with ISS test',\n",
        "                       'Failed due to engine shutdown', 'Successful, SES-8 satellite insertion']\n",
        "}\n",
        "\n",
        "df = pd.DataFrame(data)\n",
        "\n",
        "# Step 1: Fill missing data (if any). Here we assume 'Payload' and 'Launch Outcome' might have some missing values.\n",
        "# Filling missing values with 'Unknown' or suitable placeholder\n",
        "df['Payload'] = df['Payload'].fillna('Unknown')\n",
        "df['Launch Outcome'] = df['Launch Outcome'].fillna('Unknown')\n",
        "\n",
        "# Step 2: Remove rows with irrelevant information (e.g., any that mention 'Failed' in 'Launch Outcome')\n",
        "df_cleaned = df[~df['Launch Outcome'].str.contains('Failed', na=False)]\n",
        "\n",
        "# Step 3: Reformat data by trimming any excessive text and focusing on key parts of the string.\n",
        "# For example, we can extract only the version type from 'Version' column (e.g., \"Falcon 9 v1.0\" instead of full description)\n",
        "df_cleaned['Version'] = df_cleaned['Version'].apply(lambda x: ' '.join(x.split()[:3]))  # Extract only the \"Falcon 9 v1.0\" part\n",
        "\n",
        "# Step 4: Display the cleaned DataFrame\n",
        "print(df_cleaned)\n"
      ],
      "metadata": {
        "colab": {
          "base_uri": "https://localhost:8080/"
        },
        "id": "rKaFQtw3hjJb",
        "outputId": "db1762f7-0d4f-4f25-dcd8-b1084e5a792c"
      },
      "execution_count": null,
      "outputs": [
        {
          "output_type": "stream",
          "name": "stdout",
          "text": [
            "        Flight No.                   Version                          Payload  \\\n",
            "2  F9 v1.0 B0005.1    Dragon spacecraft test  Dragon spacecraft with ISS test   \n",
            "4    F9 v1.1 B1003  First commercial mission              Canadian satellites   \n",
            "\n",
            "      Launch Site                         Launch Outcome  \n",
            "2  Cape Canaveral               Successful with ISS test  \n",
            "4      Vandenberg  Successful, SES-8 satellite insertion  \n"
          ]
        },
        {
          "output_type": "stream",
          "name": "stderr",
          "text": [
            "<ipython-input-23-90e73f80e8f2>:29: SettingWithCopyWarning: \n",
            "A value is trying to be set on a copy of a slice from a DataFrame.\n",
            "Try using .loc[row_indexer,col_indexer] = value instead\n",
            "\n",
            "See the caveats in the documentation: https://pandas.pydata.org/pandas-docs/stable/user_guide/indexing.html#returning-a-view-versus-a-copy\n",
            "  df_cleaned['Version'] = df_cleaned['Version'].apply(lambda x: ' '.join(x.split()[:3]))  # Extract only the \"Falcon 9 v1.0\" part\n"
          ]
        }
      ]
    },
    {
      "cell_type": "code",
      "source": [
        "#Task 9: Data Merging and Joining\n",
        "import pandas as pd\n",
        "\n",
        "# Sample DataFrames\n",
        "df1 = pd.DataFrame({\n",
        "    'Flight No.': [1, 5, 6, 7],\n",
        "    'Version': ['F9 v1.0', 'F9 v1.0', 'F9 v1.1', 'F9 v1.1'],\n",
        "    'Launch Outcome': ['Success', 'Failure', 'Success', 'Success']\n",
        "})\n",
        "\n",
        "df2 = pd.DataFrame({\n",
        "    'Flight No.': [1, 5, 6, 7],\n",
        "    'Payload': ['Dragon', 'Dragon', 'Dragon', 'SES-8'],\n",
        "    'Customer': ['NASA', 'NASA', 'NASA', 'SES']\n",
        "})\n",
        "\n",
        "# Merging DataFrames on 'Flight No.'\n",
        "merged_df = pd.merge(df1, df2, on='Flight No.')\n",
        "\n",
        "print(merged_df)\n"
      ],
      "metadata": {
        "colab": {
          "base_uri": "https://localhost:8080/"
        },
        "id": "shgbiVg5hm8t",
        "outputId": "3f116f11-1c02-461c-a9a0-99dc8a9c4486"
      },
      "execution_count": null,
      "outputs": [
        {
          "output_type": "stream",
          "name": "stdout",
          "text": [
            "   Flight No.  Version Launch Outcome Payload Customer\n",
            "0           1  F9 v1.0        Success  Dragon     NASA\n",
            "1           5  F9 v1.0        Failure  Dragon     NASA\n",
            "2           6  F9 v1.1        Success  Dragon     NASA\n",
            "3           7  F9 v1.1        Success   SES-8      SES\n"
          ]
        }
      ]
    },
    {
      "cell_type": "code",
      "source": [
        "#Task 10: Data Grouping and Aggregation\n",
        "# Sample DataFrame with payload mass\n",
        "df = pd.DataFrame({\n",
        "    'Version': ['F9 v1.0', 'F9 v1.0', 'F9 v1.1', 'F9 v1.1'],\n",
        "    'Payload Mass': [4000, 4500, 6000, 7000],\n",
        "    'Launch Outcome': ['Success', 'Failure', 'Success', 'Success']\n",
        "})\n",
        "\n",
        "# Grouping by 'Version' and calculating the mean and count of payload mass\n",
        "grouped_df = df.groupby('Version').agg({'Payload Mass': 'mean', 'Launch Outcome': 'count'}).rename(columns={'Launch Outcome': 'Launch Count'})\n",
        "\n",
        "print(grouped_df)\n"
      ],
      "metadata": {
        "colab": {
          "base_uri": "https://localhost:8080/"
        },
        "id": "YtICUe2oidJV",
        "outputId": "e534d7a6-2907-418e-a60b-700ff42e5b17"
      },
      "execution_count": null,
      "outputs": [
        {
          "output_type": "stream",
          "name": "stdout",
          "text": [
            "         Payload Mass  Launch Count\n",
            "Version                            \n",
            "F9 v1.0        4250.0             2\n",
            "F9 v1.1        6500.0             2\n"
          ]
        }
      ]
    },
    {
      "cell_type": "code",
      "source": [
        "#Task 11: Handling Categorical Data\n",
        "# Sample DataFrame with Launch Outcome\n",
        "df = pd.DataFrame({\n",
        "    'Flight No.': [1, 5, 6, 7],\n",
        "    'Launch Outcome': ['Success', 'Failure', 'Success', 'Success']\n",
        "})\n",
        "\n",
        "# Mapping categorical values to numerical\n",
        "df['Launch Outcome'] = df['Launch Outcome'].map({'Success': 1, 'Failure': 0})\n",
        "\n",
        "print(df)\n"
      ],
      "metadata": {
        "colab": {
          "base_uri": "https://localhost:8080/"
        },
        "id": "8_8ec0JMiiUE",
        "outputId": "b14df226-bc27-47d0-e3b1-d093263ef1e8"
      },
      "execution_count": null,
      "outputs": [
        {
          "output_type": "stream",
          "name": "stdout",
          "text": [
            "   Flight No.  Launch Outcome\n",
            "0           1               1\n",
            "1           5               0\n",
            "2           6               1\n",
            "3           7               1\n"
          ]
        }
      ]
    },
    {
      "cell_type": "code",
      "source": [
        "#Task 12: Data Visualization\n",
        "import matplotlib.pyplot as plt\n",
        "import seaborn as sns\n",
        "\n",
        "# Sample DataFrame with Launch Outcome\n",
        "df = pd.DataFrame({\n",
        "    'Version': ['F9 v1.0', 'F9 v1.0', 'F9 v1.1', 'F9 v1.1'],\n",
        "    'Launch Outcome': ['Success', 'Failure', 'Success', 'Success']\n",
        "})\n",
        "\n",
        "# Plotting\n",
        "plt.figure(figsize=(8,6))\n",
        "sns.countplot(data=df, x='Version', hue='Launch Outcome')\n",
        "plt.title('Launch Outcome per Version')\n",
        "plt.ylabel('Number of Launches')\n",
        "plt.show()\n"
      ],
      "metadata": {
        "colab": {
          "base_uri": "https://localhost:8080/",
          "height": 564
        },
        "id": "grUfpj37isIp",
        "outputId": "e514c7d6-eb8a-48d6-d90e-597556458968"
      },
      "execution_count": null,
      "outputs": [
        {
          "output_type": "display_data",
          "data": {
            "text/plain": [
              "<Figure size 800x600 with 1 Axes>"
            ],
            "image/png": "[encoded data removed]"
          },
          "metadata": {}
        }
      ]
    },
    {
      "cell_type": "code",
      "source": [
        "#Task 13: Time Series Analysis\n",
        "# Sample DataFrame with Launch Date\n",
        "df = pd.DataFrame({\n",
        "    'Launch Date': ['2024-01-01', '2024-01-15', '2024-02-01', '2024-02-15'],\n",
        "    'Flight No.': [1, 5, 6, 7],\n",
        "})\n",
        "\n",
        "# Converting 'Launch Date' to datetime\n",
        "df['Launch Date'] = pd.to_datetime(df['Launch Date'])\n",
        "\n",
        "# Grouping by month and year\n",
        "monthly_launches = df.groupby(df['Launch Date'].dt.to_period('M')).size()\n",
        "\n",
        "# Plotting\n",
        "monthly_launches.plot(kind='line', figsize=(8, 6), title='Launches per Month')\n",
        "plt.ylabel('Number of Launches')\n",
        "plt.show()\n"
      ],
      "metadata": {
        "colab": {
          "base_uri": "https://localhost:8080/",
          "height": 580
        },
        "id": "158mFOA-i0Xr",
        "outputId": "9be72ec1-20a5-4890-c47f-30337b981087"
      },
      "execution_count": null,
      "outputs": [
        {
          "output_type": "display_data",
          "data": {
            "text/plain": [
              "<Figure size 800x600 with 1 Axes>"
            ],
            "image/png": "[encoded data removed]"
          },
          "metadata": {}
        }
      ]
    },
    {
      "cell_type": "code",
      "source": [
        "#Task 14: Data Normalization\n",
        "from sklearn.preprocessing import StandardScaler\n",
        "import pandas as pd\n",
        "\n",
        "# Sample DataFrame with Payload Mass\n",
        "df = pd.DataFrame({\n",
        "    'Payload Mass': [4000, 4500, 6000, 7000]\n",
        "})\n",
        "\n",
        "# Normalizing the data\n",
        "scaler = StandardScaler()\n",
        "df['Normalized Payload Mass'] = scaler.fit_transform(df[['Payload Mass']])\n",
        "\n",
        "print(df)\n"
      ],
      "metadata": {
        "colab": {
          "base_uri": "https://localhost:8080/"
        },
        "id": "GWR29fihi6-3",
        "outputId": "0f95f724-146d-48bd-e332-ddcb569e370b"
      },
      "execution_count": null,
      "outputs": [
        {
          "output_type": "stream",
          "name": "stdout",
          "text": [
            "   Payload Mass  Normalized Payload Mass\n",
            "0          4000                -1.153113\n",
            "1          4500                -0.733799\n",
            "2          6000                 0.524142\n",
            "3          7000                 1.362770\n"
          ]
        }
      ]
    },
    {
      "cell_type": "code",
      "source": [
        "#Feature Engineering\n",
        "# Sample DataFrame with Launch Outcome\n",
        "df = pd.DataFrame({\n",
        "    'Flight No.': [1, 5, 6, 7],\n",
        "    'Launch Outcome': ['Success', 'Failure', 'Success', 'Success']\n",
        "})\n",
        "\n",
        "# Creating a new binary feature\n",
        "df['Launch Success'] = df['Launch Outcome'].map({'Success': 1, 'Failure': 0})\n",
        "\n",
        "print(df)\n"
      ],
      "metadata": {
        "colab": {
          "base_uri": "https://localhost:8080/"
        },
        "id": "sxeLgNYQjAv_",
        "outputId": "6a04a295-9e59-4191-ae7c-7f7928a497df"
      },
      "execution_count": null,
      "outputs": [
        {
          "output_type": "stream",
          "name": "stdout",
          "text": [
            "   Flight No. Launch Outcome  Launch Success\n",
            "0           1        Success               1\n",
            "1           5        Failure               0\n",
            "2           6        Success               1\n",
            "3           7        Success               1\n"
          ]
        }
      ]
    },
    {
      "cell_type": "code",
      "source": [
        "#Task 16: Outlier Detection\n",
        "import numpy as np\n",
        "\n",
        "# Sample DataFrame with Payload Mass\n",
        "df = pd.DataFrame({\n",
        "    'Payload Mass': [4000, 4500, 6000, 7000, 15000]\n",
        "})\n",
        "\n",
        "# Calculating z-scores\n",
        "z_scores = (df['Payload Mass'] - df['Payload Mass'].mean()) / df['Payload Mass'].std()\n",
        "\n",
        "# Marking outliers (those with z-score > 3)\n",
        "df['Outlier'] = np.abs(z_scores) > 3\n",
        "\n",
        "print(df)\n"
      ],
      "metadata": {
        "colab": {
          "base_uri": "https://localhost:8080/"
        },
        "id": "ucUhQuhEjqlv",
        "outputId": "2b65eba9-c05a-4e93-ec15-c5171fcf5bc4"
      },
      "execution_count": null,
      "outputs": [
        {
          "output_type": "stream",
          "name": "stdout",
          "text": [
            "   Payload Mass  Outlier\n",
            "0          4000    False\n",
            "1          4500    False\n",
            "2          6000    False\n",
            "3          7000    False\n",
            "4         15000    False\n"
          ]
        }
      ]
    },
    {
      "cell_type": "code",
      "source": [
        "import pandas as pd\n",
        "\n",
        "# Read the CSV file from the URL\n",
        "df = pd.read_csv(\"https://cf-courses-data.s3.us.cloud-object-storage.appdomain.cloud/IBM-DS0321EN-SkillsNetwork/datasets/dataset_part_1.csv\")\n",
        "\n",
        "# Display the first 10 rows of the DataFrame\n",
        "print(df.head(10))\n"
      ],
      "metadata": {
        "id": "DSof818WkRUJ",
        "colab": {
          "base_uri": "https://localhost:8080/"
        },
        "outputId": "bdb9c8f1-7d1b-44de-a571-30f535305680"
      },
      "execution_count": 33,
      "outputs": [
        {
          "output_type": "stream",
          "name": "stdout",
          "text": [
            "   FlightNumber        Date BoosterVersion  PayloadMass Orbit    LaunchSite  \\\n",
            "0             1  2010-06-04       Falcon 9  6104.959412   LEO  CCAFS SLC 40   \n",
            "1             2  2012-05-22       Falcon 9   525.000000   LEO  CCAFS SLC 40   \n",
            "2             3  2013-03-01       Falcon 9   677.000000   ISS  CCAFS SLC 40   \n",
            "3             4  2013-09-29       Falcon 9   500.000000    PO   VAFB SLC 4E   \n",
            "4             5  2013-12-03       Falcon 9  3170.000000   GTO  CCAFS SLC 40   \n",
            "5             6  2014-01-06       Falcon 9  3325.000000   GTO  CCAFS SLC 40   \n",
            "6             7  2014-04-18       Falcon 9  2296.000000   ISS  CCAFS SLC 40   \n",
            "7             8  2014-07-14       Falcon 9  1316.000000   LEO  CCAFS SLC 40   \n",
            "8             9  2014-08-05       Falcon 9  4535.000000   GTO  CCAFS SLC 40   \n",
            "9            10  2014-09-07       Falcon 9  4428.000000   GTO  CCAFS SLC 40   \n",
            "\n",
            "       Outcome  Flights  GridFins  Reused   Legs LandingPad  Block  \\\n",
            "0    None None        1     False   False  False        NaN    1.0   \n",
            "1    None None        1     False   False  False        NaN    1.0   \n",
            "2    None None        1     False   False  False        NaN    1.0   \n",
            "3  False Ocean        1     False   False  False        NaN    1.0   \n",
            "4    None None        1     False   False  False        NaN    1.0   \n",
            "5    None None        1     False   False  False        NaN    1.0   \n",
            "6   True Ocean        1     False   False   True        NaN    1.0   \n",
            "7   True Ocean        1     False   False   True        NaN    1.0   \n",
            "8    None None        1     False   False  False        NaN    1.0   \n",
            "9    None None        1     False   False  False        NaN    1.0   \n",
            "\n",
            "   ReusedCount Serial   Longitude   Latitude  \n",
            "0            0  B0003  -80.577366  28.561857  \n",
            "1            0  B0005  -80.577366  28.561857  \n",
            "2            0  B0007  -80.577366  28.561857  \n",
            "3            0  B1003 -120.610829  34.632093  \n",
            "4            0  B1004  -80.577366  28.561857  \n",
            "5            0  B1005  -80.577366  28.561857  \n",
            "6            0  B1006  -80.577366  28.561857  \n",
            "7            0  B1007  -80.577366  28.561857  \n",
            "8            0  B1008  -80.577366  28.561857  \n",
            "9            0  B1011  -80.577366  28.561857  \n"
          ]
        }
      ]
    },
    {
      "cell_type": "code",
      "source": [
        "#Task 17 Analyzing the number of launches at each site\n",
        "df['LandingPad'].fillna(df['LandingPad'].mode()[0], inplace=True)\n",
        "df.dropna(subset=['LandingPad'], inplace=True)\n",
        "#Task ONE Calculate the number of launches on each site\n",
        "launch_counts = df['LaunchSite'].value_counts()\n",
        "\n",
        "# Display the result\n",
        "print(launch_counts)\n"
      ],
      "metadata": {
        "colab": {
          "base_uri": "https://localhost:8080/"
        },
        "id": "zH1AsIU9kntP",
        "outputId": "4f4cce83-4dc5-4db5-e20f-4497d5acd1a6"
      },
      "execution_count": 34,
      "outputs": [
        {
          "output_type": "stream",
          "name": "stdout",
          "text": [
            "LaunchSite\n",
            "CCAFS SLC 40    55\n",
            "KSC LC 39A      22\n",
            "VAFB SLC 4E     13\n",
            "Name: count, dtype: int64\n"
          ]
        },
        {
          "output_type": "stream",
          "name": "stderr",
          "text": [
            "<ipython-input-34-c974db4bd9b8>:1: FutureWarning: A value is trying to be set on a copy of a DataFrame or Series through chained assignment using an inplace method.\n",
            "The behavior will change in pandas 3.0. This inplace method will never work because the intermediate object on which we are setting values always behaves as a copy.\n",
            "\n",
            "For example, when doing 'df[col].method(value, inplace=True)', try using 'df.method({col: value}, inplace=True)' or df[col] = df[col].method(value) instead, to perform the operation inplace on the original object.\n",
            "\n",
            "\n",
            "  df['LandingPad'].fillna(df['LandingPad'].mode()[0], inplace=True)\n"
          ]
        }
      ]
    },
    {
      "cell_type": "code",
      "source": [
        "# Task 18 Calculate the number of launches for each orbit\n",
        "orbit_counts = df['Orbit'].value_counts()\n",
        "\n",
        "# Display the result\n",
        "print(orbit_counts)\n"
      ],
      "metadata": {
        "colab": {
          "base_uri": "https://localhost:8080/"
        },
        "id": "r3UWX99Sk3cH",
        "outputId": "13e149c6-a55b-4b0b-fb9c-5658f4b4955f"
      },
      "execution_count": 35,
      "outputs": [
        {
          "output_type": "stream",
          "name": "stdout",
          "text": [
            "Orbit\n",
            "GTO      27\n",
            "ISS      21\n",
            "VLEO     14\n",
            "PO        9\n",
            "LEO       7\n",
            "SSO       5\n",
            "MEO       3\n",
            "ES-L1     1\n",
            "HEO       1\n",
            "SO        1\n",
            "GEO       1\n",
            "Name: count, dtype: int64\n"
          ]
        }
      ]
    },
    {
      "cell_type": "code",
      "source": [
        "#Task 19 Calculate the number of occurrences of each mission outcome\n",
        "landing_outcomes = df['Outcome'].value_counts()\n",
        "\n",
        "# Display the result\n",
        "print(landing_outcomes)\n"
      ],
      "metadata": {
        "colab": {
          "base_uri": "https://localhost:8080/"
        },
        "id": "3izY_vvGk6mo",
        "outputId": "7e98a0df-b064-4536-b273-fb7a2cfe1dbf"
      },
      "execution_count": 36,
      "outputs": [
        {
          "output_type": "stream",
          "name": "stdout",
          "text": [
            "Outcome\n",
            "True ASDS      41\n",
            "None None      19\n",
            "True RTLS      14\n",
            "False ASDS      6\n",
            "True Ocean      5\n",
            "False Ocean     2\n",
            "None ASDS       2\n",
            "False RTLS      1\n",
            "Name: count, dtype: int64\n"
          ]
        }
      ]
    },
    {
      "cell_type": "code",
      "source": [
        "# Iterate over the landing outcomes to display index and outcome\n",
        "for i, outcome in enumerate(landing_outcomes.keys()):\n",
        "    print(i, outcome)\n",
        "\n",
        "# Create a set of bad outcomes (assuming these are based on the indices 1, 3, 5, 6, and 7)\n",
        "bad_outcomes = set(list(landing_outcomes.keys())[1:8:2])  # Picking indices 1, 3, 5, 6, 7\n",
        "print(\"Bad outcomes:\", bad_outcomes)\n"
      ],
      "metadata": {
        "colab": {
          "base_uri": "https://localhost:8080/"
        },
        "id": "TL4rpFAxlDET",
        "outputId": "07044ae2-e152-43f8-8d3e-0e99c90a9e48"
      },
      "execution_count": 37,
      "outputs": [
        {
          "output_type": "stream",
          "name": "stdout",
          "text": [
            "0 True ASDS\n",
            "1 None None\n",
            "2 True RTLS\n",
            "3 False ASDS\n",
            "4 True Ocean\n",
            "5 False Ocean\n",
            "6 None ASDS\n",
            "7 False RTLS\n",
            "Bad outcomes: {'False Ocean', 'False RTLS', 'False ASDS', 'None None'}\n"
          ]
        }
      ]
    },
    {
      "cell_type": "code",
      "source": [
        "#Task 20 Create a list for landing_class based on whether the outcome is in bad_outcomes or not\n",
        "landing_class = [0 if outcome in bad_outcomes else 1 for outcome in df['Outcome']]\n",
        "\n",
        "# Assign this list to the landing_class variable\n",
        "df['LandingOutcomeLabel'] = landing_class\n",
        "\n",
        "# Display the first few rows to verify the changes\n",
        "df[['Outcome', 'LandingOutcomeLabel']].head()\n"
      ],
      "metadata": {
        "colab": {
          "base_uri": "https://localhost:8080/",
          "height": 206
        },
        "id": "7lnXkJ0zlRAE",
        "outputId": "ed5dc896-cc81-427c-b79b-736723ae5cb7"
      },
      "execution_count": 38,
      "outputs": [
        {
          "output_type": "execute_result",
          "data": {
            "text/plain": [
              "       Outcome  LandingOutcomeLabel\n",
              "0    None None                    0\n",
              "1    None None                    0\n",
              "2    None None                    0\n",
              "3  False Ocean                    0\n",
              "4    None None                    0"
            ],
            "text/html": [
              "\n",
              "  <div id=\"df-5d471a23-610d-431b-8f9e-c86d05ec0ec8\" class=\"colab-df-container\">\n",
              "    <div>\n",
              "<style scoped>\n",
              "    .dataframe tbody tr th:only-of-type {\n",
              "        vertical-align: middle;\n",
              "    }\n",
              "\n",
              "    .dataframe tbody tr th {\n",
              "        vertical-align: top;\n",
              "    }\n",
              "\n",
              "    .dataframe thead th {\n",
              "        text-align: right;\n",
              "    }\n",
              "</style>\n",
              "<table border=\"1\" class=\"dataframe\">\n",
              "  <thead>\n",
              "    <tr style=\"text-align: right;\">\n",
              "      <th></th>\n",
              "      <th>Outcome</th>\n",
              "      <th>LandingOutcomeLabel</th>\n",
              "    </tr>\n",
              "  </thead>\n",
              "  <tbody>\n",
              "    <tr>\n",
              "      <th>0</th>\n",
              "      <td>None None</td>\n",
              "      <td>0</td>\n",
              "    </tr>\n",
              "    <tr>\n",
              "      <th>1</th>\n",
              "      <td>None None</td>\n",
              "      <td>0</td>\n",
              "    </tr>\n",
              "    <tr>\n",
              "      <th>2</th>\n",
              "      <td>None None</td>\n",
              "      <td>0</td>\n",
              "    </tr>\n",
              "    <tr>\n",
              "      <th>3</th>\n",
              "      <td>False Ocean</td>\n",
              "      <td>0</td>\n",
              "    </tr>\n",
              "    <tr>\n",
              "      <th>4</th>\n",
              "      <td>None None</td>\n",
              "      <td>0</td>\n",
              "    </tr>\n",
              "  </tbody>\n",
              "</table>\n",
              "</div>\n",
              "    <div class=\"colab-df-buttons\">\n",
              "\n",
              "  <div class=\"colab-df-container\">\n",
              "    <button class=\"colab-df-convert\" onclick=\"convertToInteractive('df-5d471a23-610d-431b-8f9e-c86d05ec0ec8')\"\n",
              "            title=\"Convert this dataframe to an interactive table.\"\n",
              "            style=\"display:none;\">\n",
              "\n",
              "  <svg xmlns=\"http://www.w3.org/2000/svg\" height=\"24px\" viewBox=\"0 -960 960 960\">\n",
              "    <path d=\"M120-120v-720h720v720H120Zm60-500h600v-160H180v160Zm220 220h160v-160H400v160Zm0 220h160v-160H400v160ZM180-400h160v-160H180v160Zm440 0h160v-160H620v160ZM180-180h160v-160H180v160Zm440 0h160v-160H620v160Z\"/>\n",
              "  </svg>\n",
              "    </button>\n",
              "\n",
              "  <style>\n",
              "    .colab-df-container {\n",
              "      display:flex;\n",
              "      gap: 12px;\n",
              "    }\n",
              "\n",
              "    .colab-df-convert {\n",
              "      background-color: #E8F0FE;\n",
              "      border: none;\n",
              "      border-radius: 50%;\n",
              "      cursor: pointer;\n",
              "      display: none;\n",
              "      fill: #1967D2;\n",
              "      height: 32px;\n",
              "      padding: 0 0 0 0;\n",
              "      width: 32px;\n",
              "    }\n",
              "\n",
              "    .colab-df-convert:hover {\n",
              "      background-color: #E2EBFA;\n",
              "      box-shadow: 0px 1px 2px rgba(60, 64, 67, 0.3), 0px 1px 3px 1px rgba(60, 64, 67, 0.15);\n",
              "      fill: #174EA6;\n",
              "    }\n",
              "\n",
              "    .colab-df-buttons div {\n",
              "      margin-bottom: 4px;\n",
              "    }\n",
              "\n",
              "    [theme=dark] .colab-df-convert {\n",
              "      background-color: #3B4455;\n",
              "      fill: #D2E3FC;\n",
              "    }\n",
              "\n",
              "    [theme=dark] .colab-df-convert:hover {\n",
              "      background-color: #434B5C;\n",
              "      box-shadow: 0px 1px 3px 1px rgba(0, 0, 0, 0.15);\n",
              "      filter: drop-shadow(0px 1px 2px rgba(0, 0, 0, 0.3));\n",
              "      fill: #FFFFFF;\n",
              "    }\n",
              "  </style>\n",
              "\n",
              "    <script>\n",
              "      const buttonEl =\n",
              "        document.querySelector('#df-5d471a23-610d-431b-8f9e-c86d05ec0ec8 button.colab-df-convert');\n",
              "      buttonEl.style.display =\n",
              "        google.colab.kernel.accessAllowed ? 'block' : 'none';\n",
              "\n",
              "      async function convertToInteractive(key) {\n",
              "        const element = document.querySelector('#df-5d471a23-610d-431b-8f9e-c86d05ec0ec8');\n",
              "        const dataTable =\n",
              "          await google.colab.kernel.invokeFunction('convertToInteractive',\n",
              "                                                    [key], {});\n",
              "        if (!dataTable) return;\n",
              "\n",
              "        const docLinkHtml = 'Like what you see? Visit the ' +\n",
              "          '<a target=\"_blank\" href=https://colab.research.google.com/notebooks/data_table.ipynb>data table notebook</a>'\n",
              "          + ' to learn more about interactive tables.';\n",
              "        element.innerHTML = '';\n",
              "        dataTable['output_type'] = 'display_data';\n",
              "        await google.colab.output.renderOutput(dataTable, element);\n",
              "        const docLink = document.createElement('div');\n",
              "        docLink.innerHTML = docLinkHtml;\n",
              "        element.appendChild(docLink);\n",
              "      }\n",
              "    </script>\n",
              "  </div>\n",
              "\n",
              "\n",
              "<div id=\"df-3b92d22b-3841-4593-b0de-cbb02e17d9b2\">\n",
              "  <button class=\"colab-df-quickchart\" onclick=\"quickchart('df-3b92d22b-3841-4593-b0de-cbb02e17d9b2')\"\n",
              "            title=\"Suggest charts\"\n",
              "            style=\"display:none;\">\n",
              "\n",
              "<svg xmlns=\"http://www.w3.org/2000/svg\" height=\"24px\"viewBox=\"0 0 24 24\"\n",
              "     width=\"24px\">\n",
              "    <g>\n",
              "        <path d=\"M19 3H5c-1.1 0-2 .9-2 2v14c0 1.1.9 2 2 2h14c1.1 0 2-.9 2-2V5c0-1.1-.9-2-2-2zM9 17H7v-7h2v7zm4 0h-2V7h2v10zm4 0h-2v-4h2v4z\"/>\n",
              "    </g>\n",
              "</svg>\n",
              "  </button>\n",
              "\n",
              "<style>\n",
              "  .colab-df-quickchart {\n",
              "      --bg-color: #E8F0FE;\n",
              "      --fill-color: #1967D2;\n",
              "      --hover-bg-color: #E2EBFA;\n",
              "      --hover-fill-color: #174EA6;\n",
              "      --disabled-fill-color: #AAA;\n",
              "      --disabled-bg-color: #DDD;\n",
              "  }\n",
              "\n",
              "  [theme=dark] .colab-df-quickchart {\n",
              "      --bg-color: #3B4455;\n",
              "      --fill-color: #D2E3FC;\n",
              "      --hover-bg-color: #434B5C;\n",
              "      --hover-fill-color: #FFFFFF;\n",
              "      --disabled-bg-color: #3B4455;\n",
              "      --disabled-fill-color: #666;\n",
              "  }\n",
              "\n",
              "  .colab-df-quickchart {\n",
              "    background-color: var(--bg-color);\n",
              "    border: none;\n",
              "    border-radius: 50%;\n",
              "    cursor: pointer;\n",
              "    display: none;\n",
              "    fill: var(--fill-color);\n",
              "    height: 32px;\n",
              "    padding: 0;\n",
              "    width: 32px;\n",
              "  }\n",
              "\n",
              "  .colab-df-quickchart:hover {\n",
              "    background-color: var(--hover-bg-color);\n",
              "    box-shadow: 0 1px 2px rgba(60, 64, 67, 0.3), 0 1px 3px 1px rgba(60, 64, 67, 0.15);\n",
              "    fill: var(--button-hover-fill-color);\n",
              "  }\n",
              "\n",
              "  .colab-df-quickchart-complete:disabled,\n",
              "  .colab-df-quickchart-complete:disabled:hover {\n",
              "    background-color: var(--disabled-bg-color);\n",
              "    fill: var(--disabled-fill-color);\n",
              "    box-shadow: none;\n",
              "  }\n",
              "\n",
              "  .colab-df-spinner {\n",
              "    border: 2px solid var(--fill-color);\n",
              "    border-color: transparent;\n",
              "    border-bottom-color: var(--fill-color);\n",
              "    animation:\n",
              "      spin 1s steps(1) infinite;\n",
              "  }\n",
              "\n",
              "  @keyframes spin {\n",
              "    0% {\n",
              "      border-color: transparent;\n",
              "      border-bottom-color: var(--fill-color);\n",
              "      border-left-color: var(--fill-color);\n",
              "    }\n",
              "    20% {\n",
              "      border-color: transparent;\n",
              "      border-left-color: var(--fill-color);\n",
              "      border-top-color: var(--fill-color);\n",
              "    }\n",
              "    30% {\n",
              "      border-color: transparent;\n",
              "      border-left-color: var(--fill-color);\n",
              "      border-top-color: var(--fill-color);\n",
              "      border-right-color: var(--fill-color);\n",
              "    }\n",
              "    40% {\n",
              "      border-color: transparent;\n",
              "      border-right-color: var(--fill-color);\n",
              "      border-top-color: var(--fill-color);\n",
              "    }\n",
              "    60% {\n",
              "      border-color: transparent;\n",
              "      border-right-color: var(--fill-color);\n",
              "    }\n",
              "    80% {\n",
              "      border-color: transparent;\n",
              "      border-right-color: var(--fill-color);\n",
              "      border-bottom-color: var(--fill-color);\n",
              "    }\n",
              "    90% {\n",
              "      border-color: transparent;\n",
              "      border-bottom-color: var(--fill-color);\n",
              "    }\n",
              "  }\n",
              "</style>\n",
              "\n",
              "  <script>\n",
              "    async function quickchart(key) {\n",
              "      const quickchartButtonEl =\n",
              "        document.querySelector('#' + key + ' button');\n",
              "      quickchartButtonEl.disabled = true;  // To prevent multiple clicks.\n",
              "      quickchartButtonEl.classList.add('colab-df-spinner');\n",
              "      try {\n",
              "        const charts = await google.colab.kernel.invokeFunction(\n",
              "            'suggestCharts', [key], {});\n",
              "      } catch (error) {\n",
              "        console.error('Error during call to suggestCharts:', error);\n",
              "      }\n",
              "      quickchartButtonEl.classList.remove('colab-df-spinner');\n",
              "      quickchartButtonEl.classList.add('colab-df-quickchart-complete');\n",
              "    }\n",
              "    (() => {\n",
              "      let quickchartButtonEl =\n",
              "        document.querySelector('#df-3b92d22b-3841-4593-b0de-cbb02e17d9b2 button');\n",
              "      quickchartButtonEl.style.display =\n",
              "        google.colab.kernel.accessAllowed ? 'block' : 'none';\n",
              "    })();\n",
              "  </script>\n",
              "</div>\n",
              "\n",
              "    </div>\n",
              "  </div>\n"
            ],
            "application/vnd.google.colaboratory.intrinsic+json": {
              "type": "dataframe",
              "summary": "{\n  \"name\": \"df[['Outcome', 'LandingOutcomeLabel']]\",\n  \"rows\": 5,\n  \"fields\": [\n    {\n      \"column\": \"Outcome\",\n      \"properties\": {\n        \"dtype\": \"category\",\n        \"num_unique_values\": 2,\n        \"samples\": [\n          \"False Ocean\",\n          \"None None\"\n        ],\n        \"semantic_type\": \"\",\n        \"description\": \"\"\n      }\n    },\n    {\n      \"column\": \"LandingOutcomeLabel\",\n      \"properties\": {\n        \"dtype\": \"number\",\n        \"std\": 0,\n        \"min\": 0,\n        \"max\": 0,\n        \"num_unique_values\": 1,\n        \"samples\": [\n          0\n        ],\n        \"semantic_type\": \"\",\n        \"description\": \"\"\n      }\n    }\n  ]\n}"
            }
          },
          "metadata": {},
          "execution_count": 38
        }
      ]
    },
    {
      "cell_type": "code",
      "source": [
        "#Task 21 Calculating the mean of the success rate\n",
        "df['Class']=landing_class\n",
        "df[['Class']].head(8)\n",
        "df.head(5)\n",
        "df[\"Class\"].mean()"
      ],
      "metadata": {
        "colab": {
          "base_uri": "https://localhost:8080/"
        },
        "id": "cU9DbTvYlg72",
        "outputId": "a8b8fa0c-9623-4b14-caa8-05ae9395b58a"
      },
      "execution_count": 39,
      "outputs": [
        {
          "output_type": "execute_result",
          "data": {
            "text/plain": [
              "0.6888888888888889"
            ]
          },
          "metadata": {},
          "execution_count": 39
        }
      ]
    },
    {
      "cell_type": "code",
      "source": [
        "#Task 22 Count the number of launches from each launch site\n",
        "launch_site_counts = df['LaunchSite'].value_counts()\n",
        "\n",
        "# Filter for the number of launches from 'CCAFS SLC 40'\n",
        "launches_ccafs_slc_40 = launch_site_counts.get('CCAFS SLC 40', 0)\n",
        "\n",
        "# Print the result\n",
        "print(f\"Number of launches from CCAFS SLC 40: {launches_ccafs_slc_40}\")\n"
      ],
      "metadata": {
        "colab": {
          "base_uri": "https://localhost:8080/"
        },
        "id": "UkRlqjm0mmUa",
        "outputId": "316ec2e1-3285-4f0c-9131-8ce40d3ccaeb"
      },
      "execution_count": 40,
      "outputs": [
        {
          "output_type": "stream",
          "name": "stdout",
          "text": [
            "Number of launches from CCAFS SLC 40: 55\n"
          ]
        }
      ]
    },
    {
      "cell_type": "code",
      "source": [
        "#Task 23 Define the set of landing outcomes that represent a complete failure to land\n",
        "failure_outcomes = {'None ASDS', 'None RTLS', 'None None'}\n",
        "\n",
        "# Filter the rows where Outcome is one of the failure outcomes\n",
        "failure_landings = df[df['Outcome'].isin(failure_outcomes)]\n",
        "\n",
        "# Count the number of such outcomes\n",
        "failure_landings_count = failure_landings.shape[0]\n",
        "\n",
        "# Print the result\n",
        "print(f\"Number of landing outcomes that represent a complete failure to land: {failure_landings_count}\")\n"
      ],
      "metadata": {
        "colab": {
          "base_uri": "https://localhost:8080/"
        },
        "id": "8-5dKX7WmrF8",
        "outputId": "0906baf5-16b3-44f2-d02c-f1bbb3e516e7"
      },
      "execution_count": 41,
      "outputs": [
        {
          "output_type": "stream",
          "name": "stdout",
          "text": [
            "Number of landing outcomes that represent a complete failure to land: 21\n"
          ]
        }
      ]
    },
    {
      "cell_type": "code",
      "source": [
        "!pip install sqlalchemy==1.3.9\n",
        "!pip install ipython-sql\n",
        "!pip install pandas\n"
      ],
      "metadata": {
        "colab": {
          "base_uri": "https://localhost:8080/"
        },
        "id": "1CwzVe_Vr1V5",
        "outputId": "84707922-637a-4ead-ff48-6d525c24b407"
      },
      "execution_count": 5,
      "outputs": [
        {
          "output_type": "stream",
          "name": "stdout",
          "text": [
            "Collecting sqlalchemy==1.3.9\n",
            "  Using cached SQLAlchemy-1.3.9-cp310-cp310-linux_x86_64.whl\n",
            "Installing collected packages: sqlalchemy\n",
            "  Attempting uninstall: sqlalchemy\n",
            "    Found existing installation: SQLAlchemy 2.0.36\n",
            "    Uninstalling SQLAlchemy-2.0.36:\n",
            "      Successfully uninstalled SQLAlchemy-2.0.36\n",
            "\u001b[31mERROR: pip's dependency resolver does not currently take into account all the packages that are installed. This behaviour is the source of the following dependency conflicts.\n",
            "bigframes 1.29.0 requires sqlalchemy<3.0dev,>=1.4, but you have sqlalchemy 1.3.9 which is incompatible.\n",
            "ipython-sql 0.5.0 requires sqlalchemy>=2.0, but you have sqlalchemy 1.3.9 which is incompatible.\n",
            "langchain 0.3.12 requires SQLAlchemy<3,>=1.4, but you have sqlalchemy 1.3.9 which is incompatible.\u001b[0m\u001b[31m\n",
            "\u001b[0mSuccessfully installed sqlalchemy-1.3.9\n",
            "Requirement already satisfied: ipython-sql in /usr/local/lib/python3.10/dist-packages (0.5.0)\n",
            "Requirement already satisfied: prettytable in /usr/local/lib/python3.10/dist-packages (from ipython-sql) (3.12.0)\n",
            "Requirement already satisfied: ipython in /usr/local/lib/python3.10/dist-packages (from ipython-sql) (7.34.0)\n",
            "Collecting sqlalchemy>=2.0 (from ipython-sql)\n",
            "  Using cached SQLAlchemy-2.0.36-cp310-cp310-manylinux_2_17_x86_64.manylinux2014_x86_64.whl.metadata (9.7 kB)\n",
            "Requirement already satisfied: sqlparse in /usr/local/lib/python3.10/dist-packages (from ipython-sql) (0.5.3)\n",
            "Requirement already satisfied: six in /usr/local/lib/python3.10/dist-packages (from ipython-sql) (1.17.0)\n",
            "Requirement already satisfied: ipython-genutils in /usr/local/lib/python3.10/dist-packages (from ipython-sql) (0.2.0)\n",
            "Requirement already satisfied: typing-extensions>=4.6.0 in /usr/local/lib/python3.10/dist-packages (from sqlalchemy>=2.0->ipython-sql) (4.12.2)\n",
            "Requirement already satisfied: greenlet!=0.4.17 in /usr/local/lib/python3.10/dist-packages (from sqlalchemy>=2.0->ipython-sql) (3.1.1)\n",
            "Requirement already satisfied: setuptools>=18.5 in /usr/local/lib/python3.10/dist-packages (from ipython->ipython-sql) (75.1.0)\n",
            "Requirement already satisfied: jedi>=0.16 in /usr/local/lib/python3.10/dist-packages (from ipython->ipython-sql) (0.19.2)\n",
            "Requirement already satisfied: decorator in /usr/local/lib/python3.10/dist-packages (from ipython->ipython-sql) (4.4.2)\n",
            "Requirement already satisfied: pickleshare in /usr/local/lib/python3.10/dist-packages (from ipython->ipython-sql) (0.7.5)\n",
            "Requirement already satisfied: traitlets>=4.2 in /usr/local/lib/python3.10/dist-packages (from ipython->ipython-sql) (5.7.1)\n",
            "Requirement already satisfied: prompt-toolkit!=3.0.0,!=3.0.1,<3.1.0,>=2.0.0 in /usr/local/lib/python3.10/dist-packages (from ipython->ipython-sql) (3.0.48)\n",
            "Requirement already satisfied: pygments in /usr/local/lib/python3.10/dist-packages (from ipython->ipython-sql) (2.18.0)\n",
            "Requirement already satisfied: backcall in /usr/local/lib/python3.10/dist-packages (from ipython->ipython-sql) (0.2.0)\n",
            "Requirement already satisfied: matplotlib-inline in /usr/local/lib/python3.10/dist-packages (from ipython->ipython-sql) (0.1.7)\n",
            "Requirement already satisfied: pexpect>4.3 in /usr/local/lib/python3.10/dist-packages (from ipython->ipython-sql) (4.9.0)\n",
            "Requirement already satisfied: wcwidth in /usr/local/lib/python3.10/dist-packages (from prettytable->ipython-sql) (0.2.13)\n",
            "Requirement already satisfied: parso<0.9.0,>=0.8.4 in /usr/local/lib/python3.10/dist-packages (from jedi>=0.16->ipython->ipython-sql) (0.8.4)\n",
            "Requirement already satisfied: ptyprocess>=0.5 in /usr/local/lib/python3.10/dist-packages (from pexpect>4.3->ipython->ipython-sql) (0.7.0)\n",
            "Using cached SQLAlchemy-2.0.36-cp310-cp310-manylinux_2_17_x86_64.manylinux2014_x86_64.whl (3.1 MB)\n",
            "Installing collected packages: sqlalchemy\n",
            "  Attempting uninstall: sqlalchemy\n",
            "    Found existing installation: SQLAlchemy 1.3.9\n",
            "    Uninstalling SQLAlchemy-1.3.9:\n",
            "      Successfully uninstalled SQLAlchemy-1.3.9\n",
            "Successfully installed sqlalchemy-2.0.36\n",
            "Requirement already satisfied: pandas in /usr/local/lib/python3.10/dist-packages (2.2.2)\n",
            "Requirement already satisfied: numpy>=1.22.4 in /usr/local/lib/python3.10/dist-packages (from pandas) (1.26.4)\n",
            "Requirement already satisfied: python-dateutil>=2.8.2 in /usr/local/lib/python3.10/dist-packages (from pandas) (2.8.2)\n",
            "Requirement already satisfied: pytz>=2020.1 in /usr/local/lib/python3.10/dist-packages (from pandas) (2024.2)\n",
            "Requirement already satisfied: tzdata>=2022.7 in /usr/local/lib/python3.10/dist-packages (from pandas) (2024.2)\n",
            "Requirement already satisfied: six>=1.5 in /usr/local/lib/python3.10/dist-packages (from python-dateutil>=2.8.2->pandas) (1.17.0)\n"
          ]
        }
      ]
    },
    {
      "cell_type": "code",
      "source": [
        "from google.colab import files\n",
        "import pandas as pd\n",
        "import sqlite3\n",
        "import io\n",
        "\n",
        "# Enabling SQL magic for use in Google Colab\n",
        "%load_ext sql\n"
      ],
      "metadata": {
        "id": "V4vLmy2ur3hR"
      },
      "execution_count": 6,
      "outputs": []
    },
    {
      "cell_type": "code",
      "source": [
        "# Upload the CSV file\n",
        "uploaded = files.upload()\n"
      ],
      "metadata": {
        "colab": {
          "base_uri": "https://localhost:8080/",
          "height": 73
        },
        "id": "OVTWlGU3r8Mq",
        "outputId": "b25f7395-7fb2-4d01-a010-49fae0510e45"
      },
      "execution_count": 7,
      "outputs": [
        {
          "output_type": "display_data",
          "data": {
            "text/plain": [
              "<IPython.core.display.HTML object>"
            ],
            "text/html": [
              "\n",
              "     <input type=\"file\" id=\"files-e7421f17-e670-4952-94c7-94e0b1cb8899\" name=\"files[]\" multiple disabled\n",
              "        style=\"border:none\" />\n",
              "     <output id=\"result-e7421f17-e670-4952-94c7-94e0b1cb8899\">\n",
              "      Upload widget is only available when the cell has been executed in the\n",
              "      current browser session. Please rerun this cell to enable.\n",
              "      </output>\n",
              "      <script>// Copyright 2017 Google LLC\n",
              "//\n",
              "// Licensed under the Apache License, Version 2.0 (the \"License\");\n",
              "// you may not use this file except in compliance with the License.\n",
              "// You may obtain a copy of the License at\n",
              "//\n",
              "//      http://www.apache.org/licenses/LICENSE-2.0\n",
              "//\n",
              "// Unless required by applicable law or agreed to in writing, software\n",
              "// distributed under the License is distributed on an \"AS IS\" BASIS,\n",
              "// WITHOUT WARRANTIES OR CONDITIONS OF ANY KIND, either express or implied.\n",
              "// See the License for the specific language governing permissions and\n",
              "// limitations under the License.\n",
              "\n",
              "/**\n",
              " * @fileoverview Helpers for google.colab Python module.\n",
              " */\n",
              "(function(scope) {\n",
              "function span(text, styleAttributes = {}) {\n",
              "  const element = document.createElement('span');\n",
              "  element.textContent = text;\n",
              "  for (const key of Object.keys(styleAttributes)) {\n",
              "    element.style[key] = styleAttributes[key];\n",
              "  }\n",
              "  return element;\n",
              "}\n",
              "\n",
              "// Max number of bytes which will be uploaded at a time.\n",
              "const MAX_PAYLOAD_SIZE = 100 * 1024;\n",
              "\n",
              "function _uploadFiles(inputId, outputId) {\n",
              "  const steps = uploadFilesStep(inputId, outputId);\n",
              "  const outputElement = document.getElementById(outputId);\n",
              "  // Cache steps on the outputElement to make it available for the next call\n",
              "  // to uploadFilesContinue from Python.\n",
              "  outputElement.steps = steps;\n",
              "\n",
              "  return _uploadFilesContinue(outputId);\n",
              "}\n",
              "\n",
              "// This is roughly an async generator (not supported in the browser yet),\n",
              "// where there are multiple asynchronous steps and the Python side is going\n",
              "// to poll for completion of each step.\n",
              "// This uses a Promise to block the python side on completion of each step,\n",
              "// then passes the result of the previous step as the input to the next step.\n",
              "function _uploadFilesContinue(outputId) {\n",
              "  const outputElement = document.getElementById(outputId);\n",
              "  const steps = outputElement.steps;\n",
              "\n",
              "  const next = steps.next(outputElement.lastPromiseValue);\n",
              "  return Promise.resolve(next.value.promise).then((value) => {\n",
              "    // Cache the last promise value to make it available to the next\n",
              "    // step of the generator.\n",
              "    outputElement.lastPromiseValue = value;\n",
              "    return next.value.response;\n",
              "  });\n",
              "}\n",
              "\n",
              "/**\n",
              " * Generator function which is called between each async step of the upload\n",
              " * process.\n",
              " * @param {string} inputId Element ID of the input file picker element.\n",
              " * @param {string} outputId Element ID of the output display.\n",
              " * @return {!Iterable<!Object>} Iterable of next steps.\n",
              " */\n",
              "function* uploadFilesStep(inputId, outputId) {\n",
              "  const inputElement = document.getElementById(inputId);\n",
              "  inputElement.disabled = false;\n",
              "\n",
              "  const outputElement = document.getElementById(outputId);\n",
              "  outputElement.innerHTML = '';\n",
              "\n",
              "  const pickedPromise = new Promise((resolve) => {\n",
              "    inputElement.addEventListener('change', (e) => {\n",
              "      resolve(e.target.files);\n",
              "    });\n",
              "  });\n",
              "\n",
              "  const cancel = document.createElement('button');\n",
              "  inputElement.parentElement.appendChild(cancel);\n",
              "  cancel.textContent = 'Cancel upload';\n",
              "  const cancelPromise = new Promise((resolve) => {\n",
              "    cancel.onclick = () => {\n",
              "      resolve(null);\n",
              "    };\n",
              "  });\n",
              "\n",
              "  // Wait for the user to pick the files.\n",
              "  const files = yield {\n",
              "    promise: Promise.race([pickedPromise, cancelPromise]),\n",
              "    response: {\n",
              "      action: 'starting',\n",
              "    }\n",
              "  };\n",
              "\n",
              "  cancel.remove();\n",
              "\n",
              "  // Disable the input element since further picks are not allowed.\n",
              "  inputElement.disabled = true;\n",
              "\n",
              "  if (!files) {\n",
              "    return {\n",
              "      response: {\n",
              "        action: 'complete',\n",
              "      }\n",
              "    };\n",
              "  }\n",
              "\n",
              "  for (const file of files) {\n",
              "    const li = document.createElement('li');\n",
              "    li.append(span(file.name, {fontWeight: 'bold'}));\n",
              "    li.append(span(\n",
              "        `(${file.type || 'n/a'}) - ${file.size} bytes, ` +\n",
              "        `last modified: ${\n",
              "            file.lastModifiedDate ? file.lastModifiedDate.toLocaleDateString() :\n",
              "                                    'n/a'} - `));\n",
              "    const percent = span('0% done');\n",
              "    li.appendChild(percent);\n",
              "\n",
              "    outputElement.appendChild(li);\n",
              "\n",
              "    const fileDataPromise = new Promise((resolve) => {\n",
              "      const reader = new FileReader();\n",
              "      reader.onload = (e) => {\n",
              "        resolve(e.target.result);\n",
              "      };\n",
              "      reader.readAsArrayBuffer(file);\n",
              "    });\n",
              "    // Wait for the data to be ready.\n",
              "    let fileData = yield {\n",
              "      promise: fileDataPromise,\n",
              "      response: {\n",
              "        action: 'continue',\n",
              "      }\n",
              "    };\n",
              "\n",
              "    // Use a chunked sending to avoid message size limits. See b/62115660.\n",
              "    let position = 0;\n",
              "    do {\n",
              "      const length = Math.min(fileData.byteLength - position, MAX_PAYLOAD_SIZE);\n",
              "      const chunk = new Uint8Array(fileData, position, length);\n",
              "      position += length;\n",
              "\n",
              "      const base64 = btoa(String.fromCharCode.apply(null, chunk));\n",
              "      yield {\n",
              "        response: {\n",
              "          action: 'append',\n",
              "          file: file.name,\n",
              "          data: base64,\n",
              "        },\n",
              "      };\n",
              "\n",
              "      let percentDone = fileData.byteLength === 0 ?\n",
              "          100 :\n",
              "          Math.round((position / fileData.byteLength) * 100);\n",
              "      percent.textContent = `${percentDone}% done`;\n",
              "\n",
              "    } while (position < fileData.byteLength);\n",
              "  }\n",
              "\n",
              "  // All done.\n",
              "  yield {\n",
              "    response: {\n",
              "      action: 'complete',\n",
              "    }\n",
              "  };\n",
              "}\n",
              "\n",
              "scope.google = scope.google || {};\n",
              "scope.google.colab = scope.google.colab || {};\n",
              "scope.google.colab._files = {\n",
              "  _uploadFiles,\n",
              "  _uploadFilesContinue,\n",
              "};\n",
              "})(self);\n",
              "</script> "
            ]
          },
          "metadata": {}
        },
        {
          "output_type": "stream",
          "name": "stdout",
          "text": [
            "Saving Spacex.csv to Spacex (4).csv\n"
          ]
        }
      ]
    },
    {
      "cell_type": "code",
      "source": [
        "# Read the CSV file into a pandas DataFrame\n",
        "# Assuming the uploaded file is named 'Spacex.csv'\n",
        "# Replace 'Spacex.csv' with the actual filename if different\n",
        "df = pd.read_csv(io.BytesIO(uploaded['Spacex (4).csv']))\n",
        "\n",
        "# Display the first 5 rows of the DataFrame to confirm it's loaded correctly\n",
        "df.head()\n"
      ],
      "metadata": {
        "colab": {
          "base_uri": "https://localhost:8080/",
          "height": 327
        },
        "id": "csT4r4H8sDun",
        "outputId": "887d1edc-1f9e-4f25-da3b-faf7d64b5c3c"
      },
      "execution_count": 8,
      "outputs": [
        {
          "output_type": "execute_result",
          "data": {
            "text/plain": [
              "         Date Time (UTC) Booster_Version  Launch_Site  \\\n",
              "0  2010-06-04   18:45:00  F9 v1.0  B0003  CCAFS LC-40   \n",
              "1  2010-12-08   15:43:00  F9 v1.0  B0004  CCAFS LC-40   \n",
              "2  2012-05-22    7:44:00  F9 v1.0  B0005  CCAFS LC-40   \n",
              "3  2012-10-08    0:35:00  F9 v1.0  B0006  CCAFS LC-40   \n",
              "4  2013-03-01   15:10:00  F9 v1.0  B0007  CCAFS LC-40   \n",
              "\n",
              "                                             Payload  PAYLOAD_MASS__KG_  \\\n",
              "0               Dragon Spacecraft Qualification Unit                  0   \n",
              "1  Dragon demo flight C1, two CubeSats, barrel of...                  0   \n",
              "2                              Dragon demo flight C2                525   \n",
              "3                                       SpaceX CRS-1                500   \n",
              "4                                       SpaceX CRS-2                677   \n",
              "\n",
              "       Orbit         Customer Mission_Outcome      Landing_Outcome  \n",
              "0        LEO           SpaceX         Success  Failure (parachute)  \n",
              "1  LEO (ISS)  NASA (COTS) NRO         Success  Failure (parachute)  \n",
              "2  LEO (ISS)      NASA (COTS)         Success           No attempt  \n",
              "3  LEO (ISS)       NASA (CRS)         Success           No attempt  \n",
              "4  LEO (ISS)       NASA (CRS)         Success           No attempt  "
            ],
            "text/html": [
              "\n",
              "  <div id=\"df-b88e5123-7aae-4ae4-a7ea-d59391622526\" class=\"colab-df-container\">\n",
              "    <div>\n",
              "<style scoped>\n",
              "    .dataframe tbody tr th:only-of-type {\n",
              "        vertical-align: middle;\n",
              "    }\n",
              "\n",
              "    .dataframe tbody tr th {\n",
              "        vertical-align: top;\n",
              "    }\n",
              "\n",
              "    .dataframe thead th {\n",
              "        text-align: right;\n",
              "    }\n",
              "</style>\n",
              "<table border=\"1\" class=\"dataframe\">\n",
              "  <thead>\n",
              "    <tr style=\"text-align: right;\">\n",
              "      <th></th>\n",
              "      <th>Date</th>\n",
              "      <th>Time (UTC)</th>\n",
              "      <th>Booster_Version</th>\n",
              "      <th>Launch_Site</th>\n",
              "      <th>Payload</th>\n",
              "      <th>PAYLOAD_MASS__KG_</th>\n",
              "      <th>Orbit</th>\n",
              "      <th>Customer</th>\n",
              "      <th>Mission_Outcome</th>\n",
              "      <th>Landing_Outcome</th>\n",
              "    </tr>\n",
              "  </thead>\n",
              "  <tbody>\n",
              "    <tr>\n",
              "      <th>0</th>\n",
              "      <td>2010-06-04</td>\n",
              "      <td>18:45:00</td>\n",
              "      <td>F9 v1.0  B0003</td>\n",
              "      <td>CCAFS LC-40</td>\n",
              "      <td>Dragon Spacecraft Qualification Unit</td>\n",
              "      <td>0</td>\n",
              "      <td>LEO</td>\n",
              "      <td>SpaceX</td>\n",
              "      <td>Success</td>\n",
              "      <td>Failure (parachute)</td>\n",
              "    </tr>\n",
              "    <tr>\n",
              "      <th>1</th>\n",
              "      <td>2010-12-08</td>\n",
              "      <td>15:43:00</td>\n",
              "      <td>F9 v1.0  B0004</td>\n",
              "      <td>CCAFS LC-40</td>\n",
              "      <td>Dragon demo flight C1, two CubeSats, barrel of...</td>\n",
              "      <td>0</td>\n",
              "      <td>LEO (ISS)</td>\n",
              "      <td>NASA (COTS) NRO</td>\n",
              "      <td>Success</td>\n",
              "      <td>Failure (parachute)</td>\n",
              "    </tr>\n",
              "    <tr>\n",
              "      <th>2</th>\n",
              "      <td>2012-05-22</td>\n",
              "      <td>7:44:00</td>\n",
              "      <td>F9 v1.0  B0005</td>\n",
              "      <td>CCAFS LC-40</td>\n",
              "      <td>Dragon demo flight C2</td>\n",
              "      <td>525</td>\n",
              "      <td>LEO (ISS)</td>\n",
              "      <td>NASA (COTS)</td>\n",
              "      <td>Success</td>\n",
              "      <td>No attempt</td>\n",
              "    </tr>\n",
              "    <tr>\n",
              "      <th>3</th>\n",
              "      <td>2012-10-08</td>\n",
              "      <td>0:35:00</td>\n",
              "      <td>F9 v1.0  B0006</td>\n",
              "      <td>CCAFS LC-40</td>\n",
              "      <td>SpaceX CRS-1</td>\n",
              "      <td>500</td>\n",
              "      <td>LEO (ISS)</td>\n",
              "      <td>NASA (CRS)</td>\n",
              "      <td>Success</td>\n",
              "      <td>No attempt</td>\n",
              "    </tr>\n",
              "    <tr>\n",
              "      <th>4</th>\n",
              "      <td>2013-03-01</td>\n",
              "      <td>15:10:00</td>\n",
              "      <td>F9 v1.0  B0007</td>\n",
              "      <td>CCAFS LC-40</td>\n",
              "      <td>SpaceX CRS-2</td>\n",
              "      <td>677</td>\n",
              "      <td>LEO (ISS)</td>\n",
              "      <td>NASA (CRS)</td>\n",
              "      <td>Success</td>\n",
              "      <td>No attempt</td>\n",
              "    </tr>\n",
              "  </tbody>\n",
              "</table>\n",
              "</div>\n",
              "    <div class=\"colab-df-buttons\">\n",
              "\n",
              "  <div class=\"colab-df-container\">\n",
              "    <button class=\"colab-df-convert\" onclick=\"convertToInteractive('df-b88e5123-7aae-4ae4-a7ea-d59391622526')\"\n",
              "            title=\"Convert this dataframe to an interactive table.\"\n",
              "            style=\"display:none;\">\n",
              "\n",
              "  <svg xmlns=\"http://www.w3.org/2000/svg\" height=\"24px\" viewBox=\"0 -960 960 960\">\n",
              "    <path d=\"M120-120v-720h720v720H120Zm60-500h600v-160H180v160Zm220 220h160v-160H400v160Zm0 220h160v-160H400v160ZM180-400h160v-160H180v160Zm440 0h160v-160H620v160ZM180-180h160v-160H180v160Zm440 0h160v-160H620v160Z\"/>\n",
              "  </svg>\n",
              "    </button>\n",
              "\n",
              "  <style>\n",
              "    .colab-df-container {\n",
              "      display:flex;\n",
              "      gap: 12px;\n",
              "    }\n",
              "\n",
              "    .colab-df-convert {\n",
              "      background-color: #E8F0FE;\n",
              "      border: none;\n",
              "      border-radius: 50%;\n",
              "      cursor: pointer;\n",
              "      display: none;\n",
              "      fill: #1967D2;\n",
              "      height: 32px;\n",
              "      padding: 0 0 0 0;\n",
              "      width: 32px;\n",
              "    }\n",
              "\n",
              "    .colab-df-convert:hover {\n",
              "      background-color: #E2EBFA;\n",
              "      box-shadow: 0px 1px 2px rgba(60, 64, 67, 0.3), 0px 1px 3px 1px rgba(60, 64, 67, 0.15);\n",
              "      fill: #174EA6;\n",
              "    }\n",
              "\n",
              "    .colab-df-buttons div {\n",
              "      margin-bottom: 4px;\n",
              "    }\n",
              "\n",
              "    [theme=dark] .colab-df-convert {\n",
              "      background-color: #3B4455;\n",
              "      fill: #D2E3FC;\n",
              "    }\n",
              "\n",
              "    [theme=dark] .colab-df-convert:hover {\n",
              "      background-color: #434B5C;\n",
              "      box-shadow: 0px 1px 3px 1px rgba(0, 0, 0, 0.15);\n",
              "      filter: drop-shadow(0px 1px 2px rgba(0, 0, 0, 0.3));\n",
              "      fill: #FFFFFF;\n",
              "    }\n",
              "  </style>\n",
              "\n",
              "    <script>\n",
              "      const buttonEl =\n",
              "        document.querySelector('#df-b88e5123-7aae-4ae4-a7ea-d59391622526 button.colab-df-convert');\n",
              "      buttonEl.style.display =\n",
              "        google.colab.kernel.accessAllowed ? 'block' : 'none';\n",
              "\n",
              "      async function convertToInteractive(key) {\n",
              "        const element = document.querySelector('#df-b88e5123-7aae-4ae4-a7ea-d59391622526');\n",
              "        const dataTable =\n",
              "          await google.colab.kernel.invokeFunction('convertToInteractive',\n",
              "                                                    [key], {});\n",
              "        if (!dataTable) return;\n",
              "\n",
              "        const docLinkHtml = 'Like what you see? Visit the ' +\n",
              "          '<a target=\"_blank\" href=https://colab.research.google.com/notebooks/data_table.ipynb>data table notebook</a>'\n",
              "          + ' to learn more about interactive tables.';\n",
              "        element.innerHTML = '';\n",
              "        dataTable['output_type'] = 'display_data';\n",
              "        await google.colab.output.renderOutput(dataTable, element);\n",
              "        const docLink = document.createElement('div');\n",
              "        docLink.innerHTML = docLinkHtml;\n",
              "        element.appendChild(docLink);\n",
              "      }\n",
              "    </script>\n",
              "  </div>\n",
              "\n",
              "\n",
              "<div id=\"df-58d1a3fb-1dd9-4f01-b7fc-791899eb83e7\">\n",
              "  <button class=\"colab-df-quickchart\" onclick=\"quickchart('df-58d1a3fb-1dd9-4f01-b7fc-791899eb83e7')\"\n",
              "            title=\"Suggest charts\"\n",
              "            style=\"display:none;\">\n",
              "\n",
              "<svg xmlns=\"http://www.w3.org/2000/svg\" height=\"24px\"viewBox=\"0 0 24 24\"\n",
              "     width=\"24px\">\n",
              "    <g>\n",
              "        <path d=\"M19 3H5c-1.1 0-2 .9-2 2v14c0 1.1.9 2 2 2h14c1.1 0 2-.9 2-2V5c0-1.1-.9-2-2-2zM9 17H7v-7h2v7zm4 0h-2V7h2v10zm4 0h-2v-4h2v4z\"/>\n",
              "    </g>\n",
              "</svg>\n",
              "  </button>\n",
              "\n",
              "<style>\n",
              "  .colab-df-quickchart {\n",
              "      --bg-color: #E8F0FE;\n",
              "      --fill-color: #1967D2;\n",
              "      --hover-bg-color: #E2EBFA;\n",
              "      --hover-fill-color: #174EA6;\n",
              "      --disabled-fill-color: #AAA;\n",
              "      --disabled-bg-color: #DDD;\n",
              "  }\n",
              "\n",
              "  [theme=dark] .colab-df-quickchart {\n",
              "      --bg-color: #3B4455;\n",
              "      --fill-color: #D2E3FC;\n",
              "      --hover-bg-color: #434B5C;\n",
              "      --hover-fill-color: #FFFFFF;\n",
              "      --disabled-bg-color: #3B4455;\n",
              "      --disabled-fill-color: #666;\n",
              "  }\n",
              "\n",
              "  .colab-df-quickchart {\n",
              "    background-color: var(--bg-color);\n",
              "    border: none;\n",
              "    border-radius: 50%;\n",
              "    cursor: pointer;\n",
              "    display: none;\n",
              "    fill: var(--fill-color);\n",
              "    height: 32px;\n",
              "    padding: 0;\n",
              "    width: 32px;\n",
              "  }\n",
              "\n",
              "  .colab-df-quickchart:hover {\n",
              "    background-color: var(--hover-bg-color);\n",
              "    box-shadow: 0 1px 2px rgba(60, 64, 67, 0.3), 0 1px 3px 1px rgba(60, 64, 67, 0.15);\n",
              "    fill: var(--button-hover-fill-color);\n",
              "  }\n",
              "\n",
              "  .colab-df-quickchart-complete:disabled,\n",
              "  .colab-df-quickchart-complete:disabled:hover {\n",
              "    background-color: var(--disabled-bg-color);\n",
              "    fill: var(--disabled-fill-color);\n",
              "    box-shadow: none;\n",
              "  }\n",
              "\n",
              "  .colab-df-spinner {\n",
              "    border: 2px solid var(--fill-color);\n",
              "    border-color: transparent;\n",
              "    border-bottom-color: var(--fill-color);\n",
              "    animation:\n",
              "      spin 1s steps(1) infinite;\n",
              "  }\n",
              "\n",
              "  @keyframes spin {\n",
              "    0% {\n",
              "      border-color: transparent;\n",
              "      border-bottom-color: var(--fill-color);\n",
              "      border-left-color: var(--fill-color);\n",
              "    }\n",
              "    20% {\n",
              "      border-color: transparent;\n",
              "      border-left-color: var(--fill-color);\n",
              "      border-top-color: var(--fill-color);\n",
              "    }\n",
              "    30% {\n",
              "      border-color: transparent;\n",
              "      border-left-color: var(--fill-color);\n",
              "      border-top-color: var(--fill-color);\n",
              "      border-right-color: var(--fill-color);\n",
              "    }\n",
              "    40% {\n",
              "      border-color: transparent;\n",
              "      border-right-color: var(--fill-color);\n",
              "      border-top-color: var(--fill-color);\n",
              "    }\n",
              "    60% {\n",
              "      border-color: transparent;\n",
              "      border-right-color: var(--fill-color);\n",
              "    }\n",
              "    80% {\n",
              "      border-color: transparent;\n",
              "      border-right-color: var(--fill-color);\n",
              "      border-bottom-color: var(--fill-color);\n",
              "    }\n",
              "    90% {\n",
              "      border-color: transparent;\n",
              "      border-bottom-color: var(--fill-color);\n",
              "    }\n",
              "  }\n",
              "</style>\n",
              "\n",
              "  <script>\n",
              "    async function quickchart(key) {\n",
              "      const quickchartButtonEl =\n",
              "        document.querySelector('#' + key + ' button');\n",
              "      quickchartButtonEl.disabled = true;  // To prevent multiple clicks.\n",
              "      quickchartButtonEl.classList.add('colab-df-spinner');\n",
              "      try {\n",
              "        const charts = await google.colab.kernel.invokeFunction(\n",
              "            'suggestCharts', [key], {});\n",
              "      } catch (error) {\n",
              "        console.error('Error during call to suggestCharts:', error);\n",
              "      }\n",
              "      quickchartButtonEl.classList.remove('colab-df-spinner');\n",
              "      quickchartButtonEl.classList.add('colab-df-quickchart-complete');\n",
              "    }\n",
              "    (() => {\n",
              "      let quickchartButtonEl =\n",
              "        document.querySelector('#df-58d1a3fb-1dd9-4f01-b7fc-791899eb83e7 button');\n",
              "      quickchartButtonEl.style.display =\n",
              "        google.colab.kernel.accessAllowed ? 'block' : 'none';\n",
              "    })();\n",
              "  </script>\n",
              "</div>\n",
              "\n",
              "    </div>\n",
              "  </div>\n"
            ],
            "application/vnd.google.colaboratory.intrinsic+json": {
              "type": "dataframe",
              "variable_name": "df",
              "summary": "{\n  \"name\": \"df\",\n  \"rows\": 101,\n  \"fields\": [\n    {\n      \"column\": \"Date\",\n      \"properties\": {\n        \"dtype\": \"object\",\n        \"num_unique_values\": 101,\n        \"samples\": [\n          \"2020-05-30\",\n          \"2018-06-04\",\n          \"2019-01-11\"\n        ],\n        \"semantic_type\": \"\",\n        \"description\": \"\"\n      }\n    },\n    {\n      \"column\": \"Time (UTC)\",\n      \"properties\": {\n        \"dtype\": \"object\",\n        \"num_unique_values\": 97,\n        \"samples\": [\n          \"13:51:00\",\n          \"12:37:00\",\n          \"0:27:00\"\n        ],\n        \"semantic_type\": \"\",\n        \"description\": \"\"\n      }\n    },\n    {\n      \"column\": \"Booster_Version\",\n      \"properties\": {\n        \"dtype\": \"string\",\n        \"num_unique_values\": 97,\n        \"samples\": [\n          \"F9 B5 B1049.2\",\n          \"F9 FT  B1035.2\",\n          \"F9 B5B1061.1 \"\n        ],\n        \"semantic_type\": \"\",\n        \"description\": \"\"\n      }\n    },\n    {\n      \"column\": \"Launch_Site\",\n      \"properties\": {\n        \"dtype\": \"category\",\n        \"num_unique_values\": 4,\n        \"samples\": [\n          \"VAFB SLC-4E\",\n          \"CCAFS SLC-40\",\n          \"CCAFS LC-40\"\n        ],\n        \"semantic_type\": \"\",\n        \"description\": \"\"\n      }\n    },\n    {\n      \"column\": \"Payload\",\n      \"properties\": {\n        \"dtype\": \"string\",\n        \"num_unique_values\": 101,\n        \"samples\": [\n          \"Crew Dragon Demo-2, Starlink 7 v1.0 \",\n          \"SES-12\",\n          \"Iridium NEXT-8\"\n        ],\n        \"semantic_type\": \"\",\n        \"description\": \"\"\n      }\n    },\n    {\n      \"column\": \"PAYLOAD_MASS__KG_\",\n      \"properties\": {\n        \"dtype\": \"number\",\n        \"std\": 4900,\n        \"min\": 0,\n        \"max\": 15600,\n        \"num_unique_values\": 78,\n        \"samples\": [\n          6761,\n          0,\n          3310\n        ],\n        \"semantic_type\": \"\",\n        \"description\": \"\"\n      }\n    },\n    {\n      \"column\": \"Orbit\",\n      \"properties\": {\n        \"dtype\": \"category\",\n        \"num_unique_values\": 8,\n        \"samples\": [\n          \"LEO (ISS)\",\n          \"SSO\",\n          \"LEO\"\n        ],\n        \"semantic_type\": \"\",\n        \"description\": \"\"\n      }\n    },\n    {\n      \"column\": \"Customer\",\n      \"properties\": {\n        \"dtype\": \"string\",\n        \"num_unique_values\": 53,\n        \"samples\": [\n          \"Intelsat\",\n          \"Sky Perfect JSAT, Kacific 1\",\n          \"SpaceX, Spaceflight Industries (BlackSky), Planet Labs\"\n        ],\n        \"semantic_type\": \"\",\n        \"description\": \"\"\n      }\n    },\n    {\n      \"column\": \"Mission_Outcome\",\n      \"properties\": {\n        \"dtype\": \"category\",\n        \"num_unique_values\": 4,\n        \"samples\": [\n          \"Failure (in flight)\",\n          \"Success \",\n          \"Success\"\n        ],\n        \"semantic_type\": \"\",\n        \"description\": \"\"\n      }\n    },\n    {\n      \"column\": \"Landing_Outcome\",\n      \"properties\": {\n        \"dtype\": \"category\",\n        \"num_unique_values\": 11,\n        \"samples\": [\n          \"Precluded (drone ship)\",\n          \"Failure (parachute)\",\n          \"Failure\"\n        ],\n        \"semantic_type\": \"\",\n        \"description\": \"\"\n      }\n    }\n  ]\n}"
            }
          },
          "metadata": {},
          "execution_count": 8
        }
      ]
    },
    {
      "cell_type": "code",
      "source": [
        "# Import SQLite and load the SQL extension in Colab\n",
        "import sqlite3\n",
        "import pandas as pd\n",
        "from sqlalchemy import create_engine\n",
        "\n",
        "# Load the SQL extension for use in Google Colab\n",
        "%reload_ext sql\n"
      ],
      "metadata": {
        "id": "LqwGoRjYvoAu"
      },
      "execution_count": 14,
      "outputs": []
    },
    {
      "cell_type": "code",
      "source": [
        "import csv, sqlite3\n",
        "import prettytable\n",
        "prettytable.DEFAULT = 'DEFAULT'\n",
        "\n",
        "con = sqlite3.connect(\"my_data1.db\")\n",
        "cur = con.cursor()"
      ],
      "metadata": {
        "id": "E_FgQ8K5w7PS"
      },
      "execution_count": 19,
      "outputs": []
    },
    {
      "cell_type": "code",
      "source": [
        "\n",
        "\n",
        "# Save the DataFrame into the SQLite database table named \"SPACEXTBL\"\n",
        "df.to_sql(\"SPACEXTBL\", con, if_exists='replace', index=False, method=\"multi\")\n"
      ],
      "metadata": {
        "colab": {
          "base_uri": "https://localhost:8080/"
        },
        "id": "Gujfwl8Pvtdb",
        "outputId": "1cb88dfe-c842-434f-e13a-c9cfc9a1d5ca"
      },
      "execution_count": 20,
      "outputs": [
        {
          "output_type": "execute_result",
          "data": {
            "text/plain": [
              "101"
            ]
          },
          "metadata": {},
          "execution_count": 20
        }
      ]
    },
    {
      "cell_type": "code",
      "source": [
        "# Drop the table if it already exists (optional)\n",
        "%sql DROP TABLE IF EXISTS SPACEXTABLE;\n",
        "\n",
        "# Create a new table excluding rows where \"Date\" is NULL\n",
        "%sql CREATE TABLE SPACEXTABLE AS SELECT * FROM SPACEXTBL WHERE \"Date\" IS NOT NULL;\n"
      ],
      "metadata": {
        "colab": {
          "base_uri": "https://localhost:8080/"
        },
        "id": "sntHJcd-wYA5",
        "outputId": "6d8dbab0-daa0-4968-89af-4e78bb0a788a"
      },
      "execution_count": 18,
      "outputs": [
        {
          "output_type": "stream",
          "name": "stdout",
          "text": [
            " * sqlite:///my_data1.db\n",
            "Done.\n",
            " * sqlite:///my_data1.db\n",
            "Done.\n"
          ]
        },
        {
          "output_type": "execute_result",
          "data": {
            "text/plain": [
              "[]"
            ]
          },
          "metadata": {},
          "execution_count": 18
        }
      ]
    },
    {
      "cell_type": "code",
      "source": [
        "#Task 24 Retrieve Unique Launch Sites\n",
        "%sql SELECT DISTINCT \"Launch_Site\" FROM SPACEXTABLE;"
      ],
      "metadata": {
        "colab": {
          "base_uri": "https://localhost:8080/",
          "height": 160
        },
        "id": "DP7VV-HkwZb9",
        "outputId": "a6102dd1-3ced-449a-ac17-4e1975bd8ff7"
      },
      "execution_count": 21,
      "outputs": [
        {
          "output_type": "stream",
          "name": "stdout",
          "text": [
            " * sqlite:///my_data1.db\n",
            "Done.\n"
          ]
        },
        {
          "output_type": "execute_result",
          "data": {
            "text/plain": [
              "[('CCAFS LC-40',), ('VAFB SLC-4E',), ('KSC LC-39A',), ('CCAFS SLC-40',)]"
            ],
            "text/html": [
              "<table>\n",
              "    <thead>\n",
              "        <tr>\n",
              "            <th>Launch_Site</th>\n",
              "        </tr>\n",
              "    </thead>\n",
              "    <tbody>\n",
              "        <tr>\n",
              "            <td>CCAFS LC-40</td>\n",
              "        </tr>\n",
              "        <tr>\n",
              "            <td>VAFB SLC-4E</td>\n",
              "        </tr>\n",
              "        <tr>\n",
              "            <td>KSC LC-39A</td>\n",
              "        </tr>\n",
              "        <tr>\n",
              "            <td>CCAFS SLC-40</td>\n",
              "        </tr>\n",
              "    </tbody>\n",
              "</table>"
            ]
          },
          "metadata": {},
          "execution_count": 21
        }
      ]
    },
    {
      "cell_type": "code",
      "source": [
        "#Task 25 Query to select 5 records where the launch site begins with 'CCA'\n",
        "%sql SELECT * FROM SPACEXTABLE WHERE \"Launch_Site\" LIKE 'CCA%' LIMIT 5;\n"
      ],
      "metadata": {
        "colab": {
          "base_uri": "https://localhost:8080/",
          "height": 286
        },
        "id": "UyXeulXBxMYB",
        "outputId": "25ba50a4-472b-42a3-8b62-62015441bc68"
      },
      "execution_count": 22,
      "outputs": [
        {
          "output_type": "stream",
          "name": "stdout",
          "text": [
            " * sqlite:///my_data1.db\n",
            "Done.\n"
          ]
        },
        {
          "output_type": "execute_result",
          "data": {
            "text/plain": [
              "[('2010-06-04', '18:45:00', 'F9 v1.0  B0003', 'CCAFS LC-40', 'Dragon Spacecraft Qualification Unit', 0, 'LEO', 'SpaceX', 'Success', 'Failure (parachute)'),\n",
              " ('2010-12-08', '15:43:00', 'F9 v1.0  B0004', 'CCAFS LC-40', 'Dragon demo flight C1, two CubeSats, barrel of Brouere cheese', 0, 'LEO (ISS)', 'NASA (COTS) NRO', 'Success', 'Failure (parachute)'),\n",
              " ('2012-05-22', '7:44:00', 'F9 v1.0  B0005', 'CCAFS LC-40', 'Dragon demo flight C2', 525, 'LEO (ISS)', 'NASA (COTS)', 'Success', 'No attempt'),\n",
              " ('2012-10-08', '0:35:00', 'F9 v1.0  B0006', 'CCAFS LC-40', 'SpaceX CRS-1', 500, 'LEO (ISS)', 'NASA (CRS)', 'Success', 'No attempt'),\n",
              " ('2013-03-01', '15:10:00', 'F9 v1.0  B0007', 'CCAFS LC-40', 'SpaceX CRS-2', 677, 'LEO (ISS)', 'NASA (CRS)', 'Success', 'No attempt')]"
            ],
            "text/html": [
              "<table>\n",
              "    <thead>\n",
              "        <tr>\n",
              "            <th>Date</th>\n",
              "            <th>Time (UTC)</th>\n",
              "            <th>Booster_Version</th>\n",
              "            <th>Launch_Site</th>\n",
              "            <th>Payload</th>\n",
              "            <th>PAYLOAD_MASS__KG_</th>\n",
              "            <th>Orbit</th>\n",
              "            <th>Customer</th>\n",
              "            <th>Mission_Outcome</th>\n",
              "            <th>Landing_Outcome</th>\n",
              "        </tr>\n",
              "    </thead>\n",
              "    <tbody>\n",
              "        <tr>\n",
              "            <td>2010-06-04</td>\n",
              "            <td>18:45:00</td>\n",
              "            <td>F9 v1.0  B0003</td>\n",
              "            <td>CCAFS LC-40</td>\n",
              "            <td>Dragon Spacecraft Qualification Unit</td>\n",
              "            <td>0</td>\n",
              "            <td>LEO</td>\n",
              "            <td>SpaceX</td>\n",
              "            <td>Success</td>\n",
              "            <td>Failure (parachute)</td>\n",
              "        </tr>\n",
              "        <tr>\n",
              "            <td>2010-12-08</td>\n",
              "            <td>15:43:00</td>\n",
              "            <td>F9 v1.0  B0004</td>\n",
              "            <td>CCAFS LC-40</td>\n",
              "            <td>Dragon demo flight C1, two CubeSats, barrel of Brouere cheese</td>\n",
              "            <td>0</td>\n",
              "            <td>LEO (ISS)</td>\n",
              "            <td>NASA (COTS) NRO</td>\n",
              "            <td>Success</td>\n",
              "            <td>Failure (parachute)</td>\n",
              "        </tr>\n",
              "        <tr>\n",
              "            <td>2012-05-22</td>\n",
              "            <td>7:44:00</td>\n",
              "            <td>F9 v1.0  B0005</td>\n",
              "            <td>CCAFS LC-40</td>\n",
              "            <td>Dragon demo flight C2</td>\n",
              "            <td>525</td>\n",
              "            <td>LEO (ISS)</td>\n",
              "            <td>NASA (COTS)</td>\n",
              "            <td>Success</td>\n",
              "            <td>No attempt</td>\n",
              "        </tr>\n",
              "        <tr>\n",
              "            <td>2012-10-08</td>\n",
              "            <td>0:35:00</td>\n",
              "            <td>F9 v1.0  B0006</td>\n",
              "            <td>CCAFS LC-40</td>\n",
              "            <td>SpaceX CRS-1</td>\n",
              "            <td>500</td>\n",
              "            <td>LEO (ISS)</td>\n",
              "            <td>NASA (CRS)</td>\n",
              "            <td>Success</td>\n",
              "            <td>No attempt</td>\n",
              "        </tr>\n",
              "        <tr>\n",
              "            <td>2013-03-01</td>\n",
              "            <td>15:10:00</td>\n",
              "            <td>F9 v1.0  B0007</td>\n",
              "            <td>CCAFS LC-40</td>\n",
              "            <td>SpaceX CRS-2</td>\n",
              "            <td>677</td>\n",
              "            <td>LEO (ISS)</td>\n",
              "            <td>NASA (CRS)</td>\n",
              "            <td>Success</td>\n",
              "            <td>No attempt</td>\n",
              "        </tr>\n",
              "    </tbody>\n",
              "</table>"
            ]
          },
          "metadata": {},
          "execution_count": 22
        }
      ]
    },
    {
      "cell_type": "code",
      "source": [
        "#Task 26 Calculate Total Payload Mass for NASA (CRS)\n",
        "%sql SELECT SUM(\"PAYLOAD_MASS__KG_\") AS total_payload_mass FROM SPACEXTABLE WHERE \"Customer\" = 'NASA (CRS)';"
      ],
      "metadata": {
        "colab": {
          "base_uri": "https://localhost:8080/",
          "height": 96
        },
        "id": "mHj0c18jxf5o",
        "outputId": "1ad73ac8-71a6-4c85-fa5c-f637a9b80317"
      },
      "execution_count": 25,
      "outputs": [
        {
          "output_type": "stream",
          "name": "stdout",
          "text": [
            " * sqlite:///my_data1.db\n",
            "Done.\n"
          ]
        },
        {
          "output_type": "execute_result",
          "data": {
            "text/plain": [
              "[(45596,)]"
            ],
            "text/html": [
              "<table>\n",
              "    <thead>\n",
              "        <tr>\n",
              "            <th>total_payload_mass</th>\n",
              "        </tr>\n",
              "    </thead>\n",
              "    <tbody>\n",
              "        <tr>\n",
              "            <td>45596</td>\n",
              "        </tr>\n",
              "    </tbody>\n",
              "</table>"
            ]
          },
          "metadata": {},
          "execution_count": 25
        }
      ]
    },
    {
      "cell_type": "code",
      "source": [
        "#Task 27 Query to calculate the average payload mass for booster version F9 v1.1\n",
        "%sql SELECT AVG(\"PAYLOAD_MASS__KG_\") AS avg_payload_mass FROM SPACEXTABLE WHERE \"Booster_Version\" = 'F9 v1.1';\n"
      ],
      "metadata": {
        "colab": {
          "base_uri": "https://localhost:8080/",
          "height": 96
        },
        "id": "nX9dn5Xgx-bd",
        "outputId": "86d85d16-59a6-4d64-f300-ff5a7b5a99ff"
      },
      "execution_count": 27,
      "outputs": [
        {
          "output_type": "stream",
          "name": "stdout",
          "text": [
            " * sqlite:///my_data1.db\n",
            "Done.\n"
          ]
        },
        {
          "output_type": "execute_result",
          "data": {
            "text/plain": [
              "[(2928.4,)]"
            ],
            "text/html": [
              "<table>\n",
              "    <thead>\n",
              "        <tr>\n",
              "            <th>avg_payload_mass</th>\n",
              "        </tr>\n",
              "    </thead>\n",
              "    <tbody>\n",
              "        <tr>\n",
              "            <td>2928.4</td>\n",
              "        </tr>\n",
              "    </tbody>\n",
              "</table>"
            ]
          },
          "metadata": {},
          "execution_count": 27
        }
      ]
    },
    {
      "cell_type": "code",
      "source": [
        "#Task 28 Query to get the date of the first successful landing outcome on the ground pad (True RTLS)\n",
        "%sql SELECT MIN(\"Date\") AS first_successful_landing_on_ground_pad FROM SPACEXTABLE WHERE \"Landing_Outcome\" = 'True RTLS';\n"
      ],
      "metadata": {
        "colab": {
          "base_uri": "https://localhost:8080/",
          "height": 96
        },
        "id": "-CLcS7WLyLBc",
        "outputId": "8f62cd7f-7f21-486d-b9f2-027dc26d543f"
      },
      "execution_count": 28,
      "outputs": [
        {
          "output_type": "stream",
          "name": "stdout",
          "text": [
            " * sqlite:///my_data1.db\n",
            "Done.\n"
          ]
        },
        {
          "output_type": "execute_result",
          "data": {
            "text/plain": [
              "[(None,)]"
            ],
            "text/html": [
              "<table>\n",
              "    <thead>\n",
              "        <tr>\n",
              "            <th>first_successful_landing_on_ground_pad</th>\n",
              "        </tr>\n",
              "    </thead>\n",
              "    <tbody>\n",
              "        <tr>\n",
              "            <td>None</td>\n",
              "        </tr>\n",
              "    </tbody>\n",
              "</table>"
            ]
          },
          "metadata": {},
          "execution_count": 28
        }
      ]
    },
    {
      "cell_type": "code",
      "source": [
        "#Task 29 Query to list the names of the boosters that have successful drone ship landing\n",
        "# and payload mass between 4000 and 6000\n",
        "%sql SELECT DISTINCT \"Booster_Version\" FROM SPACEXTABLE WHERE \"Landing_Outcome\" = 'True ASDS' AND \"PAYLOAD_MASS__KG_\" > 4000 AND \"PAYLOAD_MASS__KG_\" < 6000;\n"
      ],
      "metadata": {
        "colab": {
          "base_uri": "https://localhost:8080/",
          "height": 75
        },
        "id": "vIPi0blmyWsk",
        "outputId": "abecfafa-b57b-457f-ed7b-b161611cef52"
      },
      "execution_count": 29,
      "outputs": [
        {
          "output_type": "stream",
          "name": "stdout",
          "text": [
            " * sqlite:///my_data1.db\n",
            "Done.\n"
          ]
        },
        {
          "output_type": "execute_result",
          "data": {
            "text/plain": [
              "[]"
            ],
            "text/html": [
              "<table>\n",
              "    <thead>\n",
              "        <tr>\n",
              "            <th>Booster_Version</th>\n",
              "        </tr>\n",
              "    </thead>\n",
              "    <tbody>\n",
              "    </tbody>\n",
              "</table>"
            ]
          },
          "metadata": {},
          "execution_count": 29
        }
      ]
    },
    {
      "cell_type": "code",
      "source": [
        "#Task 30 Query to count the total number of successful and failed mission outcomes\n",
        "%sql SELECT \"Mission_Outcome\", COUNT(*) FROM SPACEXTABLE GROUP BY \"Mission_Outcome\";\n"
      ],
      "metadata": {
        "colab": {
          "base_uri": "https://localhost:8080/",
          "height": 160
        },
        "id": "4DKlo2rBymZ7",
        "outputId": "d441fc3a-6d95-482d-fce3-74bda088356e"
      },
      "execution_count": 30,
      "outputs": [
        {
          "output_type": "stream",
          "name": "stdout",
          "text": [
            " * sqlite:///my_data1.db\n",
            "Done.\n"
          ]
        },
        {
          "output_type": "execute_result",
          "data": {
            "text/plain": [
              "[('Failure (in flight)', 1),\n",
              " ('Success', 98),\n",
              " ('Success ', 1),\n",
              " ('Success (payload status unclear)', 1)]"
            ],
            "text/html": [
              "<table>\n",
              "    <thead>\n",
              "        <tr>\n",
              "            <th>Mission_Outcome</th>\n",
              "            <th>COUNT(*)</th>\n",
              "        </tr>\n",
              "    </thead>\n",
              "    <tbody>\n",
              "        <tr>\n",
              "            <td>Failure (in flight)</td>\n",
              "            <td>1</td>\n",
              "        </tr>\n",
              "        <tr>\n",
              "            <td>Success</td>\n",
              "            <td>98</td>\n",
              "        </tr>\n",
              "        <tr>\n",
              "            <td>Success </td>\n",
              "            <td>1</td>\n",
              "        </tr>\n",
              "        <tr>\n",
              "            <td>Success (payload status unclear)</td>\n",
              "            <td>1</td>\n",
              "        </tr>\n",
              "    </tbody>\n",
              "</table>"
            ]
          },
          "metadata": {},
          "execution_count": 30
        }
      ]
    },
    {
      "cell_type": "code",
      "source": [
        "#Task 31 Find the Booster Version with Maximum Payload Mass\n",
        "%sql SELECT \"Booster_Version\" FROM SPACEXTABLE WHERE \"PAYLOAD_MASS__KG_\" = (SELECT MAX(\"PAYLOAD_MASS__KG_\") FROM SPACEXTABLE);"
      ],
      "metadata": {
        "colab": {
          "base_uri": "https://localhost:8080/",
          "height": 331
        },
        "id": "HMgtN1ptyvoi",
        "outputId": "fc2971c8-465d-4cd0-b778-39aed93940a4"
      },
      "execution_count": 32,
      "outputs": [
        {
          "output_type": "stream",
          "name": "stdout",
          "text": [
            " * sqlite:///my_data1.db\n",
            "Done.\n"
          ]
        },
        {
          "output_type": "execute_result",
          "data": {
            "text/plain": [
              "[('F9 B5 B1048.4',),\n",
              " ('F9 B5 B1049.4',),\n",
              " ('F9 B5 B1051.3',),\n",
              " ('F9 B5 B1056.4',),\n",
              " ('F9 B5 B1048.5',),\n",
              " ('F9 B5 B1051.4',),\n",
              " ('F9 B5 B1049.5',),\n",
              " ('F9 B5 B1060.2 ',),\n",
              " ('F9 B5 B1058.3 ',),\n",
              " ('F9 B5 B1051.6',),\n",
              " ('F9 B5 B1060.3',),\n",
              " ('F9 B5 B1049.7 ',)]"
            ],
            "text/html": [
              "<table>\n",
              "    <thead>\n",
              "        <tr>\n",
              "            <th>Booster_Version</th>\n",
              "        </tr>\n",
              "    </thead>\n",
              "    <tbody>\n",
              "        <tr>\n",
              "            <td>F9 B5 B1048.4</td>\n",
              "        </tr>\n",
              "        <tr>\n",
              "            <td>F9 B5 B1049.4</td>\n",
              "        </tr>\n",
              "        <tr>\n",
              "            <td>F9 B5 B1051.3</td>\n",
              "        </tr>\n",
              "        <tr>\n",
              "            <td>F9 B5 B1056.4</td>\n",
              "        </tr>\n",
              "        <tr>\n",
              "            <td>F9 B5 B1048.5</td>\n",
              "        </tr>\n",
              "        <tr>\n",
              "            <td>F9 B5 B1051.4</td>\n",
              "        </tr>\n",
              "        <tr>\n",
              "            <td>F9 B5 B1049.5</td>\n",
              "        </tr>\n",
              "        <tr>\n",
              "            <td>F9 B5 B1060.2 </td>\n",
              "        </tr>\n",
              "        <tr>\n",
              "            <td>F9 B5 B1058.3 </td>\n",
              "        </tr>\n",
              "        <tr>\n",
              "            <td>F9 B5 B1051.6</td>\n",
              "        </tr>\n",
              "        <tr>\n",
              "            <td>F9 B5 B1060.3</td>\n",
              "        </tr>\n",
              "        <tr>\n",
              "            <td>F9 B5 B1049.7 </td>\n",
              "        </tr>\n",
              "    </tbody>\n",
              "</table>"
            ]
          },
          "metadata": {},
          "execution_count": 32
        }
      ]
    },
    {
      "cell_type": "code",
      "source": [
        "#Task 32 Retrieve Launch Data for Failures on Drone Ship in 2015, Grouped by Month\n",
        "%sql SELECT \\\n",
        "CASE \\\n",
        "WHEN substr(\"Date\", 6, 2) = '01' THEN 'January'\\\n",
        "WHEN substr(\"Date\", 6, 2) = '02' THEN 'February'\\\n",
        "WHEN substr(\"Date\", 6, 2) = '03' THEN 'March'\\\n",
        "WHEN substr(\"Date\", 6, 2) = '04' THEN 'April'\\\n",
        "WHEN substr(\"Date\", 6, 2) = '05' THEN 'May'\\\n",
        "WHEN substr(\"Date\", 6, 2) = '06' THEN 'June'\\\n",
        "WHEN substr(\"Date\", 6, 2) = '07' THEN 'July'\\\n",
        "WHEN substr(\"Date\", 6, 2) = '08' THEN 'August'\\\n",
        "WHEN substr(\"Date\", 6, 2) = '09' THEN 'September'\\\n",
        "WHEN substr(\"Date\", 6, 2) = '10' THEN 'October'\\\n",
        "WHEN substr(\"Date\", 6, 2) = '11' THEN 'November'\\\n",
        "WHEN substr(\"Date\", 6, 2) = '12' THEN 'December'\\\n",
        "ELSE 'Unknown'\\\n",
        "END AS Month,\\\n",
        "\"Landing_Outcome\", \\\n",
        "\"Booster_Version\", \\\n",
        "\"Launch_Site\"\\\n",
        "FROM SPACEXTABLE\\\n",
        "WHERE substr(\"Date\", 1, 4) = '2015' \\\n",
        "AND \"Landing_Outcome\" = 'Failure (Drone Ship)';\n"
      ],
      "metadata": {
        "colab": {
          "base_uri": "https://localhost:8080/",
          "height": 75
        },
        "id": "wa5Lt6crzIW-",
        "outputId": "762f31db-8821-4f74-bc0c-bd44df1de683"
      },
      "execution_count": 40,
      "outputs": [
        {
          "output_type": "stream",
          "name": "stdout",
          "text": [
            " * sqlite:///my_data1.db\n",
            "Done.\n"
          ]
        },
        {
          "output_type": "execute_result",
          "data": {
            "text/plain": [
              "[]"
            ],
            "text/html": [
              "<table>\n",
              "    <thead>\n",
              "        <tr>\n",
              "            <th>Month</th>\n",
              "            <th>Landing_Outcome</th>\n",
              "            <th>Booster_Version</th>\n",
              "            <th>Launch_Site</th>\n",
              "        </tr>\n",
              "    </thead>\n",
              "    <tbody>\n",
              "    </tbody>\n",
              "</table>"
            ]
          },
          "metadata": {},
          "execution_count": 40
        }
      ]
    },
    {
      "cell_type": "code",
      "source": [
        "#Task 33 Count and Group Landing Outcomes between Specific Date Range\n",
        "%sql\n",
        "%sql SELECT \"Landing_Outcome\", COUNT(*) AS Landing_Outcome_Count FROM SPACEXTABLE WHERE \"Date\" BETWEEN '2010-06-04' AND '2017-03-20' GROUP BY \"Landing_Outcome\" ORDER BY Landing_Outcome_Count DESC; GROUP BY \"Landing_Outcome\" ORDER BY Landing_Outcome_Count DESC;\n"
      ],
      "metadata": {
        "colab": {
          "base_uri": "https://localhost:8080/"
        },
        "id": "w30bC8pgz0JD",
        "outputId": "be34ac8f-da7c-4665-aed4-de382cfdbc1a"
      },
      "execution_count": 44,
      "outputs": [
        {
          "output_type": "stream",
          "name": "stdout",
          "text": [
            " * sqlite:///my_data1.db\n",
            " * sqlite:///my_data1.db\n",
            "Done.\n",
            "(sqlite3.OperationalError) near \"GROUP\": syntax error\n",
            "[SQL: GROUP BY \"Landing_Outcome\" ORDER BY Landing_Outcome_Count DESC;]\n",
            "(Background on this error at: https://sqlalche.me/e/20/e3q8)\n"
          ]
        }
      ]
    },
    {
      "cell_type": "code",
      "source": [
        "#Task 34 Visualise\n",
        "#Step 1: Install and import required packages\n",
        "!pip install seaborn pandas matplotlib\n",
        "\n",
        "# Step 2: Import libraries\n",
        "import pandas as pd\n",
        "import seaborn as sns\n",
        "import matplotlib.pyplot as plt\n",
        "import io\n",
        "import requests\n",
        "\n",
        "# Step 3: Fetch the dataset from the URL\n",
        "URL = \"https://cf-courses-data.s3.us.cloud-object-storage.appdomain.cloud/IBM-DS0321EN-SkillsNetwork/datasets/dataset_part_2.csv\"\n",
        "response = requests.get(URL)\n",
        "dataset = io.StringIO(response.text)\n",
        "\n",
        "# Step 4: Load the dataset into a DataFrame\n",
        "df = pd.read_csv(dataset)\n",
        "\n",
        "# Step 5: Create the visualization\n",
        "sns.set_style(\"whitegrid\")  # Optional: Set plot style\n",
        "sns.catplot(y=\"PayloadMass\", x=\"FlightNumber\", hue=\"Class\", data=df, aspect=5)\n",
        "plt.xlabel(\"Flight Number\", fontsize=20)\n",
        "plt.ylabel(\"Payload Mass (kg)\", fontsize=20)\n",
        "plt.title(\"Payload Mass vs. Flight Number\", fontsize=24)  # Optional: Add title\n",
        "plt.show()\n"
      ],
      "metadata": {
        "colab": {
          "base_uri": "https://localhost:8080/",
          "height": 518
        },
        "id": "qXOBFr6rD0pE",
        "outputId": "2d9c1900-dccf-4120-bb06-3588d9dd5e99"
      },
      "execution_count": 45,
      "outputs": [
        {
          "output_type": "stream",
          "name": "stdout",
          "text": [
            "Requirement already satisfied: seaborn in /usr/local/lib/python3.10/dist-packages (0.13.2)\n",
            "Requirement already satisfied: pandas in /usr/local/lib/python3.10/dist-packages (2.2.2)\n",
            "Requirement already satisfied: matplotlib in /usr/local/lib/python3.10/dist-packages (3.8.0)\n",
            "Requirement already satisfied: numpy!=1.24.0,>=1.20 in /usr/local/lib/python3.10/dist-packages (from seaborn) (1.26.4)\n",
            "Requirement already satisfied: python-dateutil>=2.8.2 in /usr/local/lib/python3.10/dist-packages (from pandas) (2.8.2)\n",
            "Requirement already satisfied: pytz>=2020.1 in /usr/local/lib/python3.10/dist-packages (from pandas) (2024.2)\n",
            "Requirement already satisfied: tzdata>=2022.7 in /usr/local/lib/python3.10/dist-packages (from pandas) (2024.2)\n",
            "Requirement already satisfied: contourpy>=1.0.1 in /usr/local/lib/python3.10/dist-packages (from matplotlib) (1.3.1)\n",
            "Requirement already satisfied: cycler>=0.10 in /usr/local/lib/python3.10/dist-packages (from matplotlib) (0.12.1)\n",
            "Requirement already satisfied: fonttools>=4.22.0 in /usr/local/lib/python3.10/dist-packages (from matplotlib) (4.55.3)\n",
            "Requirement already satisfied: kiwisolver>=1.0.1 in /usr/local/lib/python3.10/dist-packages (from matplotlib) (1.4.7)\n",
            "Requirement already satisfied: packaging>=20.0 in /usr/local/lib/python3.10/dist-packages (from matplotlib) (24.2)\n",
            "Requirement already satisfied: pillow>=6.2.0 in /usr/local/lib/python3.10/dist-packages (from matplotlib) (11.0.0)\n",
            "Requirement already satisfied: pyparsing>=2.3.1 in /usr/local/lib/python3.10/dist-packages (from matplotlib) (3.2.0)\n",
            "Requirement already satisfied: six>=1.5 in /usr/local/lib/python3.10/dist-packages (from python-dateutil>=2.8.2->pandas) (1.17.0)\n"
          ]
        },
        {
          "output_type": "display_data",
          "data": {
            "text/plain": [
              "<Figure size 2558.88x500 with 1 Axes>"
            ],
            "image/png": "[encoded data removed]"
          },
          "metadata": {}
        }
      ]
    },
    {
      "cell_type": "code",
      "source": [
        "#Task 35 Visualize Flight Number vs Launch Site with hue='Class'\n",
        "sns.catplot(x=\"FlightNumber\", y=\"LaunchSite\", hue=\"Class\", data=df, aspect=5, kind=\"strip\")\n",
        "plt.xlabel(\"Flight Number\", fontsize=15)\n",
        "plt.ylabel(\"Launch Site\", fontsize=15)\n",
        "plt.title(\"Flight Number vs. Launch Site\", fontsize=18)  # Optional title\n",
        "plt.show()\n"
      ],
      "metadata": {
        "colab": {
          "base_uri": "https://localhost:8080/",
          "height": 252
        },
        "id": "XR1Juhu4EMhe",
        "outputId": "1e4e4caa-48b9-4e80-85d0-d9abfbadfacb"
      },
      "execution_count": 46,
      "outputs": [
        {
          "output_type": "display_data",
          "data": {
            "text/plain": [
              "<Figure size 2558.88x500 with 1 Axes>"
            ],
            "image/png": "[encoded data removed]"
          },
          "metadata": {}
        }
      ]
    },
    {
      "cell_type": "code",
      "source": [
        "#Task 36 Visualize Payload Mass vs Launch Site with hue='Class'\n",
        "sns.catplot(x=\"LaunchSite\", y=\"PayloadMass\", hue=\"Class\", data=df, aspect=2, kind=\"strip\")\n",
        "plt.xlabel(\"Launch Site\", fontsize=15)\n",
        "plt.ylabel(\"Payload Mass (kg)\", fontsize=15)\n",
        "plt.title(\"Payload Mass vs. Launch Site\", fontsize=18)  # Optional title\n",
        "plt.show()\n",
        "\n"
      ],
      "metadata": {
        "colab": {
          "base_uri": "https://localhost:8080/",
          "height": 540
        },
        "id": "7kvSJQqFEk3A",
        "outputId": "eb2e88c6-899d-4b4c-de06-cd875eac400c"
      },
      "execution_count": 47,
      "outputs": [
        {
          "output_type": "display_data",
          "data": {
            "text/plain": [
              "<Figure size 1058.88x500 with 1 Axes>"
            ],
            "image/png": "[encoded data removed]"
          },
          "metadata": {}
        }
      ]
    },
    {
      "cell_type": "code",
      "source": [
        "#Task 37 Calculate success rate for each orbit type\n",
        "orbit_success_rate = df.groupby(\"Orbit\")[\"Class\"].mean().reset_index()\n",
        "orbit_success_rate.rename(columns={\"Class\": \"SuccessRate\"}, inplace=True)\n",
        "\n",
        "# Plot the bar chart\n",
        "sns.barplot(x=\"Orbit\", y=\"SuccessRate\", data=orbit_success_rate, palette=\"viridis\")\n",
        "plt.xlabel(\"Orbit Type\", fontsize=15)\n",
        "plt.ylabel(\"Success Rate\", fontsize=15)\n",
        "plt.title(\"Success Rate by Orbit Type\", fontsize=18)\n",
        "plt.xticks(rotation=45)  # Rotate x-axis labels for better readability\n",
        "plt.show()\n"
      ],
      "metadata": {
        "colab": {
          "base_uri": "https://localhost:8080/",
          "height": 613
        },
        "id": "_LqwONl_Enzz",
        "outputId": "6f1c075c-9f99-4eed-c9e0-9e8f8ffc8ae6"
      },
      "execution_count": 48,
      "outputs": [
        {
          "output_type": "stream",
          "name": "stderr",
          "text": [
            "<ipython-input-48-88cc540c637d>:6: FutureWarning: \n",
            "\n",
            "Passing `palette` without assigning `hue` is deprecated and will be removed in v0.14.0. Assign the `x` variable to `hue` and set `legend=False` for the same effect.\n",
            "\n",
            "  sns.barplot(x=\"Orbit\", y=\"SuccessRate\", data=orbit_success_rate, palette=\"viridis\")\n"
          ]
        },
        {
          "output_type": "display_data",
          "data": {
            "text/plain": [
              "<Figure size 640x480 with 1 Axes>"
            ],
            "image/png": "[encoded data removed]"
          },
          "metadata": {}
        }
      ]
    },
    {
      "cell_type": "code",
      "source": [
        "#Task 38 Create a scatter plot for FlightNumber vs Orbit\n",
        "sns.catplot(x=\"FlightNumber\", y=\"Orbit\", hue=\"Class\", data=df, kind=\"strip\", height=6, aspect=2, palette=\"coolwarm\")\n",
        "\n",
        "# Customize the plot\n",
        "plt.xlabel(\"Flight Number\", fontsize=15)\n",
        "plt.ylabel(\"Orbit Type\", fontsize=15)\n",
        "plt.title(\"Relationship between Flight Number and Orbit Type\", fontsize=18)\n",
        "plt.show()\n"
      ],
      "metadata": {
        "colab": {
          "base_uri": "https://localhost:8080/",
          "height": 586
        },
        "id": "hTF1bV1-EwaM",
        "outputId": "4c64e05b-0c8a-48c1-972d-4e1985ccaa17"
      },
      "execution_count": 49,
      "outputs": [
        {
          "output_type": "display_data",
          "data": {
            "text/plain": [
              "<Figure size 1258.88x600 with 1 Axes>"
            ],
            "image/png": "[encoded data removed]"
          },
          "metadata": {}
        }
      ]
    },
    {
      "cell_type": "code",
      "source": [
        "#Task 39 Create a scatter plot for Payload Mass vs Orbit\n",
        "sns.catplot(x=\"PayloadMass\", y=\"Orbit\", hue=\"Class\", data=df, kind=\"strip\", height=6, aspect=2, palette=\"viridis\")\n",
        "\n",
        "# Customize the plot\n",
        "plt.xlabel(\"Payload Mass (kg)\", fontsize=15)\n",
        "plt.ylabel(\"Orbit Type\", fontsize=15)\n",
        "plt.title(\"Relationship between Payload Mass and Orbit Type\", fontsize=18)\n",
        "plt.show()\n"
      ],
      "metadata": {
        "colab": {
          "base_uri": "https://localhost:8080/",
          "height": 586
        },
        "id": "cBRj4x40E3rE",
        "outputId": "9dac6aa0-a1ef-43a2-cb17-fd29aeb8a5a7"
      },
      "execution_count": 50,
      "outputs": [
        {
          "output_type": "display_data",
          "data": {
            "text/plain": [
              "<Figure size 1258.88x600 with 1 Axes>"
            ],
            "image/png": "[encoded data removed]"
          },
          "metadata": {}
        }
      ]
    },
    {
      "cell_type": "code",
      "source": [
        "#Task 40 Yearly Trend of Launch Success Rate\n",
        "#First, extract the year from the Date column\n",
        "df['Year'] = pd.to_datetime(df['Date']).dt.year\n",
        "\n",
        "# Calculate the average success rate for each year\n",
        "success_rate_per_year = df.groupby('Year')['Class'].mean()\n",
        "\n",
        "# Create a line plot to visualize the yearly trend of launch success\n",
        "plt.figure(figsize=(10, 6))\n",
        "sns.lineplot(x=success_rate_per_year.index, y=success_rate_per_year.values, marker='o')\n",
        "\n",
        "# Customize the plot\n",
        "plt.title(\"Yearly Trend of Launch Success Rate\", fontsize=18)\n",
        "plt.xlabel(\"Year\", fontsize=15)\n",
        "plt.ylabel(\"Average Success Rate\", fontsize=15)\n",
        "plt.grid(True)\n",
        "plt.show()\n"
      ],
      "metadata": {
        "colab": {
          "base_uri": "https://localhost:8080/",
          "height": 575
        },
        "id": "dG6c2pdBE_sf",
        "outputId": "8c9cebfd-3ee4-4457-ac73-23d1db4fbe77"
      },
      "execution_count": 51,
      "outputs": [
        {
          "output_type": "display_data",
          "data": {
            "text/plain": [
              "<Figure size 1000x600 with 1 Axes>"
            ],
            "image/png": "[encoded data removed]"
          },
          "metadata": {}
        }
      ]
    },
    {
      "cell_type": "code",
      "source": [
        "#Task 41 Selecting the features required for prediction\n",
        "features = df[['FlightNumber', 'PayloadMass', 'Orbit', 'LaunchSite', 'Flights',\n",
        "               'GridFins', 'Reused', 'Legs', 'LandingPad', 'Block',\n",
        "               'ReusedCount', 'Serial']]\n",
        "\n",
        "# Display the first few rows of the features DataFrame\n",
        "features.head()\n"
      ],
      "metadata": {
        "colab": {
          "base_uri": "https://localhost:8080/",
          "height": 206
        },
        "id": "lLfXg6kfFLmJ",
        "outputId": "42c81d3e-6a14-41f1-e3f8-caea8aa488d5"
      },
      "execution_count": 52,
      "outputs": [
        {
          "output_type": "execute_result",
          "data": {
            "text/plain": [
              "   FlightNumber  PayloadMass Orbit    LaunchSite  Flights  GridFins  Reused  \\\n",
              "0             1  6104.959412   LEO  CCAFS SLC 40        1     False   False   \n",
              "1             2   525.000000   LEO  CCAFS SLC 40        1     False   False   \n",
              "2             3   677.000000   ISS  CCAFS SLC 40        1     False   False   \n",
              "3             4   500.000000    PO   VAFB SLC 4E        1     False   False   \n",
              "4             5  3170.000000   GTO  CCAFS SLC 40        1     False   False   \n",
              "\n",
              "    Legs LandingPad  Block  ReusedCount Serial  \n",
              "0  False        NaN    1.0            0  B0003  \n",
              "1  False        NaN    1.0            0  B0005  \n",
              "2  False        NaN    1.0            0  B0007  \n",
              "3  False        NaN    1.0            0  B1003  \n",
              "4  False        NaN    1.0            0  B1004  "
            ],
            "text/html": [
              "\n",
              "  <div id=\"df-dbb9d9df-0732-4f5d-8d0b-66c08d08f6d9\" class=\"colab-df-container\">\n",
              "    <div>\n",
              "<style scoped>\n",
              "    .dataframe tbody tr th:only-of-type {\n",
              "        vertical-align: middle;\n",
              "    }\n",
              "\n",
              "    .dataframe tbody tr th {\n",
              "        vertical-align: top;\n",
              "    }\n",
              "\n",
              "    .dataframe thead th {\n",
              "        text-align: right;\n",
              "    }\n",
              "</style>\n",
              "<table border=\"1\" class=\"dataframe\">\n",
              "  <thead>\n",
              "    <tr style=\"text-align: right;\">\n",
              "      <th></th>\n",
              "      <th>FlightNumber</th>\n",
              "      <th>PayloadMass</th>\n",
              "      <th>Orbit</th>\n",
              "      <th>LaunchSite</th>\n",
              "      <th>Flights</th>\n",
              "      <th>GridFins</th>\n",
              "      <th>Reused</th>\n",
              "      <th>Legs</th>\n",
              "      <th>LandingPad</th>\n",
              "      <th>Block</th>\n",
              "      <th>ReusedCount</th>\n",
              "      <th>Serial</th>\n",
              "    </tr>\n",
              "  </thead>\n",
              "  <tbody>\n",
              "    <tr>\n",
              "      <th>0</th>\n",
              "      <td>1</td>\n",
              "      <td>6104.959412</td>\n",
              "      <td>LEO</td>\n",
              "      <td>CCAFS SLC 40</td>\n",
              "      <td>1</td>\n",
              "      <td>False</td>\n",
              "      <td>False</td>\n",
              "      <td>False</td>\n",
              "      <td>NaN</td>\n",
              "      <td>1.0</td>\n",
              "      <td>0</td>\n",
              "      <td>B0003</td>\n",
              "    </tr>\n",
              "    <tr>\n",
              "      <th>1</th>\n",
              "      <td>2</td>\n",
              "      <td>525.000000</td>\n",
              "      <td>LEO</td>\n",
              "      <td>CCAFS SLC 40</td>\n",
              "      <td>1</td>\n",
              "      <td>False</td>\n",
              "      <td>False</td>\n",
              "      <td>False</td>\n",
              "      <td>NaN</td>\n",
              "      <td>1.0</td>\n",
              "      <td>0</td>\n",
              "      <td>B0005</td>\n",
              "    </tr>\n",
              "    <tr>\n",
              "      <th>2</th>\n",
              "      <td>3</td>\n",
              "      <td>677.000000</td>\n",
              "      <td>ISS</td>\n",
              "      <td>CCAFS SLC 40</td>\n",
              "      <td>1</td>\n",
              "      <td>False</td>\n",
              "      <td>False</td>\n",
              "      <td>False</td>\n",
              "      <td>NaN</td>\n",
              "      <td>1.0</td>\n",
              "      <td>0</td>\n",
              "      <td>B0007</td>\n",
              "    </tr>\n",
              "    <tr>\n",
              "      <th>3</th>\n",
              "      <td>4</td>\n",
              "      <td>500.000000</td>\n",
              "      <td>PO</td>\n",
              "      <td>VAFB SLC 4E</td>\n",
              "      <td>1</td>\n",
              "      <td>False</td>\n",
              "      <td>False</td>\n",
              "      <td>False</td>\n",
              "      <td>NaN</td>\n",
              "      <td>1.0</td>\n",
              "      <td>0</td>\n",
              "      <td>B1003</td>\n",
              "    </tr>\n",
              "    <tr>\n",
              "      <th>4</th>\n",
              "      <td>5</td>\n",
              "      <td>3170.000000</td>\n",
              "      <td>GTO</td>\n",
              "      <td>CCAFS SLC 40</td>\n",
              "      <td>1</td>\n",
              "      <td>False</td>\n",
              "      <td>False</td>\n",
              "      <td>False</td>\n",
              "      <td>NaN</td>\n",
              "      <td>1.0</td>\n",
              "      <td>0</td>\n",
              "      <td>B1004</td>\n",
              "    </tr>\n",
              "  </tbody>\n",
              "</table>\n",
              "</div>\n",
              "    <div class=\"colab-df-buttons\">\n",
              "\n",
              "  <div class=\"colab-df-container\">\n",
              "    <button class=\"colab-df-convert\" onclick=\"convertToInteractive('df-dbb9d9df-0732-4f5d-8d0b-66c08d08f6d9')\"\n",
              "            title=\"Convert this dataframe to an interactive table.\"\n",
              "            style=\"display:none;\">\n",
              "\n",
              "  <svg xmlns=\"http://www.w3.org/2000/svg\" height=\"24px\" viewBox=\"0 -960 960 960\">\n",
              "    <path d=\"M120-120v-720h720v720H120Zm60-500h600v-160H180v160Zm220 220h160v-160H400v160Zm0 220h160v-160H400v160ZM180-400h160v-160H180v160Zm440 0h160v-160H620v160ZM180-180h160v-160H180v160Zm440 0h160v-160H620v160Z\"/>\n",
              "  </svg>\n",
              "    </button>\n",
              "\n",
              "  <style>\n",
              "    .colab-df-container {\n",
              "      display:flex;\n",
              "      gap: 12px;\n",
              "    }\n",
              "\n",
              "    .colab-df-convert {\n",
              "      background-color: #E8F0FE;\n",
              "      border: none;\n",
              "      border-radius: 50%;\n",
              "      cursor: pointer;\n",
              "      display: none;\n",
              "      fill: #1967D2;\n",
              "      height: 32px;\n",
              "      padding: 0 0 0 0;\n",
              "      width: 32px;\n",
              "    }\n",
              "\n",
              "    .colab-df-convert:hover {\n",
              "      background-color: #E2EBFA;\n",
              "      box-shadow: 0px 1px 2px rgba(60, 64, 67, 0.3), 0px 1px 3px 1px rgba(60, 64, 67, 0.15);\n",
              "      fill: #174EA6;\n",
              "    }\n",
              "\n",
              "    .colab-df-buttons div {\n",
              "      margin-bottom: 4px;\n",
              "    }\n",
              "\n",
              "    [theme=dark] .colab-df-convert {\n",
              "      background-color: #3B4455;\n",
              "      fill: #D2E3FC;\n",
              "    }\n",
              "\n",
              "    [theme=dark] .colab-df-convert:hover {\n",
              "      background-color: #434B5C;\n",
              "      box-shadow: 0px 1px 3px 1px rgba(0, 0, 0, 0.15);\n",
              "      filter: drop-shadow(0px 1px 2px rgba(0, 0, 0, 0.3));\n",
              "      fill: #FFFFFF;\n",
              "    }\n",
              "  </style>\n",
              "\n",
              "    <script>\n",
              "      const buttonEl =\n",
              "        document.querySelector('#df-dbb9d9df-0732-4f5d-8d0b-66c08d08f6d9 button.colab-df-convert');\n",
              "      buttonEl.style.display =\n",
              "        google.colab.kernel.accessAllowed ? 'block' : 'none';\n",
              "\n",
              "      async function convertToInteractive(key) {\n",
              "        const element = document.querySelector('#df-dbb9d9df-0732-4f5d-8d0b-66c08d08f6d9');\n",
              "        const dataTable =\n",
              "          await google.colab.kernel.invokeFunction('convertToInteractive',\n",
              "                                                    [key], {});\n",
              "        if (!dataTable) return;\n",
              "\n",
              "        const docLinkHtml = 'Like what you see? Visit the ' +\n",
              "          '<a target=\"_blank\" href=https://colab.research.google.com/notebooks/data_table.ipynb>data table notebook</a>'\n",
              "          + ' to learn more about interactive tables.';\n",
              "        element.innerHTML = '';\n",
              "        dataTable['output_type'] = 'display_data';\n",
              "        await google.colab.output.renderOutput(dataTable, element);\n",
              "        const docLink = document.createElement('div');\n",
              "        docLink.innerHTML = docLinkHtml;\n",
              "        element.appendChild(docLink);\n",
              "      }\n",
              "    </script>\n",
              "  </div>\n",
              "\n",
              "\n",
              "<div id=\"df-ace44b09-58ee-4377-8606-d0528e007ad5\">\n",
              "  <button class=\"colab-df-quickchart\" onclick=\"quickchart('df-ace44b09-58ee-4377-8606-d0528e007ad5')\"\n",
              "            title=\"Suggest charts\"\n",
              "            style=\"display:none;\">\n",
              "\n",
              "<svg xmlns=\"http://www.w3.org/2000/svg\" height=\"24px\"viewBox=\"0 0 24 24\"\n",
              "     width=\"24px\">\n",
              "    <g>\n",
              "        <path d=\"M19 3H5c-1.1 0-2 .9-2 2v14c0 1.1.9 2 2 2h14c1.1 0 2-.9 2-2V5c0-1.1-.9-2-2-2zM9 17H7v-7h2v7zm4 0h-2V7h2v10zm4 0h-2v-4h2v4z\"/>\n",
              "    </g>\n",
              "</svg>\n",
              "  </button>\n",
              "\n",
              "<style>\n",
              "  .colab-df-quickchart {\n",
              "      --bg-color: #E8F0FE;\n",
              "      --fill-color: #1967D2;\n",
              "      --hover-bg-color: #E2EBFA;\n",
              "      --hover-fill-color: #174EA6;\n",
              "      --disabled-fill-color: #AAA;\n",
              "      --disabled-bg-color: #DDD;\n",
              "  }\n",
              "\n",
              "  [theme=dark] .colab-df-quickchart {\n",
              "      --bg-color: #3B4455;\n",
              "      --fill-color: #D2E3FC;\n",
              "      --hover-bg-color: #434B5C;\n",
              "      --hover-fill-color: #FFFFFF;\n",
              "      --disabled-bg-color: #3B4455;\n",
              "      --disabled-fill-color: #666;\n",
              "  }\n",
              "\n",
              "  .colab-df-quickchart {\n",
              "    background-color: var(--bg-color);\n",
              "    border: none;\n",
              "    border-radius: 50%;\n",
              "    cursor: pointer;\n",
              "    display: none;\n",
              "    fill: var(--fill-color);\n",
              "    height: 32px;\n",
              "    padding: 0;\n",
              "    width: 32px;\n",
              "  }\n",
              "\n",
              "  .colab-df-quickchart:hover {\n",
              "    background-color: var(--hover-bg-color);\n",
              "    box-shadow: 0 1px 2px rgba(60, 64, 67, 0.3), 0 1px 3px 1px rgba(60, 64, 67, 0.15);\n",
              "    fill: var(--button-hover-fill-color);\n",
              "  }\n",
              "\n",
              "  .colab-df-quickchart-complete:disabled,\n",
              "  .colab-df-quickchart-complete:disabled:hover {\n",
              "    background-color: var(--disabled-bg-color);\n",
              "    fill: var(--disabled-fill-color);\n",
              "    box-shadow: none;\n",
              "  }\n",
              "\n",
              "  .colab-df-spinner {\n",
              "    border: 2px solid var(--fill-color);\n",
              "    border-color: transparent;\n",
              "    border-bottom-color: var(--fill-color);\n",
              "    animation:\n",
              "      spin 1s steps(1) infinite;\n",
              "  }\n",
              "\n",
              "  @keyframes spin {\n",
              "    0% {\n",
              "      border-color: transparent;\n",
              "      border-bottom-color: var(--fill-color);\n",
              "      border-left-color: var(--fill-color);\n",
              "    }\n",
              "    20% {\n",
              "      border-color: transparent;\n",
              "      border-left-color: var(--fill-color);\n",
              "      border-top-color: var(--fill-color);\n",
              "    }\n",
              "    30% {\n",
              "      border-color: transparent;\n",
              "      border-left-color: var(--fill-color);\n",
              "      border-top-color: var(--fill-color);\n",
              "      border-right-color: var(--fill-color);\n",
              "    }\n",
              "    40% {\n",
              "      border-color: transparent;\n",
              "      border-right-color: var(--fill-color);\n",
              "      border-top-color: var(--fill-color);\n",
              "    }\n",
              "    60% {\n",
              "      border-color: transparent;\n",
              "      border-right-color: var(--fill-color);\n",
              "    }\n",
              "    80% {\n",
              "      border-color: transparent;\n",
              "      border-right-color: var(--fill-color);\n",
              "      border-bottom-color: var(--fill-color);\n",
              "    }\n",
              "    90% {\n",
              "      border-color: transparent;\n",
              "      border-bottom-color: var(--fill-color);\n",
              "    }\n",
              "  }\n",
              "</style>\n",
              "\n",
              "  <script>\n",
              "    async function quickchart(key) {\n",
              "      const quickchartButtonEl =\n",
              "        document.querySelector('#' + key + ' button');\n",
              "      quickchartButtonEl.disabled = true;  // To prevent multiple clicks.\n",
              "      quickchartButtonEl.classList.add('colab-df-spinner');\n",
              "      try {\n",
              "        const charts = await google.colab.kernel.invokeFunction(\n",
              "            'suggestCharts', [key], {});\n",
              "      } catch (error) {\n",
              "        console.error('Error during call to suggestCharts:', error);\n",
              "      }\n",
              "      quickchartButtonEl.classList.remove('colab-df-spinner');\n",
              "      quickchartButtonEl.classList.add('colab-df-quickchart-complete');\n",
              "    }\n",
              "    (() => {\n",
              "      let quickchartButtonEl =\n",
              "        document.querySelector('#df-ace44b09-58ee-4377-8606-d0528e007ad5 button');\n",
              "      quickchartButtonEl.style.display =\n",
              "        google.colab.kernel.accessAllowed ? 'block' : 'none';\n",
              "    })();\n",
              "  </script>\n",
              "</div>\n",
              "\n",
              "    </div>\n",
              "  </div>\n"
            ],
            "application/vnd.google.colaboratory.intrinsic+json": {
              "type": "dataframe",
              "variable_name": "features",
              "summary": "{\n  \"name\": \"features\",\n  \"rows\": 90,\n  \"fields\": [\n    {\n      \"column\": \"FlightNumber\",\n      \"properties\": {\n        \"dtype\": \"number\",\n        \"std\": 26,\n        \"min\": 1,\n        \"max\": 90,\n        \"num_unique_values\": 90,\n        \"samples\": [\n          41,\n          23,\n          56\n        ],\n        \"semantic_type\": \"\",\n        \"description\": \"\"\n      }\n    },\n    {\n      \"column\": \"PayloadMass\",\n      \"properties\": {\n        \"dtype\": \"number\",\n        \"std\": 4694.671719712728,\n        \"min\": 350.0,\n        \"max\": 15600.0,\n        \"num_unique_values\": 69,\n        \"samples\": [\n          2257.0,\n          6104.959411764706,\n          5800.0\n        ],\n        \"semantic_type\": \"\",\n        \"description\": \"\"\n      }\n    },\n    {\n      \"column\": \"Orbit\",\n      \"properties\": {\n        \"dtype\": \"category\",\n        \"num_unique_values\": 11,\n        \"samples\": [\n          \"SSO\",\n          \"LEO\",\n          \"SO\"\n        ],\n        \"semantic_type\": \"\",\n        \"description\": \"\"\n      }\n    },\n    {\n      \"column\": \"LaunchSite\",\n      \"properties\": {\n        \"dtype\": \"category\",\n        \"num_unique_values\": 3,\n        \"samples\": [\n          \"CCAFS SLC 40\",\n          \"VAFB SLC 4E\",\n          \"KSC LC 39A\"\n        ],\n        \"semantic_type\": \"\",\n        \"description\": \"\"\n      }\n    },\n    {\n      \"column\": \"Flights\",\n      \"properties\": {\n        \"dtype\": \"number\",\n        \"std\": 1,\n        \"min\": 1,\n        \"max\": 6,\n        \"num_unique_values\": 6,\n        \"samples\": [\n          1,\n          2,\n          6\n        ],\n        \"semantic_type\": \"\",\n        \"description\": \"\"\n      }\n    },\n    {\n      \"column\": \"GridFins\",\n      \"properties\": {\n        \"dtype\": \"boolean\",\n        \"num_unique_values\": 2,\n        \"samples\": [\n          true,\n          false\n        ],\n        \"semantic_type\": \"\",\n        \"description\": \"\"\n      }\n    },\n    {\n      \"column\": \"Reused\",\n      \"properties\": {\n        \"dtype\": \"boolean\",\n        \"num_unique_values\": 2,\n        \"samples\": [\n          true,\n          false\n        ],\n        \"semantic_type\": \"\",\n        \"description\": \"\"\n      }\n    },\n    {\n      \"column\": \"Legs\",\n      \"properties\": {\n        \"dtype\": \"boolean\",\n        \"num_unique_values\": 2,\n        \"samples\": [\n          true,\n          false\n        ],\n        \"semantic_type\": \"\",\n        \"description\": \"\"\n      }\n    },\n    {\n      \"column\": \"LandingPad\",\n      \"properties\": {\n        \"dtype\": \"category\",\n        \"num_unique_values\": 5,\n        \"samples\": [\n          \"5e9e3032383ecb6bb234e7ca\",\n          \"5e9e3032383ecb554034e7c9\"\n        ],\n        \"semantic_type\": \"\",\n        \"description\": \"\"\n      }\n    },\n    {\n      \"column\": \"Block\",\n      \"properties\": {\n        \"dtype\": \"number\",\n        \"std\": 1.5952880054161753,\n        \"min\": 1.0,\n        \"max\": 5.0,\n        \"num_unique_values\": 5,\n        \"samples\": [\n          2.0,\n          5.0\n        ],\n        \"semantic_type\": \"\",\n        \"description\": \"\"\n      }\n    },\n    {\n      \"column\": \"ReusedCount\",\n      \"properties\": {\n        \"dtype\": \"number\",\n        \"std\": 1,\n        \"min\": 0,\n        \"max\": 5,\n        \"num_unique_values\": 6,\n        \"samples\": [\n          0,\n          1\n        ],\n        \"semantic_type\": \"\",\n        \"description\": \"\"\n      }\n    },\n    {\n      \"column\": \"Serial\",\n      \"properties\": {\n        \"dtype\": \"string\",\n        \"num_unique_values\": 53,\n        \"samples\": [\n          \"B1021\",\n          \"B1046\"\n        ],\n        \"semantic_type\": \"\",\n        \"description\": \"\"\n      }\n    }\n  ]\n}"
            }
          },
          "metadata": {},
          "execution_count": 52
        }
      ]
    },
    {
      "cell_type": "code",
      "source": [
        "# One-hot encoding for categorical columns\n",
        "features_one_hot = pd.get_dummies(features, columns=['Orbit', 'LaunchSite', 'LandingPad', 'Serial'])\n",
        "\n",
        "# Display the first few rows of the updated DataFrame with encoded features\n",
        "features_one_hot.head()\n"
      ],
      "metadata": {
        "colab": {
          "base_uri": "https://localhost:8080/",
          "height": 273
        },
        "id": "Hzlqce43FY1E",
        "outputId": "c583f35e-3dd7-4312-a44b-8c85ef785d42"
      },
      "execution_count": 53,
      "outputs": [
        {
          "output_type": "execute_result",
          "data": {
            "text/plain": [
              "   FlightNumber  PayloadMass  Flights  GridFins  Reused   Legs  Block  \\\n",
              "0             1  6104.959412        1     False   False  False    1.0   \n",
              "1             2   525.000000        1     False   False  False    1.0   \n",
              "2             3   677.000000        1     False   False  False    1.0   \n",
              "3             4   500.000000        1     False   False  False    1.0   \n",
              "4             5  3170.000000        1     False   False  False    1.0   \n",
              "\n",
              "   ReusedCount  Orbit_ES-L1  Orbit_GEO  ...  Serial_B1048  Serial_B1049  \\\n",
              "0            0        False      False  ...         False         False   \n",
              "1            0        False      False  ...         False         False   \n",
              "2            0        False      False  ...         False         False   \n",
              "3            0        False      False  ...         False         False   \n",
              "4            0        False      False  ...         False         False   \n",
              "\n",
              "   Serial_B1050  Serial_B1051  Serial_B1054  Serial_B1056  Serial_B1058  \\\n",
              "0         False         False         False         False         False   \n",
              "1         False         False         False         False         False   \n",
              "2         False         False         False         False         False   \n",
              "3         False         False         False         False         False   \n",
              "4         False         False         False         False         False   \n",
              "\n",
              "   Serial_B1059  Serial_B1060  Serial_B1062  \n",
              "0         False         False         False  \n",
              "1         False         False         False  \n",
              "2         False         False         False  \n",
              "3         False         False         False  \n",
              "4         False         False         False  \n",
              "\n",
              "[5 rows x 80 columns]"
            ],
            "text/html": [
              "\n",
              "  <div id=\"df-f3c77aae-646c-4005-a4ca-3c0da08ff1d4\" class=\"colab-df-container\">\n",
              "    <div>\n",
              "<style scoped>\n",
              "    .dataframe tbody tr th:only-of-type {\n",
              "        vertical-align: middle;\n",
              "    }\n",
              "\n",
              "    .dataframe tbody tr th {\n",
              "        vertical-align: top;\n",
              "    }\n",
              "\n",
              "    .dataframe thead th {\n",
              "        text-align: right;\n",
              "    }\n",
              "</style>\n",
              "<table border=\"1\" class=\"dataframe\">\n",
              "  <thead>\n",
              "    <tr style=\"text-align: right;\">\n",
              "      <th></th>\n",
              "      <th>FlightNumber</th>\n",
              "      <th>PayloadMass</th>\n",
              "      <th>Flights</th>\n",
              "      <th>GridFins</th>\n",
              "      <th>Reused</th>\n",
              "      <th>Legs</th>\n",
              "      <th>Block</th>\n",
              "      <th>ReusedCount</th>\n",
              "      <th>Orbit_ES-L1</th>\n",
              "      <th>Orbit_GEO</th>\n",
              "      <th>...</th>\n",
              "      <th>Serial_B1048</th>\n",
              "      <th>Serial_B1049</th>\n",
              "      <th>Serial_B1050</th>\n",
              "      <th>Serial_B1051</th>\n",
              "      <th>Serial_B1054</th>\n",
              "      <th>Serial_B1056</th>\n",
              "      <th>Serial_B1058</th>\n",
              "      <th>Serial_B1059</th>\n",
              "      <th>Serial_B1060</th>\n",
              "      <th>Serial_B1062</th>\n",
              "    </tr>\n",
              "  </thead>\n",
              "  <tbody>\n",
              "    <tr>\n",
              "      <th>0</th>\n",
              "      <td>1</td>\n",
              "      <td>6104.959412</td>\n",
              "      <td>1</td>\n",
              "      <td>False</td>\n",
              "      <td>False</td>\n",
              "      <td>False</td>\n",
              "      <td>1.0</td>\n",
              "      <td>0</td>\n",
              "      <td>False</td>\n",
              "      <td>False</td>\n",
              "      <td>...</td>\n",
              "      <td>False</td>\n",
              "      <td>False</td>\n",
              "      <td>False</td>\n",
              "      <td>False</td>\n",
              "      <td>False</td>\n",
              "      <td>False</td>\n",
              "      <td>False</td>\n",
              "      <td>False</td>\n",
              "      <td>False</td>\n",
              "      <td>False</td>\n",
              "    </tr>\n",
              "    <tr>\n",
              "      <th>1</th>\n",
              "      <td>2</td>\n",
              "      <td>525.000000</td>\n",
              "      <td>1</td>\n",
              "      <td>False</td>\n",
              "      <td>False</td>\n",
              "      <td>False</td>\n",
              "      <td>1.0</td>\n",
              "      <td>0</td>\n",
              "      <td>False</td>\n",
              "      <td>False</td>\n",
              "      <td>...</td>\n",
              "      <td>False</td>\n",
              "      <td>False</td>\n",
              "      <td>False</td>\n",
              "      <td>False</td>\n",
              "      <td>False</td>\n",
              "      <td>False</td>\n",
              "      <td>False</td>\n",
              "      <td>False</td>\n",
              "      <td>False</td>\n",
              "      <td>False</td>\n",
              "    </tr>\n",
              "    <tr>\n",
              "      <th>2</th>\n",
              "      <td>3</td>\n",
              "      <td>677.000000</td>\n",
              "      <td>1</td>\n",
              "      <td>False</td>\n",
              "      <td>False</td>\n",
              "      <td>False</td>\n",
              "      <td>1.0</td>\n",
              "      <td>0</td>\n",
              "      <td>False</td>\n",
              "      <td>False</td>\n",
              "      <td>...</td>\n",
              "      <td>False</td>\n",
              "      <td>False</td>\n",
              "      <td>False</td>\n",
              "      <td>False</td>\n",
              "      <td>False</td>\n",
              "      <td>False</td>\n",
              "      <td>False</td>\n",
              "      <td>False</td>\n",
              "      <td>False</td>\n",
              "      <td>False</td>\n",
              "    </tr>\n",
              "    <tr>\n",
              "      <th>3</th>\n",
              "      <td>4</td>\n",
              "      <td>500.000000</td>\n",
              "      <td>1</td>\n",
              "      <td>False</td>\n",
              "      <td>False</td>\n",
              "      <td>False</td>\n",
              "      <td>1.0</td>\n",
              "      <td>0</td>\n",
              "      <td>False</td>\n",
              "      <td>False</td>\n",
              "      <td>...</td>\n",
              "      <td>False</td>\n",
              "      <td>False</td>\n",
              "      <td>False</td>\n",
              "      <td>False</td>\n",
              "      <td>False</td>\n",
              "      <td>False</td>\n",
              "      <td>False</td>\n",
              "      <td>False</td>\n",
              "      <td>False</td>\n",
              "      <td>False</td>\n",
              "    </tr>\n",
              "    <tr>\n",
              "      <th>4</th>\n",
              "      <td>5</td>\n",
              "      <td>3170.000000</td>\n",
              "      <td>1</td>\n",
              "      <td>False</td>\n",
              "      <td>False</td>\n",
              "      <td>False</td>\n",
              "      <td>1.0</td>\n",
              "      <td>0</td>\n",
              "      <td>False</td>\n",
              "      <td>False</td>\n",
              "      <td>...</td>\n",
              "      <td>False</td>\n",
              "      <td>False</td>\n",
              "      <td>False</td>\n",
              "      <td>False</td>\n",
              "      <td>False</td>\n",
              "      <td>False</td>\n",
              "      <td>False</td>\n",
              "      <td>False</td>\n",
              "      <td>False</td>\n",
              "      <td>False</td>\n",
              "    </tr>\n",
              "  </tbody>\n",
              "</table>\n",
              "<p>5 rows × 80 columns</p>\n",
              "</div>\n",
              "    <div class=\"colab-df-buttons\">\n",
              "\n",
              "  <div class=\"colab-df-container\">\n",
              "    <button class=\"colab-df-convert\" onclick=\"convertToInteractive('df-f3c77aae-646c-4005-a4ca-3c0da08ff1d4')\"\n",
              "            title=\"Convert this dataframe to an interactive table.\"\n",
              "            style=\"display:none;\">\n",
              "\n",
              "  <svg xmlns=\"http://www.w3.org/2000/svg\" height=\"24px\" viewBox=\"0 -960 960 960\">\n",
              "    <path d=\"M120-120v-720h720v720H120Zm60-500h600v-160H180v160Zm220 220h160v-160H400v160Zm0 220h160v-160H400v160ZM180-400h160v-160H180v160Zm440 0h160v-160H620v160ZM180-180h160v-160H180v160Zm440 0h160v-160H620v160Z\"/>\n",
              "  </svg>\n",
              "    </button>\n",
              "\n",
              "  <style>\n",
              "    .colab-df-container {\n",
              "      display:flex;\n",
              "      gap: 12px;\n",
              "    }\n",
              "\n",
              "    .colab-df-convert {\n",
              "      background-color: #E8F0FE;\n",
              "      border: none;\n",
              "      border-radius: 50%;\n",
              "      cursor: pointer;\n",
              "      display: none;\n",
              "      fill: #1967D2;\n",
              "      height: 32px;\n",
              "      padding: 0 0 0 0;\n",
              "      width: 32px;\n",
              "    }\n",
              "\n",
              "    .colab-df-convert:hover {\n",
              "      background-color: #E2EBFA;\n",
              "      box-shadow: 0px 1px 2px rgba(60, 64, 67, 0.3), 0px 1px 3px 1px rgba(60, 64, 67, 0.15);\n",
              "      fill: #174EA6;\n",
              "    }\n",
              "\n",
              "    .colab-df-buttons div {\n",
              "      margin-bottom: 4px;\n",
              "    }\n",
              "\n",
              "    [theme=dark] .colab-df-convert {\n",
              "      background-color: #3B4455;\n",
              "      fill: #D2E3FC;\n",
              "    }\n",
              "\n",
              "    [theme=dark] .colab-df-convert:hover {\n",
              "      background-color: #434B5C;\n",
              "      box-shadow: 0px 1px 3px 1px rgba(0, 0, 0, 0.15);\n",
              "      filter: drop-shadow(0px 1px 2px rgba(0, 0, 0, 0.3));\n",
              "      fill: #FFFFFF;\n",
              "    }\n",
              "  </style>\n",
              "\n",
              "    <script>\n",
              "      const buttonEl =\n",
              "        document.querySelector('#df-f3c77aae-646c-4005-a4ca-3c0da08ff1d4 button.colab-df-convert');\n",
              "      buttonEl.style.display =\n",
              "        google.colab.kernel.accessAllowed ? 'block' : 'none';\n",
              "\n",
              "      async function convertToInteractive(key) {\n",
              "        const element = document.querySelector('#df-f3c77aae-646c-4005-a4ca-3c0da08ff1d4');\n",
              "        const dataTable =\n",
              "          await google.colab.kernel.invokeFunction('convertToInteractive',\n",
              "                                                    [key], {});\n",
              "        if (!dataTable) return;\n",
              "\n",
              "        const docLinkHtml = 'Like what you see? Visit the ' +\n",
              "          '<a target=\"_blank\" href=https://colab.research.google.com/notebooks/data_table.ipynb>data table notebook</a>'\n",
              "          + ' to learn more about interactive tables.';\n",
              "        element.innerHTML = '';\n",
              "        dataTable['output_type'] = 'display_data';\n",
              "        await google.colab.output.renderOutput(dataTable, element);\n",
              "        const docLink = document.createElement('div');\n",
              "        docLink.innerHTML = docLinkHtml;\n",
              "        element.appendChild(docLink);\n",
              "      }\n",
              "    </script>\n",
              "  </div>\n",
              "\n",
              "\n",
              "<div id=\"df-88db830f-0c89-4a4b-9665-d9092452c93a\">\n",
              "  <button class=\"colab-df-quickchart\" onclick=\"quickchart('df-88db830f-0c89-4a4b-9665-d9092452c93a')\"\n",
              "            title=\"Suggest charts\"\n",
              "            style=\"display:none;\">\n",
              "\n",
              "<svg xmlns=\"http://www.w3.org/2000/svg\" height=\"24px\"viewBox=\"0 0 24 24\"\n",
              "     width=\"24px\">\n",
              "    <g>\n",
              "        <path d=\"M19 3H5c-1.1 0-2 .9-2 2v14c0 1.1.9 2 2 2h14c1.1 0 2-.9 2-2V5c0-1.1-.9-2-2-2zM9 17H7v-7h2v7zm4 0h-2V7h2v10zm4 0h-2v-4h2v4z\"/>\n",
              "    </g>\n",
              "</svg>\n",
              "  </button>\n",
              "\n",
              "<style>\n",
              "  .colab-df-quickchart {\n",
              "      --bg-color: #E8F0FE;\n",
              "      --fill-color: #1967D2;\n",
              "      --hover-bg-color: #E2EBFA;\n",
              "      --hover-fill-color: #174EA6;\n",
              "      --disabled-fill-color: #AAA;\n",
              "      --disabled-bg-color: #DDD;\n",
              "  }\n",
              "\n",
              "  [theme=dark] .colab-df-quickchart {\n",
              "      --bg-color: #3B4455;\n",
              "      --fill-color: #D2E3FC;\n",
              "      --hover-bg-color: #434B5C;\n",
              "      --hover-fill-color: #FFFFFF;\n",
              "      --disabled-bg-color: #3B4455;\n",
              "      --disabled-fill-color: #666;\n",
              "  }\n",
              "\n",
              "  .colab-df-quickchart {\n",
              "    background-color: var(--bg-color);\n",
              "    border: none;\n",
              "    border-radius: 50%;\n",
              "    cursor: pointer;\n",
              "    display: none;\n",
              "    fill: var(--fill-color);\n",
              "    height: 32px;\n",
              "    padding: 0;\n",
              "    width: 32px;\n",
              "  }\n",
              "\n",
              "  .colab-df-quickchart:hover {\n",
              "    background-color: var(--hover-bg-color);\n",
              "    box-shadow: 0 1px 2px rgba(60, 64, 67, 0.3), 0 1px 3px 1px rgba(60, 64, 67, 0.15);\n",
              "    fill: var(--button-hover-fill-color);\n",
              "  }\n",
              "\n",
              "  .colab-df-quickchart-complete:disabled,\n",
              "  .colab-df-quickchart-complete:disabled:hover {\n",
              "    background-color: var(--disabled-bg-color);\n",
              "    fill: var(--disabled-fill-color);\n",
              "    box-shadow: none;\n",
              "  }\n",
              "\n",
              "  .colab-df-spinner {\n",
              "    border: 2px solid var(--fill-color);\n",
              "    border-color: transparent;\n",
              "    border-bottom-color: var(--fill-color);\n",
              "    animation:\n",
              "      spin 1s steps(1) infinite;\n",
              "  }\n",
              "\n",
              "  @keyframes spin {\n",
              "    0% {\n",
              "      border-color: transparent;\n",
              "      border-bottom-color: var(--fill-color);\n",
              "      border-left-color: var(--fill-color);\n",
              "    }\n",
              "    20% {\n",
              "      border-color: transparent;\n",
              "      border-left-color: var(--fill-color);\n",
              "      border-top-color: var(--fill-color);\n",
              "    }\n",
              "    30% {\n",
              "      border-color: transparent;\n",
              "      border-left-color: var(--fill-color);\n",
              "      border-top-color: var(--fill-color);\n",
              "      border-right-color: var(--fill-color);\n",
              "    }\n",
              "    40% {\n",
              "      border-color: transparent;\n",
              "      border-right-color: var(--fill-color);\n",
              "      border-top-color: var(--fill-color);\n",
              "    }\n",
              "    60% {\n",
              "      border-color: transparent;\n",
              "      border-right-color: var(--fill-color);\n",
              "    }\n",
              "    80% {\n",
              "      border-color: transparent;\n",
              "      border-right-color: var(--fill-color);\n",
              "      border-bottom-color: var(--fill-color);\n",
              "    }\n",
              "    90% {\n",
              "      border-color: transparent;\n",
              "      border-bottom-color: var(--fill-color);\n",
              "    }\n",
              "  }\n",
              "</style>\n",
              "\n",
              "  <script>\n",
              "    async function quickchart(key) {\n",
              "      const quickchartButtonEl =\n",
              "        document.querySelector('#' + key + ' button');\n",
              "      quickchartButtonEl.disabled = true;  // To prevent multiple clicks.\n",
              "      quickchartButtonEl.classList.add('colab-df-spinner');\n",
              "      try {\n",
              "        const charts = await google.colab.kernel.invokeFunction(\n",
              "            'suggestCharts', [key], {});\n",
              "      } catch (error) {\n",
              "        console.error('Error during call to suggestCharts:', error);\n",
              "      }\n",
              "      quickchartButtonEl.classList.remove('colab-df-spinner');\n",
              "      quickchartButtonEl.classList.add('colab-df-quickchart-complete');\n",
              "    }\n",
              "    (() => {\n",
              "      let quickchartButtonEl =\n",
              "        document.querySelector('#df-88db830f-0c89-4a4b-9665-d9092452c93a button');\n",
              "      quickchartButtonEl.style.display =\n",
              "        google.colab.kernel.accessAllowed ? 'block' : 'none';\n",
              "    })();\n",
              "  </script>\n",
              "</div>\n",
              "\n",
              "    </div>\n",
              "  </div>\n"
            ],
            "application/vnd.google.colaboratory.intrinsic+json": {
              "type": "dataframe",
              "variable_name": "features_one_hot"
            }
          },
          "metadata": {},
          "execution_count": 53
        }
      ]
    },
    {
      "cell_type": "code",
      "source": [
        "# Cast the entire dataframe to float64\n",
        "features_one_hot = features_one_hot.astype('float64')\n",
        "\n",
        "# Verify the data types\n",
        "features_one_hot.dtypes\n",
        "\n"
      ],
      "metadata": {
        "colab": {
          "base_uri": "https://localhost:8080/",
          "height": 458
        },
        "id": "v9W405y9FaRE",
        "outputId": "187ecf31-c482-462e-81c3-1b7393f1508e"
      },
      "execution_count": 54,
      "outputs": [
        {
          "output_type": "execute_result",
          "data": {
            "text/plain": [
              "FlightNumber    float64\n",
              "PayloadMass     float64\n",
              "Flights         float64\n",
              "GridFins        float64\n",
              "Reused          float64\n",
              "                 ...   \n",
              "Serial_B1056    float64\n",
              "Serial_B1058    float64\n",
              "Serial_B1059    float64\n",
              "Serial_B1060    float64\n",
              "Serial_B1062    float64\n",
              "Length: 80, dtype: object"
            ],
            "text/html": [
              "<div>\n",
              "<style scoped>\n",
              "    .dataframe tbody tr th:only-of-type {\n",
              "        vertical-align: middle;\n",
              "    }\n",
              "\n",
              "    .dataframe tbody tr th {\n",
              "        vertical-align: top;\n",
              "    }\n",
              "\n",
              "    .dataframe thead th {\n",
              "        text-align: right;\n",
              "    }\n",
              "</style>\n",
              "<table border=\"1\" class=\"dataframe\">\n",
              "  <thead>\n",
              "    <tr style=\"text-align: right;\">\n",
              "      <th></th>\n",
              "      <th>0</th>\n",
              "    </tr>\n",
              "  </thead>\n",
              "  <tbody>\n",
              "    <tr>\n",
              "      <th>FlightNumber</th>\n",
              "      <td>float64</td>\n",
              "    </tr>\n",
              "    <tr>\n",
              "      <th>PayloadMass</th>\n",
              "      <td>float64</td>\n",
              "    </tr>\n",
              "    <tr>\n",
              "      <th>Flights</th>\n",
              "      <td>float64</td>\n",
              "    </tr>\n",
              "    <tr>\n",
              "      <th>GridFins</th>\n",
              "      <td>float64</td>\n",
              "    </tr>\n",
              "    <tr>\n",
              "      <th>Reused</th>\n",
              "      <td>float64</td>\n",
              "    </tr>\n",
              "    <tr>\n",
              "      <th>...</th>\n",
              "      <td>...</td>\n",
              "    </tr>\n",
              "    <tr>\n",
              "      <th>Serial_B1056</th>\n",
              "      <td>float64</td>\n",
              "    </tr>\n",
              "    <tr>\n",
              "      <th>Serial_B1058</th>\n",
              "      <td>float64</td>\n",
              "    </tr>\n",
              "    <tr>\n",
              "      <th>Serial_B1059</th>\n",
              "      <td>float64</td>\n",
              "    </tr>\n",
              "    <tr>\n",
              "      <th>Serial_B1060</th>\n",
              "      <td>float64</td>\n",
              "    </tr>\n",
              "    <tr>\n",
              "      <th>Serial_B1062</th>\n",
              "      <td>float64</td>\n",
              "    </tr>\n",
              "  </tbody>\n",
              "</table>\n",
              "<p>80 rows × 1 columns</p>\n",
              "</div><br><label><b>dtype:</b> object</label>"
            ]
          },
          "metadata": {},
          "execution_count": 54
        }
      ]
    },
    {
      "cell_type": "code",
      "source": [
        "# One hot encode the specified categorical columns\n",
        "features_one_hot = pd.get_dummies(features, columns=['Orbit', 'LaunchSite', 'LandingPad', 'Serial'])\n",
        "\n",
        "# Get the total number of columns in the features_one_hot dataframe\n",
        "total_columns = features_one_hot.shape[1]\n",
        "\n",
        "# Display the result\n",
        "print(f\"Total number of columns after one-hot encoding: {total_columns}\")\n"
      ],
      "metadata": {
        "colab": {
          "base_uri": "https://localhost:8080/"
        },
        "id": "N3sHOkmtF_QU",
        "outputId": "f30eacc9-9876-4387-9c7a-4439dc8f3bf8"
      },
      "execution_count": 55,
      "outputs": [
        {
          "output_type": "stream",
          "name": "stdout",
          "text": [
            "Total number of columns after one-hot encoding: 80\n"
          ]
        }
      ]
    },
    {
      "cell_type": "code",
      "source": [
        "#Task 42 Visualize Launch Sites and Outcomes on a Map with Distance Calculation\n",
        "import folium\n",
        "from geopy.distance import geodesic\n",
        "\n",
        "# Sample data\n",
        "launch_sites = {\n",
        "    \"CCAFS LC-40\": [28.3922, -80.6077],\n",
        "    \"KSC LC-39B\": [28.5721, -80.6480],\n",
        "    \"VAFB SLC-4E\": [34.6328, -120.6108],\n",
        "    \"CCAFS SLC-40\": [28.3922, -80.6077],\n",
        "}\n",
        "\n",
        "launch_outcomes = {\n",
        "    \"CCAFS LC-40\": {\"coordinates\": [28.3922, -80.6077], \"outcome\": \"Success\"},\n",
        "    \"KSC LC-39B\": {\"coordinates\": [28.5721, -80.6480], \"outcome\": \"Failure\"},\n",
        "    \"VAFB SLC-4E\": {\"coordinates\": [34.6328, -120.6108], \"outcome\": \"Success\"},\n",
        "    \"CCAFS SLC-40\": {\"coordinates\": [28.3922, -80.6077], \"outcome\": \"Failure\"},\n",
        "}\n",
        "\n",
        "# Create a map centered around Florida\n",
        "map_center = [28.3922, -80.6077]\n",
        "map_obj = folium.Map(location=map_center, zoom_start=6)\n",
        "\n",
        "# Mark launch sites and their outcomes\n",
        "for site, details in launch_outcomes.items():\n",
        "    outcome_color = \"green\" if details[\"outcome\"] == \"Success\" else \"red\"\n",
        "    folium.Marker(\n",
        "        location=details[\"coordinates\"],\n",
        "        popup=f\"{site} - {details['outcome']}\",\n",
        "        icon=folium.Icon(color=outcome_color, icon=\"cloud\"),\n",
        "    ).add_to(map_obj)\n",
        "\n",
        "# Function to calculate distance\n",
        "def calculate_distance(site1, site2):\n",
        "    return geodesic(site1, site2).kilometers\n",
        "\n",
        "# Example: Distance calculation between CCAFS LC-40 and KSC LC-39B\n",
        "distance = calculate_distance(launch_sites[\"CCAFS LC-40\"], launch_sites[\"KSC LC-39B\"])\n",
        "print(f\"Distance between CCAFS LC-40 and KSC LC-39B: {distance:.2f} km\")\n",
        "\n",
        "# Display the map\n",
        "map_obj\n"
      ],
      "metadata": {
        "colab": {
          "base_uri": "https://localhost:8080/",
          "height": 723
        },
        "id": "ZZqNw7yrJ8Ru",
        "outputId": "c66d1aad-9108-48fc-e4af-e2459db6ea95"
      },
      "execution_count": 1,
      "outputs": [
        {
          "output_type": "stream",
          "name": "stdout",
          "text": [
            "Distance between CCAFS LC-40 and KSC LC-39B: 20.32 km\n"
          ]
        },
        {
          "output_type": "execute_result",
          "data": {
            "text/plain": [
              "<folium.folium.Map at 0x7c4b5f9f34c0>"
            ],
            "text/html": [
              "<div style=\"width:100%;\"><div style=\"position:relative;width:100%;height:0;padding-bottom:60%;\"><span style=\"color:#565656\">Make this Notebook Trusted to load map: File -> Trust Notebook</span><iframe srcdoc=\"&lt;!DOCTYPE html&gt;\n",
              "&lt;html&gt;\n",
              "&lt;head&gt;\n",
              "    \n",
              "    &lt;meta http-equiv=&quot;content-type&quot; content=&quot;text/html; charset=UTF-8&quot; /&gt;\n",
              "    \n",
              "        &lt;script&gt;\n",
              "            L_NO_TOUCH = false;\n",
              "            L_DISABLE_3D = false;\n",
              "        &lt;/script&gt;\n",
              "    \n",
              "    &lt;style&gt;html, body {width: 100%;height: 100%;margin: 0;padding: 0;}&lt;/style&gt;\n",
              "    &lt;style&gt;#map {position:absolute;top:0;bottom:0;right:0;left:0;}&lt;/style&gt;\n",
              "    &lt;script src=&quot;https://cdn.jsdelivr.net/npm/leaflet@1.9.3/dist/leaflet.js&quot;&gt;&lt;/script&gt;\n",
              "    &lt;script src=&quot;https://code.jquery.com/jquery-3.7.1.min.js&quot;&gt;&lt;/script&gt;\n",
              "    &lt;script src=&quot;https://cdn.jsdelivr.net/npm/bootstrap@5.2.2/dist/js/bootstrap.bundle.min.js&quot;&gt;&lt;/script&gt;\n",
              "    &lt;script src=&quot;https://cdnjs.cloudflare.com/ajax/libs/Leaflet.awesome-markers/2.0.2/leaflet.awesome-markers.js&quot;&gt;&lt;/script&gt;\n",
              "    &lt;link rel=&quot;stylesheet&quot; href=&quot;https://cdn.jsdelivr.net/npm/leaflet@1.9.3/dist/leaflet.css&quot;/&gt;\n",
              "    &lt;link rel=&quot;stylesheet&quot; href=&quot;https://cdn.jsdelivr.net/npm/bootstrap@5.2.2/dist/css/bootstrap.min.css&quot;/&gt;\n",
              "    &lt;link rel=&quot;stylesheet&quot; href=&quot;https://netdna.bootstrapcdn.com/bootstrap/3.0.0/css/bootstrap-glyphicons.css&quot;/&gt;\n",
              "    &lt;link rel=&quot;stylesheet&quot; href=&quot;https://cdn.jsdelivr.net/npm/@fortawesome/fontawesome-free@6.2.0/css/all.min.css&quot;/&gt;\n",
              "    &lt;link rel=&quot;stylesheet&quot; href=&quot;https://cdnjs.cloudflare.com/ajax/libs/Leaflet.awesome-markers/2.0.2/leaflet.awesome-markers.css&quot;/&gt;\n",
              "    &lt;link rel=&quot;stylesheet&quot; href=&quot;https://cdn.jsdelivr.net/gh/python-visualization/folium/folium/templates/leaflet.awesome.rotate.min.css&quot;/&gt;\n",
              "    \n",
              "            &lt;meta name=&quot;viewport&quot; content=&quot;width=device-width,\n",
              "                initial-scale=1.0, maximum-scale=1.0, user-scalable=no&quot; /&gt;\n",
              "            &lt;style&gt;\n",
              "                #map_213f8f88d913676321967733c7ea3b2e {\n",
              "                    position: relative;\n",
              "                    width: 100.0%;\n",
              "                    height: 100.0%;\n",
              "                    left: 0.0%;\n",
              "                    top: 0.0%;\n",
              "                }\n",
              "                .leaflet-container { font-size: 1rem; }\n",
              "            &lt;/style&gt;\n",
              "        \n",
              "&lt;/head&gt;\n",
              "&lt;body&gt;\n",
              "    \n",
              "    \n",
              "            &lt;div class=&quot;folium-map&quot; id=&quot;map_213f8f88d913676321967733c7ea3b2e&quot; &gt;&lt;/div&gt;\n",
              "        \n",
              "&lt;/body&gt;\n",
              "&lt;script&gt;\n",
              "    \n",
              "    \n",
              "            var map_213f8f88d913676321967733c7ea3b2e = L.map(\n",
              "                &quot;map_213f8f88d913676321967733c7ea3b2e&quot;,\n",
              "                {\n",
              "                    center: [28.3922, -80.6077],\n",
              "                    crs: L.CRS.EPSG3857,\n",
              "                    ...{\n",
              "  &quot;zoom&quot;: 6,\n",
              "  &quot;zoomControl&quot;: true,\n",
              "  &quot;preferCanvas&quot;: false,\n",
              "}\n",
              "\n",
              "                }\n",
              "            );\n",
              "\n",
              "            \n",
              "\n",
              "        \n",
              "    \n",
              "            var tile_layer_b017c032903ec0a25fc0f65ffa67f81a = L.tileLayer(\n",
              "                &quot;https://tile.openstreetmap.org/{z}/{x}/{y}.png&quot;,\n",
              "                {\n",
              "  &quot;minZoom&quot;: 0,\n",
              "  &quot;maxZoom&quot;: 19,\n",
              "  &quot;maxNativeZoom&quot;: 19,\n",
              "  &quot;noWrap&quot;: false,\n",
              "  &quot;attribution&quot;: &quot;\\u0026copy; \\u003ca href=\\&quot;https://www.openstreetmap.org/copyright\\&quot;\\u003eOpenStreetMap\\u003c/a\\u003e contributors&quot;,\n",
              "  &quot;subdomains&quot;: &quot;abc&quot;,\n",
              "  &quot;detectRetina&quot;: false,\n",
              "  &quot;tms&quot;: false,\n",
              "  &quot;opacity&quot;: 1,\n",
              "}\n",
              "\n",
              "            );\n",
              "        \n",
              "    \n",
              "            tile_layer_b017c032903ec0a25fc0f65ffa67f81a.addTo(map_213f8f88d913676321967733c7ea3b2e);\n",
              "        \n",
              "    \n",
              "            var marker_45fbd9128a3cfcb1c666345d77037eb0 = L.marker(\n",
              "                [28.3922, -80.6077],\n",
              "                {\n",
              "}\n",
              "            ).addTo(map_213f8f88d913676321967733c7ea3b2e);\n",
              "        \n",
              "    \n",
              "            var icon_486c0512fc19f918592dd073a606584f = L.AwesomeMarkers.icon(\n",
              "                {\n",
              "  &quot;markerColor&quot;: &quot;green&quot;,\n",
              "  &quot;iconColor&quot;: &quot;white&quot;,\n",
              "  &quot;icon&quot;: &quot;cloud&quot;,\n",
              "  &quot;prefix&quot;: &quot;glyphicon&quot;,\n",
              "  &quot;extraClasses&quot;: &quot;fa-rotate-0&quot;,\n",
              "}\n",
              "            );\n",
              "            marker_45fbd9128a3cfcb1c666345d77037eb0.setIcon(icon_486c0512fc19f918592dd073a606584f);\n",
              "        \n",
              "    \n",
              "        var popup_5c8c2a96c7ebbbcdd4e475c9a17b738c = L.popup({\n",
              "  &quot;maxWidth&quot;: &quot;100%&quot;,\n",
              "});\n",
              "\n",
              "        \n",
              "            \n",
              "                var html_c350d5062e09c8b3b03c4abc2328937c = $(`&lt;div id=&quot;html_c350d5062e09c8b3b03c4abc2328937c&quot; style=&quot;width: 100.0%; height: 100.0%;&quot;&gt;CCAFS LC-40 - Success&lt;/div&gt;`)[0];\n",
              "                popup_5c8c2a96c7ebbbcdd4e475c9a17b738c.setContent(html_c350d5062e09c8b3b03c4abc2328937c);\n",
              "            \n",
              "        \n",
              "\n",
              "        marker_45fbd9128a3cfcb1c666345d77037eb0.bindPopup(popup_5c8c2a96c7ebbbcdd4e475c9a17b738c)\n",
              "        ;\n",
              "\n",
              "        \n",
              "    \n",
              "    \n",
              "            var marker_addc1fcc064df2e948e0da72b392a0c1 = L.marker(\n",
              "                [28.5721, -80.648],\n",
              "                {\n",
              "}\n",
              "            ).addTo(map_213f8f88d913676321967733c7ea3b2e);\n",
              "        \n",
              "    \n",
              "            var icon_8db9407ffac2bf4ca45b4f59d023df7b = L.AwesomeMarkers.icon(\n",
              "                {\n",
              "  &quot;markerColor&quot;: &quot;red&quot;,\n",
              "  &quot;iconColor&quot;: &quot;white&quot;,\n",
              "  &quot;icon&quot;: &quot;cloud&quot;,\n",
              "  &quot;prefix&quot;: &quot;glyphicon&quot;,\n",
              "  &quot;extraClasses&quot;: &quot;fa-rotate-0&quot;,\n",
              "}\n",
              "            );\n",
              "            marker_addc1fcc064df2e948e0da72b392a0c1.setIcon(icon_8db9407ffac2bf4ca45b4f59d023df7b);\n",
              "        \n",
              "    \n",
              "        var popup_f783e575bad72b51d9c6a4eaa65d6edb = L.popup({\n",
              "  &quot;maxWidth&quot;: &quot;100%&quot;,\n",
              "});\n",
              "\n",
              "        \n",
              "            \n",
              "                var html_9fa53f27169373bf73ecf3b2c578045d = $(`&lt;div id=&quot;html_9fa53f27169373bf73ecf3b2c578045d&quot; style=&quot;width: 100.0%; height: 100.0%;&quot;&gt;KSC LC-39B - Failure&lt;/div&gt;`)[0];\n",
              "                popup_f783e575bad72b51d9c6a4eaa65d6edb.setContent(html_9fa53f27169373bf73ecf3b2c578045d);\n",
              "            \n",
              "        \n",
              "\n",
              "        marker_addc1fcc064df2e948e0da72b392a0c1.bindPopup(popup_f783e575bad72b51d9c6a4eaa65d6edb)\n",
              "        ;\n",
              "\n",
              "        \n",
              "    \n",
              "    \n",
              "            var marker_353a6586d87ccc1ecefebaccba6c2931 = L.marker(\n",
              "                [34.6328, -120.6108],\n",
              "                {\n",
              "}\n",
              "            ).addTo(map_213f8f88d913676321967733c7ea3b2e);\n",
              "        \n",
              "    \n",
              "            var icon_089775a993b3a41cff23ac8b1d0ad1b8 = L.AwesomeMarkers.icon(\n",
              "                {\n",
              "  &quot;markerColor&quot;: &quot;green&quot;,\n",
              "  &quot;iconColor&quot;: &quot;white&quot;,\n",
              "  &quot;icon&quot;: &quot;cloud&quot;,\n",
              "  &quot;prefix&quot;: &quot;glyphicon&quot;,\n",
              "  &quot;extraClasses&quot;: &quot;fa-rotate-0&quot;,\n",
              "}\n",
              "            );\n",
              "            marker_353a6586d87ccc1ecefebaccba6c2931.setIcon(icon_089775a993b3a41cff23ac8b1d0ad1b8);\n",
              "        \n",
              "    \n",
              "        var popup_18f5faae28adc17bfddc3b910b2018f5 = L.popup({\n",
              "  &quot;maxWidth&quot;: &quot;100%&quot;,\n",
              "});\n",
              "\n",
              "        \n",
              "            \n",
              "                var html_d16887d9fdc4630d0386f7e7926a16d9 = $(`&lt;div id=&quot;html_d16887d9fdc4630d0386f7e7926a16d9&quot; style=&quot;width: 100.0%; height: 100.0%;&quot;&gt;VAFB SLC-4E - Success&lt;/div&gt;`)[0];\n",
              "                popup_18f5faae28adc17bfddc3b910b2018f5.setContent(html_d16887d9fdc4630d0386f7e7926a16d9);\n",
              "            \n",
              "        \n",
              "\n",
              "        marker_353a6586d87ccc1ecefebaccba6c2931.bindPopup(popup_18f5faae28adc17bfddc3b910b2018f5)\n",
              "        ;\n",
              "\n",
              "        \n",
              "    \n",
              "    \n",
              "            var marker_b7a4845a5a2d272ff13ab5cea68eca27 = L.marker(\n",
              "                [28.3922, -80.6077],\n",
              "                {\n",
              "}\n",
              "            ).addTo(map_213f8f88d913676321967733c7ea3b2e);\n",
              "        \n",
              "    \n",
              "            var icon_a610988e024c86fe708e3347d7d8124a = L.AwesomeMarkers.icon(\n",
              "                {\n",
              "  &quot;markerColor&quot;: &quot;red&quot;,\n",
              "  &quot;iconColor&quot;: &quot;white&quot;,\n",
              "  &quot;icon&quot;: &quot;cloud&quot;,\n",
              "  &quot;prefix&quot;: &quot;glyphicon&quot;,\n",
              "  &quot;extraClasses&quot;: &quot;fa-rotate-0&quot;,\n",
              "}\n",
              "            );\n",
              "            marker_b7a4845a5a2d272ff13ab5cea68eca27.setIcon(icon_a610988e024c86fe708e3347d7d8124a);\n",
              "        \n",
              "    \n",
              "        var popup_67fee6bc59602c22fa1ff030d2122d60 = L.popup({\n",
              "  &quot;maxWidth&quot;: &quot;100%&quot;,\n",
              "});\n",
              "\n",
              "        \n",
              "            \n",
              "                var html_81fd33637e868fdf0129ce22ee17fb21 = $(`&lt;div id=&quot;html_81fd33637e868fdf0129ce22ee17fb21&quot; style=&quot;width: 100.0%; height: 100.0%;&quot;&gt;CCAFS SLC-40 - Failure&lt;/div&gt;`)[0];\n",
              "                popup_67fee6bc59602c22fa1ff030d2122d60.setContent(html_81fd33637e868fdf0129ce22ee17fb21);\n",
              "            \n",
              "        \n",
              "\n",
              "        marker_b7a4845a5a2d272ff13ab5cea68eca27.bindPopup(popup_67fee6bc59602c22fa1ff030d2122d60)\n",
              "        ;\n",
              "\n",
              "        \n",
              "    \n",
              "&lt;/script&gt;\n",
              "&lt;/html&gt;\" style=\"position:absolute;width:100%;height:100%;left:0;top:0;border:none !important;\" allowfullscreen webkitallowfullscreen mozallowfullscreen></iframe></div></div>"
            ]
          },
          "metadata": {},
          "execution_count": 1
        }
      ]
    },
    {
      "cell_type": "code",
      "source": [
        "#Task 43 Extract and Convert the 'Class' Column to a NumPy Array\n",
        "import pandas as pd\n",
        "\n",
        "# Load the datasets\n",
        "URL1 = \"https://cf-courses-data.s3.us.cloud-object-storage.appdomain.cloud/IBM-DS0321EN-SkillsNetwork/datasets/dataset_part_2.csv\"\n",
        "URL2 = \"https://cf-courses-data.s3.us.cloud-object-storage.appdomain.cloud/IBM-DS0321EN-SkillsNetwork/datasets/dataset_part_3.csv\"\n",
        "\n",
        "# Read the datasets\n",
        "df1 = pd.read_csv(URL1)\n",
        "df2 = pd.read_csv(URL2)\n",
        "\n",
        "# Extract the 'Class' column from df1 and convert it to a NumPy array\n",
        "Y = df1['Class'].to_numpy()\n",
        "\n",
        "# Display the result\n",
        "print(\"NumPy array Y:\")\n",
        "print(Y)\n"
      ],
      "metadata": {
        "colab": {
          "base_uri": "https://localhost:8080/"
        },
        "id": "wHLRtKn0EAqL",
        "outputId": "eabf0ce6-a99d-482c-fe0c-9976c85a0f92"
      },
      "execution_count": 2,
      "outputs": [
        {
          "output_type": "stream",
          "name": "stdout",
          "text": [
            "NumPy array Y:\n",
            "[0 0 0 0 0 0 1 1 0 0 0 0 1 0 0 0 1 0 0 1 1 1 1 1 0 1 1 0 1 1 0 1 1 1 0 1 1\n",
            " 1 1 1 1 1 1 1 1 0 0 0 1 1 0 0 1 1 1 1 1 1 1 0 0 1 1 1 1 1 1 0 1 1 1 1 0 1\n",
            " 0 1 0 1 1 1 1 1 1 1 1 1 1 1 1 1]\n"
          ]
        }
      ]
    },
    {
      "cell_type": "code",
      "source": [
        "#Task 44 Standardize the Feature Data (X) after One-Hot Encoding\n",
        "from sklearn.preprocessing import StandardScaler\n",
        "\n",
        "# Assuming X is the features dataframe from previous steps\n",
        "X = df1[['FlightNumber', 'PayloadMass', 'Orbit', 'LaunchSite', 'Flights', 'GridFins', 'Reused', 'Legs', 'LandingPad', 'Block', 'ReusedCount', 'Serial']]\n",
        "\n",
        "# One-hot encode the categorical columns (if not done already)\n",
        "X = pd.get_dummies(X, columns=['Orbit', 'LaunchSite', 'LandingPad', 'Serial'])\n",
        "\n",
        "# Standardize the data\n",
        "scaler = StandardScaler()\n",
        "X = scaler.fit_transform(X)\n",
        "\n",
        "# Reassign standardized data back to X\n",
        "X = pd.DataFrame(X, columns=scaler.feature_names_in_)\n",
        "\n",
        "# Display the standardized data\n",
        "print(\"Standardized X:\")\n",
        "print(X.head())\n"
      ],
      "metadata": {
        "colab": {
          "base_uri": "https://localhost:8080/"
        },
        "id": "N1s--D2vJhZA",
        "outputId": "77495840-0442-442e-de2e-93b5840ea0fb"
      },
      "execution_count": 3,
      "outputs": [
        {
          "output_type": "stream",
          "name": "stdout",
          "text": [
            "Standardized X:\n",
            "   FlightNumber   PayloadMass   Flights  GridFins    Reused      Legs  \\\n",
            "0     -1.712912 -1.948145e-16 -0.653913 -1.870829 -0.835532 -1.933091   \n",
            "1     -1.674419 -1.195232e+00 -0.653913 -1.870829 -0.835532 -1.933091   \n",
            "2     -1.635927 -1.162673e+00 -0.653913 -1.870829 -0.835532 -1.933091   \n",
            "3     -1.597434 -1.200587e+00 -0.653913 -1.870829 -0.835532 -1.933091   \n",
            "4     -1.558942 -6.286706e-01 -0.653913 -1.870829 -0.835532 -1.933091   \n",
            "\n",
            "      Block  ReusedCount  Orbit_ES-L1  Orbit_GEO  ...  Serial_B1048  \\\n",
            "0 -1.575895     -0.97344       -0.106     -0.106  ...     -0.215666   \n",
            "1 -1.575895     -0.97344       -0.106     -0.106  ...     -0.215666   \n",
            "2 -1.575895     -0.97344       -0.106     -0.106  ...     -0.215666   \n",
            "3 -1.575895     -0.97344       -0.106     -0.106  ...     -0.215666   \n",
            "4 -1.575895     -0.97344       -0.106     -0.106  ...     -0.215666   \n",
            "\n",
            "   Serial_B1049  Serial_B1050  Serial_B1051  Serial_B1054  Serial_B1056  \\\n",
            "0     -0.267261        -0.106     -0.242536        -0.106     -0.215666   \n",
            "1     -0.267261        -0.106     -0.242536        -0.106     -0.215666   \n",
            "2     -0.267261        -0.106     -0.242536        -0.106     -0.215666   \n",
            "3     -0.267261        -0.106     -0.242536        -0.106     -0.215666   \n",
            "4     -0.267261        -0.106     -0.242536        -0.106     -0.215666   \n",
            "\n",
            "   Serial_B1058  Serial_B1059  Serial_B1060  Serial_B1062  \n",
            "0     -0.185695     -0.215666     -0.185695        -0.106  \n",
            "1     -0.185695     -0.215666     -0.185695        -0.106  \n",
            "2     -0.185695     -0.215666     -0.185695        -0.106  \n",
            "3     -0.185695     -0.215666     -0.185695        -0.106  \n",
            "4     -0.185695     -0.215666     -0.185695        -0.106  \n",
            "\n",
            "[5 rows x 80 columns]\n"
          ]
        }
      ]
    },
    {
      "cell_type": "code",
      "source": [
        "#Task 45 Split the Data into Training and Test Sets\n",
        "from sklearn.model_selection import train_test_split\n",
        "\n",
        "# Split the data into training and test sets\n",
        "X_train, X_test, Y_train, Y_test = train_test_split(X, Y, test_size=0.2, random_state=2)\n",
        "\n",
        "# Display the shapes of the resulting datasets\n",
        "print(\"X_train shape:\", X_train.shape)\n",
        "print(\"X_test shape:\", X_test.shape)\n",
        "print(\"Y_train shape:\", Y_train.shape)\n",
        "print(\"Y_test shape:\", Y_test.shape)\n"
      ],
      "metadata": {
        "colab": {
          "base_uri": "https://localhost:8080/"
        },
        "id": "LC36ivDeJsRZ",
        "outputId": "d1fc0eb5-e154-401a-a355-dc02159fa24c"
      },
      "execution_count": 4,
      "outputs": [
        {
          "output_type": "stream",
          "name": "stdout",
          "text": [
            "X_train shape: (72, 80)\n",
            "X_test shape: (18, 80)\n",
            "Y_train shape: (72,)\n",
            "Y_test shape: (18,)\n"
          ]
        }
      ]
    },
    {
      "cell_type": "code",
      "source": [
        "#Task 46 Perform Grid Search for Logistic Regression Hyperparameter Tuning\n",
        "from sklearn.linear_model import LogisticRegression\n",
        "from sklearn.model_selection import GridSearchCV\n",
        "\n",
        "# Step 1: Create a logistic regression object\n",
        "logreg = LogisticRegression(max_iter=1000)\n",
        "\n",
        "# Step 2: Define the parameter grid\n",
        "parameters = {\n",
        "    'C': [0.01, 0.1, 1, 10, 100],\n",
        "    'penalty': ['l2'],  # Only L2 is supported by default in LogisticRegression\n",
        "    'solver': ['lbfgs']  # Common solver for L2 regularization\n",
        "}\n",
        "\n",
        "# Step 3: Create a GridSearchCV object with cv=10\n",
        "logreg_cv = GridSearchCV(logreg, param_grid=parameters, cv=10, scoring='accuracy')\n",
        "\n",
        "# Step 4: Fit the GridSearchCV object to the training data\n",
        "logreg_cv.fit(X_train, Y_train)\n",
        "\n",
        "# Display the best parameters and best score\n",
        "print(\"Best parameters found:\", logreg_cv.best_params_)\n",
        "print(\"Best cross-validation accuracy:\", logreg_cv.best_score_)\n"
      ],
      "metadata": {
        "colab": {
          "base_uri": "https://localhost:8080/"
        },
        "id": "i93cXTQvJzru",
        "outputId": "eed5d5ea-7688-4ffa-a91d-c98a483fed69"
      },
      "execution_count": 5,
      "outputs": [
        {
          "output_type": "stream",
          "name": "stdout",
          "text": [
            "Best parameters found: {'C': 1, 'penalty': 'l2', 'solver': 'lbfgs'}\n",
            "Best cross-validation accuracy: 0.8214285714285714\n"
          ]
        }
      ]
    },
    {
      "cell_type": "code",
      "source": [
        "#Task 47 Calculate accuracy on the test data\n",
        "test_accuracy = logreg_cv.score(X_test, Y_test)\n",
        "\n",
        "print(f\"Accuracy on test data: {test_accuracy:.4f}\")\n"
      ],
      "metadata": {
        "colab": {
          "base_uri": "https://localhost:8080/"
        },
        "id": "fp3NJWsbJ9uR",
        "outputId": "29318da3-cc9b-41f2-8759-d8b50143cd67"
      },
      "execution_count": 6,
      "outputs": [
        {
          "output_type": "stream",
          "name": "stdout",
          "text": [
            "Accuracy on test data: 0.8333\n"
          ]
        }
      ]
    },
    {
      "cell_type": "code",
      "source": [
        "#Task 48 Perform Grid Search for Support Vector Machine (SVM) Hyperparameter Tuning\n",
        "from sklearn.svm import SVC\n",
        "from sklearn.model_selection import GridSearchCV\n",
        "\n",
        "# Define the SVM parameters for GridSearchCV\n",
        "parameters = {'C': [0.1, 1, 10, 100], 'kernel': ['linear', 'poly', 'rbf', 'sigmoid']}\n",
        "\n",
        "# Create the SVM object\n",
        "svm = SVC()\n",
        "\n",
        "# Create the GridSearchCV object with cv=10\n",
        "svm_cv = GridSearchCV(estimator=svm, param_grid=parameters, cv=10, scoring='accuracy')\n",
        "\n",
        "# Fit the GridSearchCV object to the training data\n",
        "svm_cv.fit(X_train, Y_train)\n",
        "\n",
        "# Display the best parameters and best score\n",
        "print(f\"Best Parameters: {svm_cv.best_params_}\")\n",
        "print(f\"Best Score: {svm_cv.best_score_:.4f}\")\n"
      ],
      "metadata": {
        "colab": {
          "base_uri": "https://localhost:8080/"
        },
        "id": "4A9m99W7KELr",
        "outputId": "d99ed871-c6ad-43c8-b7f6-69123c823967"
      },
      "execution_count": 7,
      "outputs": [
        {
          "output_type": "stream",
          "name": "stdout",
          "text": [
            "Best Parameters: {'C': 1, 'kernel': 'sigmoid'}\n",
            "Best Score: 0.8482\n"
          ]
        }
      ]
    },
    {
      "cell_type": "code",
      "source": [
        "#Task 49 Calculate the accuracy on the test data using the best model from GridSearchCV\n",
        "test_accuracy = svm_cv.score(X_test, Y_test)\n",
        "\n",
        "print(f\"Accuracy on test data: {test_accuracy:.4f}\")\n"
      ],
      "metadata": {
        "colab": {
          "base_uri": "https://localhost:8080/"
        },
        "id": "uVfREWukW-5i",
        "outputId": "aee55f14-59bf-4897-e744-342a4036e8ca"
      },
      "execution_count": 8,
      "outputs": [
        {
          "output_type": "stream",
          "name": "stdout",
          "text": [
            "Accuracy on test data: 0.8333\n"
          ]
        }
      ]
    },
    {
      "cell_type": "code",
      "source": [
        "#Task 50 Perform Grid Search for Decision Tree Hyperparameter Tuning\n",
        "from sklearn.tree import DecisionTreeClassifier\n",
        "from sklearn.model_selection import GridSearchCV\n",
        "\n",
        "# Create a Decision Tree Classifier object\n",
        "tree = DecisionTreeClassifier()\n",
        "\n",
        "# Define the hyperparameters to tune\n",
        "parameters = {\n",
        "    'criterion': ['gini', 'entropy'],  # Criterion for splitting\n",
        "    'max_depth': [2, 4, 6, 8, 10],     # Maximum depth of the tree\n",
        "    'min_samples_split': [2, 5, 10],   # Minimum samples required to split an internal node\n",
        "    'min_samples_leaf': [1, 2, 4]      # Minimum samples required to be at a leaf node\n",
        "}\n",
        "\n",
        "# Create a GridSearchCV object with 10-fold cross-validation\n",
        "tree_cv = GridSearchCV(tree, parameters, cv=10, scoring='accuracy')\n",
        "\n",
        "# Fit the GridSearchCV object to the training data\n",
        "tree_cv.fit(X_train, Y_train)\n",
        "\n",
        "# Print the best parameters and best score\n",
        "print(\"Best parameters found:\", tree_cv.best_params_)\n",
        "print(\"Best accuracy score from GridSearchCV:\", tree_cv.best_score_)\n"
      ],
      "metadata": {
        "colab": {
          "base_uri": "https://localhost:8080/"
        },
        "id": "Vm0k7rfkXarR",
        "outputId": "ee229a54-4835-4f53-e93f-3d187a2f5fa0"
      },
      "execution_count": 9,
      "outputs": [
        {
          "output_type": "stream",
          "name": "stdout",
          "text": [
            "Best parameters found: {'criterion': 'gini', 'max_depth': 8, 'min_samples_leaf': 4, 'min_samples_split': 2}\n",
            "Best accuracy score from GridSearchCV: 0.8714285714285713\n"
          ]
        }
      ]
    },
    {
      "cell_type": "code",
      "source": [
        "#Task 51 Calculate the accuracy of the best model on the test data\n",
        "accuracy = tree_cv.score(X_test, Y_test)\n",
        "\n",
        "# Print the accuracy\n",
        "print(\"Accuracy of the Decision Tree on test data:\", accuracy)\n",
        "\n"
      ],
      "metadata": {
        "colab": {
          "base_uri": "https://localhost:8080/"
        },
        "id": "zXfbYwCMXjDV",
        "outputId": "df00a8fd-b8b6-4ad7-ed66-17d60d0e6f0d"
      },
      "execution_count": 10,
      "outputs": [
        {
          "output_type": "stream",
          "name": "stdout",
          "text": [
            "Accuracy of the Decision Tree on test data: 0.8333333333333334\n"
          ]
        }
      ]
    },
    {
      "cell_type": "code",
      "source": [
        "#Task 52 Perform Grid Search for K-Nearest Neighbors Hyperparameter Tuning\n",
        "from sklearn.neighbors import KNeighborsClassifier\n",
        "\n",
        "# Define the parameter grid for KNN\n",
        "knn_parameters = {'n_neighbors': [3, 5, 7, 9, 11]}\n",
        "\n",
        "# Create the KNN classifier object\n",
        "knn = KNeighborsClassifier()\n",
        "\n",
        "# Create the GridSearchCV object\n",
        "from sklearn.model_selection import GridSearchCV\n",
        "knn_cv = GridSearchCV(knn, knn_parameters, cv=10)\n",
        "\n",
        "# Fit the GridSearchCV object\n",
        "knn_cv.fit(X_train, Y_train)\n",
        "\n",
        "# Display the best parameters\n",
        "print(\"Best parameters for KNN:\", knn_cv.best_params_)\n"
      ],
      "metadata": {
        "colab": {
          "base_uri": "https://localhost:8080/"
        },
        "id": "Uxk9uG2oXrhw",
        "outputId": "93c949a7-abca-4704-faac-50bc5909076c"
      },
      "execution_count": 11,
      "outputs": [
        {
          "output_type": "stream",
          "name": "stdout",
          "text": [
            "Best parameters for KNN: {'n_neighbors': 3}\n"
          ]
        }
      ]
    },
    {
      "cell_type": "code",
      "source": [
        "#Task 53 Calculate the accuracy of the KNN model on the test data using the score method\n",
        "knn_accuracy = knn_cv.score(X_test, Y_test)\n",
        "\n",
        "# Print the accuracy\n",
        "print(f\"Accuracy of KNN on the test data: {knn_accuracy * 100:.2f}%\")\n"
      ],
      "metadata": {
        "colab": {
          "base_uri": "https://localhost:8080/"
        },
        "id": "c7yZF8btXy2I",
        "outputId": "41dfeec7-6fe3-40c4-e315-e5f7f4362c3a"
      },
      "execution_count": 12,
      "outputs": [
        {
          "output_type": "stream",
          "name": "stdout",
          "text": [
            "Accuracy of KNN on the test data: 66.67%\n"
          ]
        }
      ]
    },
    {
      "cell_type": "code",
      "source": [
        "#Task 54 Compare Model Performance and Identify the Best Model Based on Accuracy\n",
        "# Get the accuracy scores for each model\n",
        "logreg_accuracy = logreg_cv.score(X_test, Y_test)\n",
        "svm_accuracy = svm_cv.score(X_test, Y_test)\n",
        "tree_accuracy = tree_cv.score(X_test, Y_test)\n",
        "knn_accuracy = knn_cv.score(X_test, Y_test)\n",
        "\n",
        "# Store the accuracy scores in a dictionary\n",
        "model_accuracies = {\n",
        "    \"Logistic Regression\": logreg_accuracy,\n",
        "    \"Support Vector Machine\": svm_accuracy,\n",
        "    \"Decision Tree\": tree_accuracy,\n",
        "    \"K-Nearest Neighbors\": knn_accuracy\n",
        "}\n",
        "\n",
        "# Find the model with the highest accuracy\n",
        "best_model = max(model_accuracies, key=model_accuracies.get)\n",
        "best_accuracy = model_accuracies[best_model]\n",
        "\n",
        "# Display the result\n",
        "print(f\"The best performing model is: {best_model} with an accuracy of {best_accuracy * 100:.2f}%\")\n"
      ],
      "metadata": {
        "colab": {
          "base_uri": "https://localhost:8080/"
        },
        "id": "6K-Z20LnX4mQ",
        "outputId": "44171eff-0275-4cec-8afc-313de809ad11"
      },
      "execution_count": 13,
      "outputs": [
        {
          "output_type": "stream",
          "name": "stdout",
          "text": [
            "The best performing model is: Logistic Regression with an accuracy of 83.33%\n"
          ]
        }
      ]
    },
    {
      "cell_type": "code",
      "source": [
        "#Task 55 Find the number of records in the test sample\n",
        "num_records_test = X_test.shape[0]  # X_test contains the features of the test set\n",
        "\n",
        "# Display the result\n",
        "print(f\"There are {num_records_test} records in the test sample.\")\n"
      ],
      "metadata": {
        "colab": {
          "base_uri": "https://localhost:8080/"
        },
        "id": "n1Bms2rhYZip",
        "outputId": "13f13465-e124-47ff-ecf3-8384d0d6e581"
      },
      "execution_count": 14,
      "outputs": [
        {
          "output_type": "stream",
          "name": "stdout",
          "text": [
            "There are 18 records in the test sample.\n"
          ]
        }
      ]
    }
  ]
}